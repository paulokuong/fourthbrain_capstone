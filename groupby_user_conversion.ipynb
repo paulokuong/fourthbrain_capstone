{
 "cells": [
  {
   "cell_type": "markdown",
   "id": "portuguese-forth",
   "metadata": {},
   "source": [
    "## Problems"
   ]
  },
  {
   "cell_type": "markdown",
   "id": "developed-lying",
   "metadata": {},
   "source": [
    "### Conversion\n",
    "1.\tIs it possible to predict customer conversion (from viewing to purchasing)?\n",
    "2.\tCan we identify “new customers”? If yes then what is the best strategy to work with them?\n",
    "3.\tWhat are the top features that define customer conversion?\n",
    "4.\tCan we explain and visualize the predictive model for customer conversion on a journey and at a session level?\n",
    "5.\tIs there a pattern and trend across product types regarding the conversion event?\n",
    "\n",
    "### Personalization\n",
    "1.\tCan we personalize the experience from customer-product interactions?\n",
    "2.\tDoes the product catalogue information help in improving customer experience?\n",
    "3.\tCan personalized shopping experience be predictively modeled?\n",
    "4.\tCan we apply transfer learning from other E-commerce data sets to our local data set?"
   ]
  },
  {
   "cell_type": "markdown",
   "id": "biological-communications",
   "metadata": {},
   "source": [
    "## Preprocessing"
   ]
  },
  {
   "cell_type": "code",
   "execution_count": 1,
   "id": "surrounded-pixel",
   "metadata": {},
   "outputs": [],
   "source": [
    "import pandas as pd\n",
    "import numpy as np\n",
    "import seaborn as sns\n",
    "from datetime import datetime\n",
    "df = pd.read_json('raw_data.json',lines=True)\n",
    "# df = pd.read_json('raw_data.json', lines=True, chunksize = 10000)"
   ]
  },
  {
   "cell_type": "code",
   "execution_count": 3,
   "id": "civil-alaska",
   "metadata": {
    "scrolled": false
   },
   "outputs": [
    {
     "data": {
      "text/plain": [
       "Index(['customerId', 'customerArea', 'customerVisitorId', 'customerLoginId',\n",
       "       'customerSessionId', 'sessionStartTime', 'sessionEndTime',\n",
       "       'customerSessionNumber', 'totals', 'attributedTotals', 'trafficSource',\n",
       "       'hits'],\n",
       "      dtype='object')"
      ]
     },
     "execution_count": 3,
     "metadata": {},
     "output_type": "execute_result"
    }
   ],
   "source": [
    "df.columns"
   ]
  },
  {
   "cell_type": "code",
   "execution_count": 110,
   "id": "velvet-maximum",
   "metadata": {},
   "outputs": [
    {
     "data": {
      "text/plain": [
       "48039"
      ]
     },
     "execution_count": 110,
     "metadata": {},
     "output_type": "execute_result"
    }
   ],
   "source": [
    "len(pd.unique(df['customerSessionId']))"
   ]
  },
  {
   "cell_type": "markdown",
   "id": "hidden-soviet",
   "metadata": {},
   "source": [
    "## Data Exploration"
   ]
  },
  {
   "cell_type": "code",
   "execution_count": 8,
   "id": "joint-memorabilia",
   "metadata": {},
   "outputs": [
    {
     "name": "stderr",
     "output_type": "stream",
     "text": [
      "/Users/paulokuong/Documents/personal/fourth_brain_course/env/lib/python3.7/site-packages/pandas/core/indexing.py:1596: SettingWithCopyWarning: \n",
      "A value is trying to be set on a copy of a slice from a DataFrame.\n",
      "Try using .loc[row_indexer,col_indexer] = value instead\n",
      "\n",
      "See the caveats in the documentation: https://pandas.pydata.org/pandas-docs/stable/user_guide/indexing.html#returning-a-view-versus-a-copy\n",
      "  self.obj[key] = _infer_fill_value(value)\n",
      "/Users/paulokuong/Documents/personal/fourth_brain_course/env/lib/python3.7/site-packages/pandas/core/indexing.py:1743: SettingWithCopyWarning: \n",
      "A value is trying to be set on a copy of a slice from a DataFrame.\n",
      "Try using .loc[row_indexer,col_indexer] = value instead\n",
      "\n",
      "See the caveats in the documentation: https://pandas.pydata.org/pandas-docs/stable/user_guide/indexing.html#returning-a-view-versus-a-copy\n",
      "  isetter(ilocs[0], value)\n",
      "/Users/paulokuong/Documents/personal/fourth_brain_course/env/lib/python3.7/site-packages/numpy/core/fromnumeric.py:3373: RuntimeWarning: Mean of empty slice.\n",
      "  out=out, **kwargs)\n"
     ]
    }
   ],
   "source": [
    "transformed_df = df[['customerId','customerVisitorId','customerSessionId',\n",
    "                     'sessionStartTime','sessionEndTime', 'customerSessionNumber']]\n",
    "transformed_df.loc[:,'deviceCategory'] = df['trafficSource'].transform(lambda x: x.get('deviceCategory',''))\n",
    "transformed_df.loc[:,'browser'] = df['trafficSource'].transform(lambda x: x.get('browser',''))\n",
    "transformed_df.loc[:,'os'] = df['trafficSource'].transform(lambda x: x.get('os',''))\n",
    "transformed_df.loc[:,'userAgent'] = df['trafficSource'].transform(lambda x: x.get('userAgent',''))\n",
    "transformed_df.loc[:,'language']=df['trafficSource'].transform(lambda x: x.get('language'))\n",
    "transformed_df.loc[:,'source']=df['trafficSource'].transform(lambda x: x.get('source'))\n",
    "transformed_df.loc[:,'has_campaign']=df['trafficSource'].transform(lambda x: 1 if x.get('campaign') is not None else 0)\n",
    "transformed_df.loc[:,'sessionStartTime'] = df['sessionStartTime'].transform(\n",
    "    lambda x: datetime.strptime(x,'%Y-%m-%d %H:%M:%S.%f %Z'))\n",
    "transformed_df.loc[:,'sessionEndTime'] = df['sessionEndTime'].transform(\n",
    "    lambda x: datetime.strptime(x,'%Y-%m-%d %H:%M:%S.%f %Z'))\n",
    "transformed_df.loc[:,'sessionDuration'] = df[['sessionStartTime','sessionEndTime']].apply(\n",
    "    lambda x: (datetime.strptime(x['sessionEndTime'],'%Y-%m-%d %H:%M:%S.%f %Z') -\n",
    "               datetime.strptime(x['sessionStartTime'],'%Y-%m-%d %H:%M:%S.%f %Z')).seconds,axis=1)\n",
    "transformed_df.loc[:,'hourOfDay'] = df['sessionStartTime'].transform(\n",
    "    lambda x: int(datetime.strptime(x,'%Y-%m-%d %H:%M:%S.%f %Z').strftime(\"%H\")))\n",
    "total_df = []\n",
    "for i in range(len(df['totals'])):\n",
    "    new_dict = {k:float(v) if 'total' in k or 'unique' in k else v for k,v in df.iloc[i]['totals'].items()}\n",
    "    total_df.append(new_dict)\n",
    "cleaned_df = pd.concat([transformed_df, pd.DataFrame(total_df)],axis=1)\n",
    "cleaned_df = cleaned_df.fillna(0)\n",
    "\n",
    "# cleaned_df = pd.get_dummies(cleaned_df,columns=['deviceCategory','browser','os','language','source'])\n",
    "all_browsers = sorted(pd.unique(cleaned_df['browser']))\n",
    "all_os = sorted(pd.unique(cleaned_df['os']))\n",
    "all_deviceCategory = sorted(pd.unique(cleaned_df['deviceCategory']))\n",
    "all_language = sorted(pd.unique(cleaned_df['language'].astype('str')))\n",
    "all_source = sorted(pd.unique(cleaned_df['source'].astype('str')))\n",
    "cleaned_df.loc[:,'browser'] = cleaned_df['browser'].transform(lambda x: all_browsers.index(x))\n",
    "cleaned_df.loc[:,'os'] = cleaned_df['os'].transform(lambda x: all_os.index(x))\n",
    "cleaned_df.loc[:,'language'] = cleaned_df['language'].transform(lambda x: all_language.index(str(x)))\n",
    "cleaned_df.loc[:,'source'] = cleaned_df['source'].transform(lambda x: all_source.index(str(x)))\n",
    "cleaned_df.loc[:,'deviceCategory'] = cleaned_df['deviceCategory'].transform(lambda x: all_deviceCategory.index(x))\n",
    "\n",
    "cleaned_df.loc[:,'bounce'] = cleaned_df['bounce'].transform(lambda x: int(x))\n",
    "cleaned_df.loc[:,'events'] = cleaned_df['events'].transform(lambda x: int(x))\n",
    "cleaned_df.loc[:,'timeOnSiteSeconds'] = cleaned_df['timeOnSite'].transform(\n",
    "    lambda x: datetime.strptime(x,'%H:%M:%S').second + \\\n",
    "    60*datetime.strptime(x,'%H:%M:%S').minute + \\\n",
    "    3600*datetime.strptime(x,'%H:%M:%S').hour)\n",
    "cleaned_df.loc[:,'newSession'] = cleaned_df['newSession'].transform(lambda x: 1 if x is True else 0)\n",
    "cleaned_df.loc[:,'has_purchase'] = cleaned_df['totalOrders'].transform(lambda x: 1 if int(x)>0 else 0)\n",
    "cleaned_df.loc[:,'productPriceMean'] = df['hits'].apply(\n",
    "    lambda x: np.nan_to_num(np.mean([np.mean([j.get('price') or 0 for j in i['product']]) for i in x])))\n",
    "cleaned_df = cleaned_df.drop(\n",
    "    columns=['sessionStartTime','sessionEndTime','userAgent','customerId','customerVisitorId','totalOrders',\n",
    "            'timeOnSite','queriesSearched','customerSessionId','totalOrderQty','uniqueOrders','totalOrderRevenue'])"
   ]
  },
  {
   "cell_type": "markdown",
   "id": "hybrid-sector",
   "metadata": {},
   "source": [
    "#### Observation \n",
    "1. Looks like we only have data for date 2020-12-02.\n",
    "2. customerArea only has Development or Production. We only want production data.\n",
    "3. Removing userAgent as we have os and browser\n",
    "4. Removing customerId since there is only one customer \"swansonhealth\" in the data.\n",
    "5. Removing sessionStartTime and sessionEndTime since we have totals.timeOnSite already.\n",
    "6. There are already aggreations for most of the import attributes in \"hits\" in \"totals\". Attributes in \"totals\" can be used for simple binary classifications. The details in \"hits\" can be use for sequence modeling.\n",
    "7. All geographical attributes in trafficSource are blank, so we can ignore them.\n",
    "8. totalOrders indicate purchase. We can create a binary label for this.\n",
    "9. There seems to be some email marketing going on because I see significant amount of data is from source \"exacttarget\", meaning lots of traffics are from people clicking on marketing email. Marketing campaign would impact the model "
   ]
  },
  {
   "cell_type": "code",
   "execution_count": 9,
   "id": "regulation-exhibit",
   "metadata": {},
   "outputs": [],
   "source": [
    "# sorted(cleaned_df.columns)\n",
    "x = cleaned_df.loc[:,list(set(cleaned_df.columns) - set('has_purchase'))]\n",
    "del x['has_purchase']\n",
    "y = cleaned_df.loc[:,['has_purchase']]"
   ]
  },
  {
   "cell_type": "code",
   "execution_count": 11,
   "id": "acknowledged-tourist",
   "metadata": {
    "scrolled": false
   },
   "outputs": [
    {
     "data": {
      "image/png": "[encoded data removed]",
      "text/plain": [
       "<Figure size 864x720 with 2 Axes>"
      ]
     },
     "metadata": {
      "needs_background": "light"
     },
     "output_type": "display_data"
    }
   ],
   "source": [
    "import matplotlib.pyplot as plt\n",
    "import seaborn as sns\n",
    "\n",
    "plt.figure(figsize=(12,10))\n",
    "cor = x.corr()\n",
    "sns.heatmap(cor)\n",
    "plt.show()"
   ]
  },
  {
   "cell_type": "code",
   "execution_count": 12,
   "id": "african-fault",
   "metadata": {
    "scrolled": false
   },
   "outputs": [
    {
     "name": "stdout",
     "output_type": "stream",
     "text": [
      "Feature \"events\" is highly related to \"totalSearches\". Remove \"events\"\n",
      "Feature \"uniqueViewProducts\" is highly related to \"totalViewProducts\". Remove \"uniqueViewProducts\"\n",
      "Feature \"totalViewProductRevenue\" is highly related to \"totalViewProducts\". Remove \"totalViewProductRevenue\"\n",
      "Feature \"uniqueRefinements\" is highly related to \"totalRefinements\". Remove \"uniqueRefinements\"\n",
      "Feature \"totalAddToCarts\" is highly related to \"totalAddToCartRevenue\". Remove \"totalAddToCarts\"\n",
      "Feature \"uniqueAddToCarts\" is highly related to \"totalAddToCartRevenue\". Remove \"uniqueAddToCarts\"\n",
      "Feature \"source\" is highly related to \"has_campaign\". Remove \"source\"\n",
      "Feature \"timeOnSiteSeconds\" is highly related to \"sessionDuration\". Remove \"timeOnSiteSeconds\"\n",
      "28\n",
      "-----\n",
      "The following columns are present in the new df:\n",
      "Index(['totalSearches', 'os', 'totalAddToCartQty', 'productPriceMean',\n",
      "       'totalViewProducts', 'deviceCategory', 'totalRefinements',\n",
      "       'totalAddToCartRevenue', 'uniqueSearches', 'browser', 'bounce',\n",
      "       'has_campaign', 'uniqueNavigations', 'sessionDuration',\n",
      "       'totalNavigations', 'totalNullSearches', 'hourOfDay', 'language',\n",
      "       'newSession', 'customerSessionNumber'],\n",
      "      dtype='object')\n",
      "The old df had 28 features. The new df has 20 features.\n"
     ]
    }
   ],
   "source": [
    "import numpy as np\n",
    "\n",
    "keep_columns = np.full((cor.shape[0],), True, dtype=bool)\n",
    "for i in range(cor.shape[0]):\n",
    "    for j in range(i+1, cor.shape[0]):\n",
    "        if np.abs(cor.iloc[i,j]) >= 0.8:\n",
    "            if keep_columns[j]:\n",
    "                keep_columns[j] = False\n",
    "                print(f'Feature \"{x.columns[j]}\" is highly related to \"{x.columns[i]}\". Remove \"{x.columns[j]}\"')\n",
    "print(len(np.full((cor.shape[0],), True, dtype=bool)))\n",
    "selected_columns = x.columns[keep_columns]\n",
    "df_out = x[selected_columns]\n",
    "print('-----')\n",
    "print('The following columns are present in the new df:')\n",
    "print(selected_columns)\n",
    "print(f'The old df had {x.shape[1]} features. The new df has {df_out.shape[1]} features.')\n"
   ]
  },
  {
   "cell_type": "code",
   "execution_count": 13,
   "id": "brief-industry",
   "metadata": {},
   "outputs": [
    {
     "name": "stderr",
     "output_type": "stream",
     "text": [
      "/Users/paulokuong/Documents/personal/fourth_brain_course/env/lib/python3.7/site-packages/ipykernel_launcher.py:14: UserWarning: FixedFormatter should only be used together with FixedLocator\n",
      "  \n",
      "/Users/paulokuong/Documents/personal/fourth_brain_course/env/lib/python3.7/site-packages/ipykernel_launcher.py:16: UserWarning: FixedFormatter should only be used together with FixedLocator\n",
      "  app.launch_new_instance()\n"
     ]
    },
    {
     "data": {
      "image/png": "[encoded data removed]",
      "text/plain": [
       "<Figure size 1440x720 with 3 Axes>"
      ]
     },
     "metadata": {
      "needs_background": "light"
     },
     "output_type": "display_data"
    }
   ],
   "source": [
    "import matplotlib.pyplot as plt\n",
    "import seaborn as sns\n",
    "\n",
    "data_red = cleaned_df[['productPriceMean','browser','source']]\n",
    "\n",
    "fig = plt.figure(figsize = (20, 10))\n",
    "j = 0\n",
    "for i in data_red.columns:\n",
    "    plt.subplot(1, 3, j+1)\n",
    "    j += 1\n",
    "    plot_obj = sns.histplot(data_red[i], color='b')\n",
    "    \n",
    "    if i=='browser':\n",
    "        plot_obj.set_xticklabels(pd.unique(transformed_df['browser']),rotation=90)\n",
    "    elif i=='source':\n",
    "        plot_obj.set_xticklabels([i or 'None' for i in pd.unique(transformed_df['source'])],rotation=90)\n",
    "        \n",
    "fig.suptitle('Product Mean Price, Browser and Source')\n",
    "fig.tight_layout()\n",
    "fig.subplots_adjust(top=0.95)\n",
    "plt.show()"
   ]
  },
  {
   "cell_type": "code",
   "execution_count": 14,
   "id": "disturbed-violation",
   "metadata": {},
   "outputs": [],
   "source": [
    "filtered_x = x[selected_columns]"
   ]
  },
  {
   "cell_type": "code",
   "execution_count": 15,
   "id": "likely-presentation",
   "metadata": {},
   "outputs": [
    {
     "name": "stderr",
     "output_type": "stream",
     "text": [
      "/Users/paulokuong/Documents/personal/fourth_brain_course/env/lib/python3.7/site-packages/ipykernel_launcher.py:7: DataConversionWarning: A column-vector y was passed when a 1d array was expected. Please change the shape of y to (n_samples,), for example using ravel().\n",
      "  import sys\n"
     ]
    },
    {
     "name": "stdout",
     "output_type": "stream",
     "text": [
      "Elapsed time to compute the importances: 60.135 seconds\n"
     ]
    }
   ],
   "source": [
    "from sklearn.inspection import permutation_importance\n",
    "import time\n",
    "from sklearn.ensemble import RandomForestClassifier\n",
    "\n",
    "feature_names = [f'feature {i}' for i in range(filtered_x.shape[1])]\n",
    "forest = RandomForestClassifier(random_state=0)\n",
    "forest.fit(filtered_x,y)\n",
    "\n",
    "start_time = time.time()\n",
    "result = permutation_importance(\n",
    "    forest, filtered_x, y, n_repeats=10, random_state=42, n_jobs=2)\n",
    "elapsed_time = time.time() - start_time\n",
    "print(f\"Elapsed time to compute the importances: \"\n",
    "      f\"{elapsed_time:.3f} seconds\")\n",
    "\n",
    "forest_importances = pd.Series(result.importances_mean, index=feature_names)"
   ]
  },
  {
   "cell_type": "code",
   "execution_count": 16,
   "id": "eleven-gibraltar",
   "metadata": {
    "scrolled": false
   },
   "outputs": [
    {
     "data": {
      "image/png": "[encoded data removed]",
      "text/plain": [
       "<Figure size 432x288 with 1 Axes>"
      ]
     },
     "metadata": {
      "needs_background": "light"
     },
     "output_type": "display_data"
    }
   ],
   "source": [
    "fig, ax = plt.subplots()\n",
    "forest_importances.plot.bar(yerr=result.importances_std, ax=ax)\n",
    "ax.set_title(\"Feature importances using permutation on full model\")\n",
    "ax.set_ylabel(\"Mean accuracy decrease\")\n",
    "fig.tight_layout()\n",
    "plt.show()"
   ]
  },
  {
   "cell_type": "code",
   "execution_count": 17,
   "id": "proper-pathology",
   "metadata": {
    "scrolled": false
   },
   "outputs": [
    {
     "data": {
      "text/html": [
       "<div>\n",
       "<style scoped>\n",
       "    .dataframe tbody tr th:only-of-type {\n",
       "        vertical-align: middle;\n",
       "    }\n",
       "\n",
       "    .dataframe tbody tr th {\n",
       "        vertical-align: top;\n",
       "    }\n",
       "\n",
       "    .dataframe thead th {\n",
       "        text-align: right;\n",
       "    }\n",
       "</style>\n",
       "<table border=\"1\" class=\"dataframe\">\n",
       "  <thead>\n",
       "    <tr style=\"text-align: right;\">\n",
       "      <th></th>\n",
       "      <th>score</th>\n",
       "      <th>feature</th>\n",
       "    </tr>\n",
       "  </thead>\n",
       "  <tbody>\n",
       "    <tr>\n",
       "      <th>feature 4</th>\n",
       "      <td>0.140319</td>\n",
       "      <td>totalViewProducts</td>\n",
       "    </tr>\n",
       "    <tr>\n",
       "      <th>feature 13</th>\n",
       "      <td>0.081405</td>\n",
       "      <td>sessionDuration</td>\n",
       "    </tr>\n",
       "    <tr>\n",
       "      <th>feature 7</th>\n",
       "      <td>0.051302</td>\n",
       "      <td>totalAddToCartRevenue</td>\n",
       "    </tr>\n",
       "    <tr>\n",
       "      <th>feature 2</th>\n",
       "      <td>0.046587</td>\n",
       "      <td>totalAddToCartQty</td>\n",
       "    </tr>\n",
       "    <tr>\n",
       "      <th>feature 3</th>\n",
       "      <td>0.029566</td>\n",
       "      <td>productPriceMean</td>\n",
       "    </tr>\n",
       "    <tr>\n",
       "      <th>feature 16</th>\n",
       "      <td>0.013762</td>\n",
       "      <td>hourOfDay</td>\n",
       "    </tr>\n",
       "    <tr>\n",
       "      <th>feature 0</th>\n",
       "      <td>0.011353</td>\n",
       "      <td>totalSearches</td>\n",
       "    </tr>\n",
       "  </tbody>\n",
       "</table>\n",
       "</div>"
      ],
      "text/plain": [
       "               score                feature\n",
       "feature 4   0.140319      totalViewProducts\n",
       "feature 13  0.081405        sessionDuration\n",
       "feature 7   0.051302  totalAddToCartRevenue\n",
       "feature 2   0.046587      totalAddToCartQty\n",
       "feature 3   0.029566       productPriceMean\n",
       "feature 16  0.013762              hourOfDay\n",
       "feature 0   0.011353          totalSearches"
      ]
     },
     "execution_count": 17,
     "metadata": {},
     "output_type": "execute_result"
    }
   ],
   "source": [
    "importances = pd.DataFrame(forest_importances, columns=['score'])\n",
    "importances = importances.sort_values(by='score', ascending=False)\n",
    "importances.loc[:,'feature'] = [filtered_x.columns[int(i.replace('feature ',''))] for i in importances.index]\n",
    "importances[importances['score']>0.01]\n",
    "x = filtered_x[list(importances[importances['score']>0.01]['feature'].values)]\n",
    "importances[importances['score']>0.01]"
   ]
  },
  {
   "cell_type": "markdown",
   "id": "sunset-legislation",
   "metadata": {},
   "source": [
    "## Model Training"
   ]
  },
  {
   "cell_type": "markdown",
   "id": "prescribed-selling",
   "metadata": {},
   "source": [
    "### Best model for recall"
   ]
  },
  {
   "cell_type": "code",
   "execution_count": 18,
   "id": "bronze-atlantic",
   "metadata": {},
   "outputs": [],
   "source": [
    "from sklearn.model_selection import train_test_split\n",
    "x_train, x_test, y_train, y_test = train_test_split(x.values, y, test_size=0.33, random_state=42)"
   ]
  },
  {
   "cell_type": "code",
   "execution_count": 19,
   "id": "received-owner",
   "metadata": {},
   "outputs": [
    {
     "name": "stderr",
     "output_type": "stream",
     "text": [
      "/Users/paulokuong/Documents/personal/fourth_brain_course/env/lib/python3.7/site-packages/tpot/builtins/__init__.py:36: UserWarning: Warning: optional dependency `torch` is not available. - skipping import of NN models.\n",
      "  warnings.warn(\"Warning: optional dependency `torch` is not available. - skipping import of NN models.\")\n"
     ]
    }
   ],
   "source": [
    "import numpy as np\n",
    "import pandas as pd\n",
    "from sklearn.tree import DecisionTreeClassifier\n",
    "from sklearn.naive_bayes import BernoulliNB\n",
    "from sklearn.model_selection import train_test_split\n",
    "from sklearn.pipeline import make_pipeline, make_union\n",
    "from sklearn.preprocessing import StandardScaler\n",
    "from tpot.builtins import StackingEstimator\n",
    "from tpot.export_utils import set_param_recursive\n",
    "from sklearn.metrics import classification_report\n",
    "\n",
    "\n",
    "exported_pipeline = make_pipeline(\n",
    "    StandardScaler(),\n",
    "    StackingEstimator(estimator=DecisionTreeClassifier(criterion='entropy', max_depth=5, min_samples_leaf=7, min_samples_split=2)),\n",
    "    BernoulliNB(alpha=10.0, fit_prior=False)\n",
    ")\n",
    "set_param_recursive(exported_pipeline.steps, 'random_state', 42)\n",
    "exported_pipeline.fit(x_train, y_train.values.ravel())\n",
    "results = exported_pipeline.predict(x_test)"
   ]
  },
  {
   "cell_type": "code",
   "execution_count": 20,
   "id": "homeless-atlas",
   "metadata": {},
   "outputs": [
    {
     "data": {
      "text/html": [
       "<div>\n",
       "<style scoped>\n",
       "    .dataframe tbody tr th:only-of-type {\n",
       "        vertical-align: middle;\n",
       "    }\n",
       "\n",
       "    .dataframe tbody tr th {\n",
       "        vertical-align: top;\n",
       "    }\n",
       "\n",
       "    .dataframe thead th {\n",
       "        text-align: right;\n",
       "    }\n",
       "</style>\n",
       "<table border=\"1\" class=\"dataframe\">\n",
       "  <thead>\n",
       "    <tr style=\"text-align: right;\">\n",
       "      <th></th>\n",
       "      <th>0</th>\n",
       "      <th>1</th>\n",
       "      <th>accuracy</th>\n",
       "      <th>macro avg</th>\n",
       "      <th>weighted avg</th>\n",
       "    </tr>\n",
       "  </thead>\n",
       "  <tbody>\n",
       "    <tr>\n",
       "      <th>precision</th>\n",
       "      <td>0.997326</td>\n",
       "      <td>0.423518</td>\n",
       "      <td>0.883744</td>\n",
       "      <td>0.710422</td>\n",
       "      <td>0.947991</td>\n",
       "    </tr>\n",
       "    <tr>\n",
       "      <th>recall</th>\n",
       "      <td>0.875155</td>\n",
       "      <td>0.975055</td>\n",
       "      <td>0.883744</td>\n",
       "      <td>0.925105</td>\n",
       "      <td>0.883744</td>\n",
       "    </tr>\n",
       "    <tr>\n",
       "      <th>f1-score</th>\n",
       "      <td>0.932255</td>\n",
       "      <td>0.590535</td>\n",
       "      <td>0.883744</td>\n",
       "      <td>0.761395</td>\n",
       "      <td>0.902875</td>\n",
       "    </tr>\n",
       "    <tr>\n",
       "      <th>support</th>\n",
       "      <td>14490.000000</td>\n",
       "      <td>1363.000000</td>\n",
       "      <td>0.883744</td>\n",
       "      <td>15853.000000</td>\n",
       "      <td>15853.000000</td>\n",
       "    </tr>\n",
       "  </tbody>\n",
       "</table>\n",
       "</div>"
      ],
      "text/plain": [
       "                      0            1  accuracy     macro avg  weighted avg\n",
       "precision      0.997326     0.423518  0.883744      0.710422      0.947991\n",
       "recall         0.875155     0.975055  0.883744      0.925105      0.883744\n",
       "f1-score       0.932255     0.590535  0.883744      0.761395      0.902875\n",
       "support    14490.000000  1363.000000  0.883744  15853.000000  15853.000000"
      ]
     },
     "execution_count": 20,
     "metadata": {},
     "output_type": "execute_result"
    }
   ],
   "source": [
    "pd.DataFrame(classification_report(y_test, results, output_dict=True))"
   ]
  },
  {
   "cell_type": "code",
   "execution_count": 55,
   "id": "mechanical-google",
   "metadata": {},
   "outputs": [],
   "source": [
    "uuu = np.concatenate([x_test[:,4][:,np.newaxis],results[:,np.newaxis]],axis=1)"
   ]
  },
  {
   "cell_type": "code",
   "execution_count": 98,
   "id": "thousand-discussion",
   "metadata": {},
   "outputs": [
    {
     "name": "stderr",
     "output_type": "stream",
     "text": [
      "/Users/paulokuong/Documents/personal/fourth_brain_course/env/lib/python3.7/site-packages/sklearn/utils/validation.py:63: DataConversionWarning: A column-vector y was passed when a 1d array was expected. Please change the shape of y to (n_samples, ), for example using ravel().\n",
      "  return f(*args, **kwargs)\n"
     ]
    },
    {
     "data": {
      "text/plain": [
       "array([[-0.17201968]])"
      ]
     },
     "execution_count": 98,
     "metadata": {},
     "output_type": "execute_result"
    }
   ],
   "source": [
    "from sklearn.linear_model import LogisticRegression\n",
    "from sklearn.pipeline import make_pipeline, Pipeline\n",
    "from sklearn.preprocessing import StandardScaler\n",
    "pipe = Pipeline([('scl', StandardScaler()), ('clf', LogisticRegression(random_state=0))])\n",
    "clf = pipe.fit(x_test[:,4][:,np.newaxis], y_test)\n",
    "classifier = clf.named_steps['clf']\n",
    "classifier.coef_"
   ]
  },
  {
   "cell_type": "code",
   "execution_count": 89,
   "id": "following-missouri",
   "metadata": {},
   "outputs": [
    {
     "data": {
      "text/plain": [
       "array([[<AxesSubplot:title={'center':'not converted'}>]], dtype=object)"
      ]
     },
     "execution_count": 89,
     "metadata": {},
     "output_type": "execute_result"
    },
    {
     "data": {
      "image/png": "[encoded data removed]",
      "text/plain": [
       "<Figure size 432x288 with 1 Axes>"
      ]
     },
     "metadata": {
      "needs_background": "light"
     },
     "output_type": "display_data"
    }
   ],
   "source": [
    "pd.DataFrame(uuu[np.where(uuu[:,1]==0),0].reshape(-1), columns=['not converted']).hist()"
   ]
  },
  {
   "cell_type": "code",
   "execution_count": 125,
   "id": "frequent-rachel",
   "metadata": {},
   "outputs": [],
   "source": [
    "df['hits'][0][0]['product'][0]['sku']\n",
    "unique_ids = []\n",
    "for x in df['hits']:\n",
    "    for y in x:\n",
    "        products = y['product']\n",
    "        for p in products:\n",
    "            unique_ids.append(p.get('sku'))\n",
    "all_ids = set(unique_ids)"
   ]
  },
  {
   "cell_type": "code",
   "execution_count": 349,
   "id": "offensive-florist",
   "metadata": {},
   "outputs": [
    {
     "data": {
      "application/vnd.jupyter.widget-view+json": {
       "model_id": "",
       "version_major": 2,
       "version_minor": 0
      },
      "text/plain": [
       "Optimization Progress:   0%|          | 0/300 [00:00<?, ?pipeline/s]"
      ]
     },
     "metadata": {},
     "output_type": "display_data"
    },
    {
     "name": "stdout",
     "output_type": "stream",
     "text": [
      "\n",
      "Generation 1 - Current best internal CV score: 0.9398465000865601\n",
      "\n",
      "Generation 2 - Current best internal CV score: 0.949155878713268\n",
      "\n",
      "Generation 3 - Current best internal CV score: 0.9577490526477772\n",
      "\n",
      "Generation 4 - Current best internal CV score: 0.9577490526477772\n",
      "\n",
      "Generation 5 - Current best internal CV score: 0.9749341181449209\n",
      "\n",
      "Best pipeline: BernoulliNB(DecisionTreeClassifier(StandardScaler(input_matrix), criterion=entropy, max_depth=5, min_samples_leaf=7, min_samples_split=2), alpha=10.0, fit_prior=False)\n"
     ]
    },
    {
     "data": {
      "text/plain": [
       "TPOTClassifier(generations=5, population_size=50, random_state=42,\n",
       "               scoring='recall', verbosity=2)"
      ]
     },
     "execution_count": 349,
     "metadata": {},
     "output_type": "execute_result"
    }
   ],
   "source": [
    "from tpot import TPOTClassifier\n",
    "tpot = TPOTClassifier(generations=5, population_size=50, verbosity=2, random_state=42, scoring=\"recall\")\n",
    "tpot.fit(x_train, y_train.values.ravel())"
   ]
  },
  {
   "cell_type": "code",
   "execution_count": 350,
   "id": "interesting-charge",
   "metadata": {
    "scrolled": true
   },
   "outputs": [
    {
     "data": {
      "text/html": [
       "<div>\n",
       "<style scoped>\n",
       "    .dataframe tbody tr th:only-of-type {\n",
       "        vertical-align: middle;\n",
       "    }\n",
       "\n",
       "    .dataframe tbody tr th {\n",
       "        vertical-align: top;\n",
       "    }\n",
       "\n",
       "    .dataframe thead th {\n",
       "        text-align: right;\n",
       "    }\n",
       "</style>\n",
       "<table border=\"1\" class=\"dataframe\">\n",
       "  <thead>\n",
       "    <tr style=\"text-align: right;\">\n",
       "      <th></th>\n",
       "      <th>0</th>\n",
       "      <th>1</th>\n",
       "      <th>accuracy</th>\n",
       "      <th>macro avg</th>\n",
       "      <th>weighted avg</th>\n",
       "    </tr>\n",
       "  </thead>\n",
       "  <tbody>\n",
       "    <tr>\n",
       "      <th>precision</th>\n",
       "      <td>0.997636</td>\n",
       "      <td>0.421835</td>\n",
       "      <td>0.882861</td>\n",
       "      <td>0.709736</td>\n",
       "      <td>0.948131</td>\n",
       "    </tr>\n",
       "    <tr>\n",
       "      <th>recall</th>\n",
       "      <td>0.873913</td>\n",
       "      <td>0.977990</td>\n",
       "      <td>0.882861</td>\n",
       "      <td>0.925951</td>\n",
       "      <td>0.882861</td>\n",
       "    </tr>\n",
       "    <tr>\n",
       "      <th>f1-score</th>\n",
       "      <td>0.931685</td>\n",
       "      <td>0.589432</td>\n",
       "      <td>0.882861</td>\n",
       "      <td>0.760559</td>\n",
       "      <td>0.902259</td>\n",
       "    </tr>\n",
       "    <tr>\n",
       "      <th>support</th>\n",
       "      <td>14490.000000</td>\n",
       "      <td>1363.000000</td>\n",
       "      <td>0.882861</td>\n",
       "      <td>15853.000000</td>\n",
       "      <td>15853.000000</td>\n",
       "    </tr>\n",
       "  </tbody>\n",
       "</table>\n",
       "</div>"
      ],
      "text/plain": [
       "                      0            1  accuracy     macro avg  weighted avg\n",
       "precision      0.997636     0.421835  0.882861      0.709736      0.948131\n",
       "recall         0.873913     0.977990  0.882861      0.925951      0.882861\n",
       "f1-score       0.931685     0.589432  0.882861      0.760559      0.902259\n",
       "support    14490.000000  1363.000000  0.882861  15853.000000  15853.000000"
      ]
     },
     "execution_count": 350,
     "metadata": {},
     "output_type": "execute_result"
    }
   ],
   "source": [
    "predictions = tpot.predict(x_test)\n",
    "pd.DataFrame(classification_report(y_test, predictions, output_dict=True))"
   ]
  },
  {
   "cell_type": "markdown",
   "id": "future-great",
   "metadata": {},
   "source": [
    "## Best F1"
   ]
  },
  {
   "cell_type": "code",
   "execution_count": 14,
   "id": "completed-necklace",
   "metadata": {},
   "outputs": [
    {
     "data": {
      "application/vnd.jupyter.widget-view+json": {
       "model_id": "",
       "version_major": 2,
       "version_minor": 0
      },
      "text/plain": [
       "Optimization Progress:   0%|          | 0/300 [00:00<?, ?pipeline/s]"
      ]
     },
     "metadata": {},
     "output_type": "display_data"
    },
    {
     "name": "stdout",
     "output_type": "stream",
     "text": [
      "\n",
      "Generation 1 - Current best internal CV score: 0.6183608325432679\n",
      "\n",
      "Generation 2 - Current best internal CV score: 0.6183608325432679\n",
      "\n",
      "Generation 3 - Current best internal CV score: 0.6183608325432679\n",
      "\n",
      "Generation 4 - Current best internal CV score: 0.6185427701889705\n",
      "\n",
      "Generation 5 - Current best internal CV score: 0.6303642968632033\n",
      "\n",
      "Best pipeline: GaussianNB(XGBClassifier(OneHotEncoder(XGBClassifier(input_matrix, learning_rate=0.01, max_depth=3, min_child_weight=8, n_estimators=100, n_jobs=1, subsample=1.0, verbosity=0), minimum_fraction=0.25, sparse=False, threshold=10), learning_rate=1.0, max_depth=3, min_child_weight=8, n_estimators=100, n_jobs=1, subsample=1.0, verbosity=0))\n"
     ]
    },
    {
     "data": {
      "text/plain": [
       "TPOTClassifier(generations=5, population_size=50, random_state=42, scoring='f1',\n",
       "               verbosity=2)"
      ]
     },
     "execution_count": 14,
     "metadata": {},
     "output_type": "execute_result"
    }
   ],
   "source": [
    "from tpot import TPOTClassifier\n",
    "tpot = TPOTClassifier(generations=5, population_size=50, verbosity=2, random_state=42, scoring=\"f1\")\n",
    "tpot.fit(x_train, y_train.values.ravel())"
   ]
  },
  {
   "cell_type": "markdown",
   "id": "whole-steal",
   "metadata": {},
   "source": [
    "## Overall best model"
   ]
  },
  {
   "cell_type": "code",
   "execution_count": 99,
   "id": "elegant-vanilla",
   "metadata": {
    "scrolled": false
   },
   "outputs": [
    {
     "name": "stderr",
     "output_type": "stream",
     "text": [
      "/Users/paulokuong/Documents/personal/fourth_brain_course/env/lib/python3.7/site-packages/xgboost/sklearn.py:888: UserWarning: The use of label encoder in XGBClassifier is deprecated and will be removed in a future release. To remove this warning, do the following: 1) Pass option use_label_encoder=False when constructing XGBClassifier object; and 2) Encode your labels (y) as integers starting with 0, i.e. 0, 1, 2, ..., [num_class - 1].\n",
      "  warnings.warn(label_encoder_deprecation_msg, UserWarning)\n"
     ]
    },
    {
     "data": {
      "text/html": [
       "<div>\n",
       "<style scoped>\n",
       "    .dataframe tbody tr th:only-of-type {\n",
       "        vertical-align: middle;\n",
       "    }\n",
       "\n",
       "    .dataframe tbody tr th {\n",
       "        vertical-align: top;\n",
       "    }\n",
       "\n",
       "    .dataframe thead th {\n",
       "        text-align: right;\n",
       "    }\n",
       "</style>\n",
       "<table border=\"1\" class=\"dataframe\">\n",
       "  <thead>\n",
       "    <tr style=\"text-align: right;\">\n",
       "      <th></th>\n",
       "      <th>0</th>\n",
       "      <th>1</th>\n",
       "      <th>accuracy</th>\n",
       "      <th>macro avg</th>\n",
       "      <th>weighted avg</th>\n",
       "    </tr>\n",
       "  </thead>\n",
       "  <tbody>\n",
       "    <tr>\n",
       "      <th>precision</th>\n",
       "      <td>0.973682</td>\n",
       "      <td>0.733184</td>\n",
       "      <td>0.953384</td>\n",
       "      <td>0.853433</td>\n",
       "      <td>0.953005</td>\n",
       "    </tr>\n",
       "    <tr>\n",
       "      <th>recall</th>\n",
       "      <td>0.975362</td>\n",
       "      <td>0.719736</td>\n",
       "      <td>0.953384</td>\n",
       "      <td>0.847549</td>\n",
       "      <td>0.953384</td>\n",
       "    </tr>\n",
       "    <tr>\n",
       "      <th>f1-score</th>\n",
       "      <td>0.974522</td>\n",
       "      <td>0.726398</td>\n",
       "      <td>0.953384</td>\n",
       "      <td>0.850460</td>\n",
       "      <td>0.953189</td>\n",
       "    </tr>\n",
       "    <tr>\n",
       "      <th>support</th>\n",
       "      <td>14490.000000</td>\n",
       "      <td>1363.000000</td>\n",
       "      <td>0.953384</td>\n",
       "      <td>15853.000000</td>\n",
       "      <td>15853.000000</td>\n",
       "    </tr>\n",
       "  </tbody>\n",
       "</table>\n",
       "</div>"
      ],
      "text/plain": [
       "                      0            1  accuracy     macro avg  weighted avg\n",
       "precision      0.973682     0.733184  0.953384      0.853433      0.953005\n",
       "recall         0.975362     0.719736  0.953384      0.847549      0.953384\n",
       "f1-score       0.974522     0.726398  0.953384      0.850460      0.953189\n",
       "support    14490.000000  1363.000000  0.953384  15853.000000  15853.000000"
      ]
     },
     "execution_count": 99,
     "metadata": {},
     "output_type": "execute_result"
    }
   ],
   "source": [
    "import numpy as np\n",
    "import pandas as pd\n",
    "from sklearn.metrics import classification_report\n",
    "from sklearn.model_selection import train_test_split\n",
    "from xgboost import XGBClassifier\n",
    "\n",
    "\n",
    "exported_pipeline = XGBClassifier(\n",
    "    learning_rate=0.1, max_depth=4, min_child_weight=8, n_estimators=100, n_jobs=1, \n",
    "    subsample=0.9500000000000001, verbosity=0, random_state=42)\n",
    "exported_pipeline.fit(x_train, list(y_train.values.ravel()))\n",
    "results = exported_pipeline.predict(x_test)\n",
    "pd.DataFrame(classification_report(y_test, results, output_dict=True))"
   ]
  },
  {
   "cell_type": "markdown",
   "id": "based-settle",
   "metadata": {},
   "source": [
    "## Sequential Modeling"
   ]
  },
  {
   "cell_type": "markdown",
   "id": "executed-japan",
   "metadata": {},
   "source": [
    "#### Getting sequences for every session"
   ]
  },
  {
   "cell_type": "code",
   "execution_count": 3,
   "id": "inappropriate-clinic",
   "metadata": {},
   "outputs": [
    {
     "data": {
      "text/plain": [
       "{'viewProduct': 1, 'addToCart': 2, 'search': 3, 'order': 4}"
      ]
     },
     "execution_count": 3,
     "metadata": {},
     "output_type": "execute_result"
    }
   ],
   "source": [
    "oo = df[['hits']].apply(\n",
    "    lambda x: [list(set([j.get('eventType').get('category') for j in hit])) for hit in x]\n",
    ")['hits']\n",
    "event_type_map = {y:index+1 for index, y in enumerate([i for i in pd.unique(oo.explode()) if type(i)==str])}\n",
    "event_type_map"
   ]
  },
  {
   "cell_type": "code",
   "execution_count": 4,
   "id": "extra-johns",
   "metadata": {},
   "outputs": [
    {
     "name": "stderr",
     "output_type": "stream",
     "text": [
      "/Users/paulokuong/Documents/personal/fourth_brain_course/env/lib/python3.7/site-packages/seaborn/distributions.py:2557: FutureWarning: `distplot` is a deprecated function and will be removed in a future version. Please adapt your code to use either `displot` (a figure-level function with similar flexibility) or `histplot` (an axes-level function for histograms).\n",
      "  warnings.warn(msg, FutureWarning)\n"
     ]
    },
    {
     "data": {
      "text/plain": [
       "<AxesSubplot:ylabel='Density'>"
      ]
     },
     "execution_count": 4,
     "metadata": {},
     "output_type": "execute_result"
    },
    {
     "data": {
      "image/png": "[encoded data removed]",
      "text/plain": [
       "<Figure size 432x288 with 1 Axes>"
      ]
     },
     "metadata": {
      "needs_background": "light"
     },
     "output_type": "display_data"
    }
   ],
   "source": [
    "sequence_df = df.copy(deep=True)\n",
    "sequence_df.loc[:,'sequence'] = sequence_df[['hits']].apply(\n",
    "    lambda x: [\n",
    "        [event_type_map[j[0]] \n",
    "         for j in sorted([(j.get('eventType').get('category'),j.get('hitSequence')) for j in hit])] \n",
    "        for hit in x]\n",
    ")['hits']\n",
    "length = sequence_df['sequence'].map(len).to_list()\n",
    "sns.distplot(length)"
   ]
  },
  {
   "cell_type": "code",
   "execution_count": 5,
   "id": "played-termination",
   "metadata": {},
   "outputs": [],
   "source": [
    "total_df = []\n",
    "for i in range(len(df['totals'])):\n",
    "    new_dict = {k:float(v) if 'total' in k or 'unique' in k else v for k,v in df.iloc[i]['totals'].items()}\n",
    "    total_df.append(new_dict)\n",
    "sequence_df = pd.concat([sequence_df, pd.DataFrame(total_df)],axis=1)\n",
    "sequence_df = sequence_df.fillna(0)\n",
    "sequence_df.loc[:,'has_purchase'] = sequence_df['totalOrders'].transform(lambda x: 1 if int(x)>0 else 0)"
   ]
  },
  {
   "cell_type": "code",
   "execution_count": 6,
   "id": "prescription-bearing",
   "metadata": {},
   "outputs": [],
   "source": [
    "sequence_df_50 = sequence_df[['customerSessionId','sequence','has_purchase']][sequence_df['sequence'].map(len) <= 50]"
   ]
  },
  {
   "cell_type": "code",
   "execution_count": 7,
   "id": "damaged-seeking",
   "metadata": {},
   "outputs": [],
   "source": [
    "sequence_df_40 = sequence_df[['customerSessionId','sequence','has_purchase']][sequence_df['sequence'].map(len) <= 40]"
   ]
  },
  {
   "cell_type": "code",
   "execution_count": 20,
   "id": "minute-ability",
   "metadata": {},
   "outputs": [],
   "source": [
    "sequence_df_30 = sequence_df[['customerSessionId','sequence','has_purchase']][sequence_df['sequence'].map(len) <= 30]"
   ]
  },
  {
   "cell_type": "code",
   "execution_count": 21,
   "id": "controlling-military",
   "metadata": {},
   "outputs": [],
   "source": [
    "# event_sequence = sequence_df_50['sequence'].to_list()\n",
    "# event_sequence = sequence_df_40['sequence'].to_list()\n",
    "event_sequence = sequence_df_30['sequence'].to_list()"
   ]
  },
  {
   "cell_type": "code",
   "execution_count": 22,
   "id": "rolled-width",
   "metadata": {},
   "outputs": [],
   "source": [
    "from keras.preprocessing.sequence import pad_sequences\n",
    "from sklearn.model_selection import train_test_split\n",
    "event = pad_sequences(event_sequence)"
   ]
  },
  {
   "cell_type": "code",
   "execution_count": 28,
   "id": "absent-scroll",
   "metadata": {},
   "outputs": [
    {
     "name": "stdout",
     "output_type": "stream",
     "text": [
      "Percentage of Purchase sessions= 7.522445489525438\n"
     ]
    }
   ],
   "source": [
    "# One Hot Encoding the Purchase label\n",
    "# y = np.array(pd.get_dummies(sequence_df_50['has_purchase'],prefix='Purchase'))\n",
    "y = np.array(pd.get_dummies(sequence_df_30['has_purchase'],prefix='Purchase'))\n",
    "z=np.sum(y[:,1])/len(y)\n",
    "print('Percentage of Purchase sessions=',z*100)"
   ]
  },
  {
   "cell_type": "code",
   "execution_count": 29,
   "id": "specified-chance",
   "metadata": {},
   "outputs": [],
   "source": [
    "x_train, x_test, y_train, y_test = train_test_split(np.array(event), y, test_size=0.3)\n",
    "x_train = x_train.reshape((x_train.shape[0], 1, x_train.shape[1]))\n",
    "x_test = x_test.reshape((x_test.shape[0], 1, x_test.shape[1]))"
   ]
  },
  {
   "cell_type": "markdown",
   "id": "serious-hometown",
   "metadata": {},
   "source": [
    "### Model Training"
   ]
  },
  {
   "cell_type": "code",
   "execution_count": 38,
   "id": "disabled-bridge",
   "metadata": {},
   "outputs": [],
   "source": [
    "import numpy as np\n",
    "import pandas as pd\n",
    "from sklearn.preprocessing import OneHotEncoder\n",
    "from keras.models import Sequential\n",
    "from keras.layers import Dense\n",
    "from keras.layers import LSTM\n",
    "from keras.layers import Flatten\n",
    "from keras.layers import Dropout\n",
    "from sklearn.preprocessing import MinMaxScaler\n",
    "from sklearn.metrics import mean_squared_error\n",
    "from matplotlib import pyplot\n",
    "from keras.layers import Bidirectional\n",
    "from keras.layers import TimeDistributed\n",
    "from tensorflow.keras.layers import GRU, Embedding, SimpleRNN, Activation\n",
    "import tensorflow as tf\n",
    "from util import *\n",
    "\n",
    "def LSTM_model(neurons=40, op=10):\n",
    "    #first define Sequential model\n",
    "    model = Sequential()\n",
    "    model.add(Bidirectional(LSTM(neurons, return_sequences=True), input_shape=(1,op)))\n",
    "    model.add(Bidirectional(LSTM(2*neurons)))\n",
    "    model.add(Dropout(0.5))\n",
    "    model.add(Dense(2, activation='softmax'))\n",
    "    model.compile(optimizer=tf.optimizers.Adam(learning_rate=0.0003),\n",
    "    loss='binary_crossentropy',\n",
    "    metrics=[tf.keras.metrics.Recall()])\n",
    "    return model"
   ]
  },
  {
   "cell_type": "code",
   "execution_count": 39,
   "id": "identical-institute",
   "metadata": {},
   "outputs": [
    {
     "name": "stdout",
     "output_type": "stream",
     "text": [
      "Epoch 1/150\n",
      "27/27 [==============================] - 42s 478ms/step - loss: 0.6825 - recall: 0.8173 - val_loss: 0.6516 - val_recall: 0.9061\n",
      "Epoch 2/150\n",
      "27/27 [==============================] - 2s 66ms/step - loss: 0.6392 - recall: 0.9107 - val_loss: 0.5917 - val_recall: 0.9161\n",
      "Epoch 3/150\n",
      "27/27 [==============================] - 2s 63ms/step - loss: 0.5738 - recall: 0.9173 - val_loss: 0.5077 - val_recall: 0.9192\n",
      "Epoch 4/150\n",
      "27/27 [==============================] - 2s 67ms/step - loss: 0.4912 - recall: 0.9195 - val_loss: 0.4196 - val_recall: 0.9208\n",
      "Epoch 5/150\n",
      "27/27 [==============================] - 2s 64ms/step - loss: 0.4053 - recall: 0.9210 - val_loss: 0.3487 - val_recall: 0.9216\n",
      "Epoch 6/150\n",
      "27/27 [==============================] - 2s 61ms/step - loss: 0.3429 - recall: 0.9218 - val_loss: 0.3018 - val_recall: 0.9221\n",
      "Epoch 7/150\n",
      "27/27 [==============================] - 2s 65ms/step - loss: 0.3014 - recall: 0.9222 - val_loss: 0.2734 - val_recall: 0.9226\n",
      "Epoch 8/150\n",
      "27/27 [==============================] - 2s 59ms/step - loss: 0.2735 - recall: 0.9226 - val_loss: 0.2558 - val_recall: 0.9229\n",
      "Epoch 9/150\n",
      "27/27 [==============================] - 2s 65ms/step - loss: 0.2610 - recall: 0.9229 - val_loss: 0.2440 - val_recall: 0.9231\n",
      "Epoch 10/150\n",
      "27/27 [==============================] - 2s 60ms/step - loss: 0.2432 - recall: 0.9233 - val_loss: 0.2354 - val_recall: 0.9234\n",
      "Epoch 11/150\n",
      "27/27 [==============================] - 2s 60ms/step - loss: 0.2439 - recall: 0.9234 - val_loss: 0.2283 - val_recall: 0.9236\n",
      "Epoch 12/150\n",
      "27/27 [==============================] - 2s 66ms/step - loss: 0.2324 - recall: 0.9236 - val_loss: 0.2224 - val_recall: 0.9237\n",
      "Epoch 13/150\n",
      "27/27 [==============================] - 2s 66ms/step - loss: 0.2304 - recall: 0.9236 - val_loss: 0.2171 - val_recall: 0.9238\n",
      "Epoch 14/150\n",
      "27/27 [==============================] - 2s 57ms/step - loss: 0.2313 - recall: 0.9238 - val_loss: 0.2127 - val_recall: 0.9239\n",
      "Epoch 15/150\n",
      "27/27 [==============================] - 2s 57ms/step - loss: 0.2114 - recall: 0.9239 - val_loss: 0.2085 - val_recall: 0.9240\n",
      "Epoch 16/150\n",
      "27/27 [==============================] - 1s 54ms/step - loss: 0.2099 - recall: 0.9240 - val_loss: 0.2046 - val_recall: 0.9241\n",
      "Epoch 17/150\n",
      "27/27 [==============================] - 2s 57ms/step - loss: 0.2050 - recall: 0.9242 - val_loss: 0.2010 - val_recall: 0.9242\n",
      "Epoch 18/150\n",
      "27/27 [==============================] - 2s 63ms/step - loss: 0.2006 - recall: 0.9242 - val_loss: 0.1978 - val_recall: 0.9243\n",
      "Epoch 19/150\n",
      "27/27 [==============================] - 2s 67ms/step - loss: 0.1983 - recall: 0.9243 - val_loss: 0.1947 - val_recall: 0.9243\n",
      "Epoch 20/150\n",
      "27/27 [==============================] - 2s 63ms/step - loss: 0.1939 - recall: 0.9244 - val_loss: 0.1916 - val_recall: 0.9244\n",
      "Epoch 21/150\n",
      "27/27 [==============================] - 2s 67ms/step - loss: 0.1976 - recall: 0.9244 - val_loss: 0.1887 - val_recall: 0.9245\n",
      "Epoch 22/150\n",
      "27/27 [==============================] - 2s 73ms/step - loss: 0.1883 - recall: 0.9245 - val_loss: 0.1859 - val_recall: 0.9245\n",
      "Epoch 23/150\n",
      "27/27 [==============================] - 2s 63ms/step - loss: 0.1855 - recall: 0.9246 - val_loss: 0.1829 - val_recall: 0.9246\n",
      "Epoch 24/150\n",
      "27/27 [==============================] - 2s 60ms/step - loss: 0.1864 - recall: 0.9246 - val_loss: 0.1801 - val_recall: 0.9247\n",
      "Epoch 25/150\n",
      "27/27 [==============================] - 2s 68ms/step - loss: 0.1868 - recall: 0.9247 - val_loss: 0.1773 - val_recall: 0.9247\n",
      "Epoch 26/150\n",
      "27/27 [==============================] - 2s 60ms/step - loss: 0.1797 - recall: 0.9247 - val_loss: 0.1754 - val_recall: 0.9248\n",
      "Epoch 27/150\n",
      "27/27 [==============================] - 2s 65ms/step - loss: 0.1773 - recall: 0.9248 - val_loss: 0.1715 - val_recall: 0.9248\n",
      "Epoch 28/150\n",
      "27/27 [==============================] - 2s 57ms/step - loss: 0.1747 - recall: 0.9248 - val_loss: 0.1687 - val_recall: 0.9249\n",
      "Epoch 29/150\n",
      "27/27 [==============================] - 2s 58ms/step - loss: 0.1705 - recall: 0.9249 - val_loss: 0.1660 - val_recall: 0.9250\n",
      "Epoch 30/150\n",
      "27/27 [==============================] - 2s 62ms/step - loss: 0.1712 - recall: 0.9250 - val_loss: 0.1633 - val_recall: 0.9252\n",
      "Epoch 31/150\n",
      "27/27 [==============================] - 2s 64ms/step - loss: 0.1662 - recall: 0.9253 - val_loss: 0.1606 - val_recall: 0.9255\n",
      "Epoch 32/150\n",
      "27/27 [==============================] - 2s 61ms/step - loss: 0.1647 - recall: 0.9255 - val_loss: 0.1584 - val_recall: 0.9257\n",
      "Epoch 33/150\n",
      "27/27 [==============================] - 2s 61ms/step - loss: 0.1604 - recall: 0.9258 - val_loss: 0.1565 - val_recall: 0.9259\n",
      "Epoch 34/150\n",
      "27/27 [==============================] - 1s 55ms/step - loss: 0.1584 - recall: 0.9260 - val_loss: 0.1537 - val_recall: 0.9262\n",
      "Epoch 35/150\n",
      "27/27 [==============================] - 1s 56ms/step - loss: 0.1532 - recall: 0.9262 - val_loss: 0.1516 - val_recall: 0.9264\n",
      "Epoch 36/150\n",
      "27/27 [==============================] - 2s 58ms/step - loss: 0.1504 - recall: 0.9265 - val_loss: 0.1496 - val_recall: 0.9267\n",
      "Epoch 37/150\n",
      "27/27 [==============================] - 2s 66ms/step - loss: 0.1531 - recall: 0.9268 - val_loss: 0.1479 - val_recall: 0.9270\n",
      "Epoch 38/150\n",
      "27/27 [==============================] - 2s 61ms/step - loss: 0.1476 - recall: 0.9271 - val_loss: 0.1461 - val_recall: 0.9273\n",
      "Epoch 39/150\n",
      "27/27 [==============================] - 2s 65ms/step - loss: 0.1442 - recall: 0.9273 - val_loss: 0.1448 - val_recall: 0.9275\n",
      "Epoch 40/150\n",
      "27/27 [==============================] - 2s 58ms/step - loss: 0.1436 - recall: 0.9276 - val_loss: 0.1425 - val_recall: 0.9278\n",
      "Epoch 41/150\n",
      "27/27 [==============================] - 1s 54ms/step - loss: 0.1458 - recall: 0.9279 - val_loss: 0.1410 - val_recall: 0.9281\n",
      "Epoch 42/150\n",
      "27/27 [==============================] - 1s 51ms/step - loss: 0.1417 - recall: 0.9281 - val_loss: 0.1397 - val_recall: 0.9283\n",
      "Epoch 43/150\n",
      "27/27 [==============================] - 2s 75ms/step - loss: 0.1388 - recall: 0.9284 - val_loss: 0.1386 - val_recall: 0.9285\n",
      "Epoch 44/150\n",
      "27/27 [==============================] - 2s 67ms/step - loss: 0.1388 - recall: 0.9286 - val_loss: 0.1368 - val_recall: 0.9288\n",
      "Epoch 45/150\n",
      "27/27 [==============================] - 2s 78ms/step - loss: 0.1352 - recall: 0.9288 - val_loss: 0.1357 - val_recall: 0.9290\n",
      "Epoch 46/150\n",
      "27/27 [==============================] - 2s 70ms/step - loss: 0.1372 - recall: 0.9291 - val_loss: 0.1333 - val_recall: 0.9292\n",
      "Epoch 47/150\n",
      "27/27 [==============================] - 2s 64ms/step - loss: 0.1331 - recall: 0.9293 - val_loss: 0.1323 - val_recall: 0.9295\n",
      "Epoch 48/150\n",
      "27/27 [==============================] - 2s 67ms/step - loss: 0.1364 - recall: 0.9295 - val_loss: 0.1312 - val_recall: 0.9297\n",
      "Epoch 49/150\n",
      "27/27 [==============================] - 2s 81ms/step - loss: 0.1310 - recall: 0.9297 - val_loss: 0.1295 - val_recall: 0.9299\n",
      "Epoch 50/150\n",
      "27/27 [==============================] - 2s 64ms/step - loss: 0.1301 - recall: 0.9300 - val_loss: 0.1297 - val_recall: 0.9301\n",
      "Epoch 51/150\n",
      "27/27 [==============================] - 2s 57ms/step - loss: 0.1313 - recall: 0.9302 - val_loss: 0.1267 - val_recall: 0.9303\n",
      "Epoch 52/150\n",
      "27/27 [==============================] - 2s 63ms/step - loss: 0.1264 - recall: 0.9304 - val_loss: 0.1252 - val_recall: 0.9305\n",
      "Epoch 53/150\n",
      "27/27 [==============================] - 1s 55ms/step - loss: 0.1222 - recall: 0.9306 - val_loss: 0.1236 - val_recall: 0.9308\n",
      "Epoch 54/150\n",
      "27/27 [==============================] - 2s 61ms/step - loss: 0.1224 - recall: 0.9309 - val_loss: 0.1225 - val_recall: 0.9310\n",
      "Epoch 55/150\n",
      "27/27 [==============================] - 2s 63ms/step - loss: 0.1197 - recall: 0.9311 - val_loss: 0.1221 - val_recall: 0.9313\n",
      "Epoch 56/150\n",
      "27/27 [==============================] - 2s 63ms/step - loss: 0.1230 - recall: 0.9314 - val_loss: 0.1201 - val_recall: 0.9315\n",
      "Epoch 57/150\n",
      "27/27 [==============================] - 1s 54ms/step - loss: 0.1186 - recall: 0.9316 - val_loss: 0.1192 - val_recall: 0.9318\n",
      "Epoch 58/150\n",
      "27/27 [==============================] - 1s 48ms/step - loss: 0.1222 - recall: 0.9319 - val_loss: 0.1190 - val_recall: 0.9320\n",
      "Epoch 59/150\n",
      "27/27 [==============================] - 1s 49ms/step - loss: 0.1168 - recall: 0.9321 - val_loss: 0.1181 - val_recall: 0.9323\n"
     ]
    },
    {
     "name": "stdout",
     "output_type": "stream",
     "text": [
      "Epoch 60/150\n",
      "27/27 [==============================] - 1s 53ms/step - loss: 0.1167 - recall: 0.9323 - val_loss: 0.1173 - val_recall: 0.9325\n",
      "Epoch 61/150\n",
      "27/27 [==============================] - 1s 56ms/step - loss: 0.1170 - recall: 0.9326 - val_loss: 0.1155 - val_recall: 0.9328\n",
      "Epoch 62/150\n",
      "27/27 [==============================] - 2s 56ms/step - loss: 0.1179 - recall: 0.9328 - val_loss: 0.1171 - val_recall: 0.9330\n",
      "Epoch 63/150\n",
      "27/27 [==============================] - 1s 41ms/step - loss: 0.1148 - recall: 0.9331 - val_loss: 0.1139 - val_recall: 0.9333\n",
      "Epoch 64/150\n",
      "27/27 [==============================] - 1s 55ms/step - loss: 0.1135 - recall: 0.9333 - val_loss: 0.1139 - val_recall: 0.9335\n",
      "Epoch 65/150\n",
      "27/27 [==============================] - 1s 55ms/step - loss: 0.1122 - recall: 0.9336 - val_loss: 0.1126 - val_recall: 0.9338\n",
      "Epoch 66/150\n",
      "27/27 [==============================] - 1s 54ms/step - loss: 0.1098 - recall: 0.9338 - val_loss: 0.1140 - val_recall: 0.9340\n",
      "Epoch 67/150\n",
      "27/27 [==============================] - 2s 61ms/step - loss: 0.1087 - recall: 0.9341 - val_loss: 0.1108 - val_recall: 0.9343\n",
      "Epoch 68/150\n",
      "27/27 [==============================] - 2s 57ms/step - loss: 0.1105 - recall: 0.9343 - val_loss: 0.1106 - val_recall: 0.9345\n",
      "Epoch 69/150\n",
      "27/27 [==============================] - 2s 58ms/step - loss: 0.1062 - recall: 0.9346 - val_loss: 0.1095 - val_recall: 0.9348\n",
      "Epoch 70/150\n",
      "27/27 [==============================] - 2s 65ms/step - loss: 0.1046 - recall: 0.9348 - val_loss: 0.1084 - val_recall: 0.9350\n",
      "Epoch 71/150\n",
      "27/27 [==============================] - 2s 65ms/step - loss: 0.1051 - recall: 0.9351 - val_loss: 0.1080 - val_recall: 0.9353\n",
      "Epoch 72/150\n",
      "27/27 [==============================] - 2s 59ms/step - loss: 0.1026 - recall: 0.9354 - val_loss: 0.1070 - val_recall: 0.9355\n",
      "Epoch 73/150\n",
      "27/27 [==============================] - 2s 57ms/step - loss: 0.1014 - recall: 0.9356 - val_loss: 0.1080 - val_recall: 0.9358\n",
      "Epoch 74/150\n",
      "27/27 [==============================] - 2s 57ms/step - loss: 0.1020 - recall: 0.9358 - val_loss: 0.1054 - val_recall: 0.9360\n",
      "Epoch 75/150\n",
      "27/27 [==============================] - 1s 54ms/step - loss: 0.0979 - recall: 0.9361 - val_loss: 0.1071 - val_recall: 0.9363\n",
      "Epoch 76/150\n",
      "27/27 [==============================] - 2s 60ms/step - loss: 0.1013 - recall: 0.9363 - val_loss: 0.1045 - val_recall: 0.9365\n",
      "Epoch 77/150\n",
      "27/27 [==============================] - 1s 54ms/step - loss: 0.1011 - recall: 0.9366 - val_loss: 0.1053 - val_recall: 0.9367\n",
      "Epoch 78/150\n",
      "27/27 [==============================] - 2s 58ms/step - loss: 0.0987 - recall: 0.9368 - val_loss: 0.1025 - val_recall: 0.9370\n",
      "Epoch 79/150\n",
      "27/27 [==============================] - 1s 55ms/step - loss: 0.0987 - recall: 0.9371 - val_loss: 0.1027 - val_recall: 0.9372\n",
      "Epoch 80/150\n",
      "27/27 [==============================] - 2s 88ms/step - loss: 0.0956 - recall: 0.9373 - val_loss: 0.1004 - val_recall: 0.9375\n",
      "Epoch 81/150\n",
      "27/27 [==============================] - 2s 78ms/step - loss: 0.0913 - recall: 0.9375 - val_loss: 0.1010 - val_recall: 0.9377\n",
      "Epoch 82/150\n",
      "27/27 [==============================] - 2s 69ms/step - loss: 0.0934 - recall: 0.9378 - val_loss: 0.1025 - val_recall: 0.9379\n",
      "Epoch 83/150\n",
      "27/27 [==============================] - 2s 66ms/step - loss: 0.0963 - recall: 0.9380 - val_loss: 0.0981 - val_recall: 0.9382\n",
      "Epoch 84/150\n",
      "27/27 [==============================] - 2s 61ms/step - loss: 0.0938 - recall: 0.9382 - val_loss: 0.0979 - val_recall: 0.9384\n",
      "Epoch 85/150\n",
      "27/27 [==============================] - 2s 62ms/step - loss: 0.0916 - recall: 0.9385 - val_loss: 0.0964 - val_recall: 0.9387\n",
      "Epoch 86/150\n",
      "27/27 [==============================] - 2s 65ms/step - loss: 0.0900 - recall: 0.9387 - val_loss: 0.0958 - val_recall: 0.9389\n",
      "Epoch 87/150\n",
      "27/27 [==============================] - 2s 66ms/step - loss: 0.0884 - recall: 0.9390 - val_loss: 0.0955 - val_recall: 0.9391\n",
      "Epoch 88/150\n",
      "27/27 [==============================] - 2s 83ms/step - loss: 0.0891 - recall: 0.9392 - val_loss: 0.0999 - val_recall: 0.9394\n",
      "Epoch 89/150\n",
      "27/27 [==============================] - 3s 108ms/step - loss: 0.0876 - recall: 0.9394 - val_loss: 0.0943 - val_recall: 0.9396\n",
      "Epoch 90/150\n",
      "27/27 [==============================] - 3s 106ms/step - loss: 0.0854 - recall: 0.9397 - val_loss: 0.0936 - val_recall: 0.9398\n",
      "Epoch 91/150\n",
      "27/27 [==============================] - 3s 98ms/step - loss: 0.0846 - recall: 0.9399 - val_loss: 0.0921 - val_recall: 0.9401\n",
      "Epoch 92/150\n",
      "27/27 [==============================] - 2s 82ms/step - loss: 0.0797 - recall: 0.9401 - val_loss: 0.0939 - val_recall: 0.9403\n",
      "Epoch 93/150\n",
      "27/27 [==============================] - 2s 87ms/step - loss: 0.0866 - recall: 0.9404 - val_loss: 0.0904 - val_recall: 0.9405\n",
      "Epoch 94/150\n",
      "27/27 [==============================] - 2s 83ms/step - loss: 0.0803 - recall: 0.9406 - val_loss: 0.0889 - val_recall: 0.9408\n",
      "Epoch 95/150\n",
      "27/27 [==============================] - 2s 73ms/step - loss: 0.0786 - recall: 0.9409 - val_loss: 0.0890 - val_recall: 0.9410\n",
      "Epoch 96/150\n",
      "27/27 [==============================] - 3s 94ms/step - loss: 0.0805 - recall: 0.9411 - val_loss: 0.0887 - val_recall: 0.9413\n",
      "Epoch 97/150\n",
      "27/27 [==============================] - 2s 67ms/step - loss: 0.0831 - recall: 0.9413 - val_loss: 0.0885 - val_recall: 0.9415\n",
      "Epoch 98/150\n",
      "27/27 [==============================] - 2s 57ms/step - loss: 0.0796 - recall: 0.9415 - val_loss: 0.0871 - val_recall: 0.9417\n",
      "Epoch 99/150\n",
      "27/27 [==============================] - 2s 59ms/step - loss: 0.0769 - recall: 0.9418 - val_loss: 0.0880 - val_recall: 0.9419\n",
      "Epoch 100/150\n",
      "27/27 [==============================] - 2s 58ms/step - loss: 0.0792 - recall: 0.9420 - val_loss: 0.0853 - val_recall: 0.9422\n",
      "Epoch 101/150\n",
      "27/27 [==============================] - 1s 54ms/step - loss: 0.0763 - recall: 0.9422 - val_loss: 0.0859 - val_recall: 0.9424\n",
      "Epoch 102/150\n",
      "27/27 [==============================] - 2s 57ms/step - loss: 0.0752 - recall: 0.9425 - val_loss: 0.0855 - val_recall: 0.9426\n",
      "Epoch 103/150\n",
      "27/27 [==============================] - 2s 60ms/step - loss: 0.0758 - recall: 0.9427 - val_loss: 0.0844 - val_recall: 0.9428\n",
      "Epoch 104/150\n",
      "27/27 [==============================] - 2s 59ms/step - loss: 0.0736 - recall: 0.9429 - val_loss: 0.0912 - val_recall: 0.9431\n",
      "Epoch 105/150\n",
      "27/27 [==============================] - 2s 61ms/step - loss: 0.0723 - recall: 0.9431 - val_loss: 0.0839 - val_recall: 0.9433\n",
      "Epoch 106/150\n",
      "27/27 [==============================] - 2s 70ms/step - loss: 0.0712 - recall: 0.9433 - val_loss: 0.0825 - val_recall: 0.9435\n",
      "Epoch 107/150\n",
      "27/27 [==============================] - 2s 66ms/step - loss: 0.0700 - recall: 0.9436 - val_loss: 0.0826 - val_recall: 0.9437\n",
      "Epoch 108/150\n",
      "27/27 [==============================] - 2s 62ms/step - loss: 0.0721 - recall: 0.9438 - val_loss: 0.0872 - val_recall: 0.9439\n",
      "Epoch 109/150\n",
      "27/27 [==============================] - 2s 70ms/step - loss: 0.0725 - recall: 0.9440 - val_loss: 0.0823 - val_recall: 0.9441\n",
      "Epoch 110/150\n",
      "27/27 [==============================] - 2s 60ms/step - loss: 0.0703 - recall: 0.9442 - val_loss: 0.0817 - val_recall: 0.9443\n",
      "Epoch 111/150\n",
      "27/27 [==============================] - 2s 58ms/step - loss: 0.0669 - recall: 0.9444 - val_loss: 0.0848 - val_recall: 0.9445\n",
      "Epoch 112/150\n",
      "27/27 [==============================] - 2s 58ms/step - loss: 0.0703 - recall: 0.9446 - val_loss: 0.0800 - val_recall: 0.9448\n",
      "Epoch 113/150\n",
      "27/27 [==============================] - 2s 59ms/step - loss: 0.0666 - recall: 0.9448 - val_loss: 0.0819 - val_recall: 0.9450\n",
      "Epoch 114/150\n",
      "27/27 [==============================] - 1s 56ms/step - loss: 0.0705 - recall: 0.9450 - val_loss: 0.0820 - val_recall: 0.9452\n",
      "Epoch 115/150\n",
      "27/27 [==============================] - 2s 56ms/step - loss: 0.0682 - recall: 0.9452 - val_loss: 0.0793 - val_recall: 0.9453\n",
      "Epoch 116/150\n",
      "27/27 [==============================] - 2s 75ms/step - loss: 0.0694 - recall: 0.9454 - val_loss: 0.0816 - val_recall: 0.9455\n",
      "Epoch 117/150\n",
      "27/27 [==============================] - 2s 73ms/step - loss: 0.0643 - recall: 0.9456 - val_loss: 0.0799 - val_recall: 0.9457\n",
      "Epoch 118/150\n",
      "27/27 [==============================] - 2s 75ms/step - loss: 0.0678 - recall: 0.9458 - val_loss: 0.0775 - val_recall: 0.9459\n"
     ]
    },
    {
     "name": "stdout",
     "output_type": "stream",
     "text": [
      "Epoch 119/150\n",
      "27/27 [==============================] - 2s 80ms/step - loss: 0.0649 - recall: 0.9460 - val_loss: 0.0785 - val_recall: 0.9461\n",
      "Epoch 120/150\n",
      "27/27 [==============================] - 2s 85ms/step - loss: 0.0679 - recall: 0.9462 - val_loss: 0.0807 - val_recall: 0.9463\n",
      "Epoch 121/150\n",
      "27/27 [==============================] - 2s 83ms/step - loss: 0.0672 - recall: 0.9464 - val_loss: 0.0788 - val_recall: 0.9465\n",
      "Epoch 122/150\n",
      "27/27 [==============================] - 2s 71ms/step - loss: 0.0635 - recall: 0.9466 - val_loss: 0.0777 - val_recall: 0.9467\n",
      "Epoch 123/150\n",
      "27/27 [==============================] - 2s 72ms/step - loss: 0.0652 - recall: 0.9467 - val_loss: 0.0775 - val_recall: 0.9469\n",
      "Epoch 124/150\n",
      "27/27 [==============================] - 2s 75ms/step - loss: 0.0621 - recall: 0.9469 - val_loss: 0.0770 - val_recall: 0.9471\n",
      "Epoch 125/150\n",
      "27/27 [==============================] - 2s 71ms/step - loss: 0.0653 - recall: 0.9471 - val_loss: 0.0762 - val_recall: 0.9473\n",
      "Epoch 126/150\n",
      "27/27 [==============================] - 2s 81ms/step - loss: 0.0612 - recall: 0.9473 - val_loss: 0.0768 - val_recall: 0.9474\n",
      "Epoch 127/150\n",
      "27/27 [==============================] - 3s 102ms/step - loss: 0.0608 - recall: 0.9475 - val_loss: 0.0767 - val_recall: 0.9476\n",
      "Epoch 128/150\n",
      "27/27 [==============================] - 2s 77ms/step - loss: 0.0617 - recall: 0.9477 - val_loss: 0.0758 - val_recall: 0.9478\n",
      "Epoch 129/150\n",
      "27/27 [==============================] - 2s 81ms/step - loss: 0.0607 - recall: 0.9478 - val_loss: 0.0804 - val_recall: 0.9479\n",
      "Epoch 130/150\n",
      "27/27 [==============================] - 2s 72ms/step - loss: 0.0613 - recall: 0.9480 - val_loss: 0.0773 - val_recall: 0.9481\n",
      "Epoch 131/150\n",
      "27/27 [==============================] - 2s 67ms/step - loss: 0.0641 - recall: 0.9481 - val_loss: 0.0733 - val_recall: 0.9483\n",
      "Epoch 132/150\n",
      "27/27 [==============================] - 3s 90ms/step - loss: 0.0558 - recall: 0.9483 - val_loss: 0.0775 - val_recall: 0.9485\n",
      "Epoch 133/150\n",
      "27/27 [==============================] - 2s 89ms/step - loss: 0.0662 - recall: 0.9485 - val_loss: 0.0736 - val_recall: 0.9486\n",
      "Epoch 134/150\n",
      "27/27 [==============================] - 2s 86ms/step - loss: 0.0578 - recall: 0.9487 - val_loss: 0.0777 - val_recall: 0.9488\n",
      "Epoch 135/150\n",
      "27/27 [==============================] - 2s 75ms/step - loss: 0.0612 - recall: 0.9488 - val_loss: 0.0729 - val_recall: 0.9489\n",
      "Epoch 136/150\n",
      "27/27 [==============================] - 2s 87ms/step - loss: 0.0576 - recall: 0.9490 - val_loss: 0.0740 - val_recall: 0.9491\n",
      "Epoch 137/150\n",
      "27/27 [==============================] - 2s 81ms/step - loss: 0.0578 - recall: 0.9492 - val_loss: 0.0720 - val_recall: 0.9493\n",
      "Epoch 138/150\n",
      "27/27 [==============================] - 2s 87ms/step - loss: 0.0582 - recall: 0.9493 - val_loss: 0.0726 - val_recall: 0.9494\n",
      "Epoch 139/150\n",
      "27/27 [==============================] - 2s 81ms/step - loss: 0.0572 - recall: 0.9495 - val_loss: 0.0716 - val_recall: 0.9496\n",
      "Epoch 140/150\n",
      "27/27 [==============================] - 2s 82ms/step - loss: 0.0570 - recall: 0.9496 - val_loss: 0.0726 - val_recall: 0.9498\n",
      "Epoch 141/150\n",
      "27/27 [==============================] - 2s 94ms/step - loss: 0.0574 - recall: 0.9498 - val_loss: 0.0712 - val_recall: 0.9499\n",
      "Epoch 142/150\n",
      "27/27 [==============================] - 2s 77ms/step - loss: 0.0549 - recall: 0.9500 - val_loss: 0.0730 - val_recall: 0.9501\n",
      "Epoch 143/150\n",
      "27/27 [==============================] - 3s 95ms/step - loss: 0.0554 - recall: 0.9501 - val_loss: 0.0706 - val_recall: 0.9502\n",
      "Epoch 144/150\n",
      "27/27 [==============================] - 2s 84ms/step - loss: 0.0579 - recall: 0.9503 - val_loss: 0.0744 - val_recall: 0.9504\n",
      "Epoch 145/150\n",
      "27/27 [==============================] - 2s 76ms/step - loss: 0.0588 - recall: 0.9504 - val_loss: 0.0698 - val_recall: 0.9505\n",
      "Epoch 146/150\n",
      "27/27 [==============================] - 2s 74ms/step - loss: 0.0545 - recall: 0.9506 - val_loss: 0.0708 - val_recall: 0.9507\n",
      "Epoch 147/150\n",
      "27/27 [==============================] - 2s 69ms/step - loss: 0.0540 - recall: 0.9507 - val_loss: 0.0707 - val_recall: 0.9509\n",
      "Epoch 148/150\n",
      "27/27 [==============================] - 2s 90ms/step - loss: 0.0548 - recall: 0.9509 - val_loss: 0.0697 - val_recall: 0.9510\n",
      "Epoch 149/150\n",
      "27/27 [==============================] - 2s 86ms/step - loss: 0.0534 - recall: 0.9510 - val_loss: 0.0695 - val_recall: 0.9511\n",
      "Epoch 150/150\n",
      "27/27 [==============================] - 2s 86ms/step - loss: 0.0503 - recall: 0.9512 - val_loss: 0.0715 - val_recall: 0.9513\n"
     ]
    }
   ],
   "source": [
    "tf.keras.backend.clear_session()\n",
    "lstm_model = LSTM_model(op=30)\n",
    "\n",
    "# G_model.summary()\n",
    "lstm_history = lstm_model.fit(x_train, y_train,epochs=150,batch_size=1000,validation_split=0.2)"
   ]
  },
  {
   "cell_type": "code",
   "execution_count": 40,
   "id": "provincial-sphere",
   "metadata": {},
   "outputs": [
    {
     "name": "stdout",
     "output_type": "stream",
     "text": [
      "dict_keys(['loss', 'recall', 'val_loss', 'val_recall'])\n"
     ]
    },
    {
     "data": {
      "image/png": "[encoded data removed]",
      "text/plain": [
       "<Figure size 432x288 with 1 Axes>"
      ]
     },
     "metadata": {
      "needs_background": "light"
     },
     "output_type": "display_data"
    },
    {
     "data": {
      "image/png": "[encoded data removed]",
      "text/plain": [
       "<Figure size 432x288 with 1 Axes>"
      ]
     },
     "metadata": {
      "needs_background": "light"
     },
     "output_type": "display_data"
    }
   ],
   "source": [
    "from util import *\n",
    "plot_history(lstm_history)"
   ]
  },
  {
   "cell_type": "code",
   "execution_count": 41,
   "id": "enormous-democracy",
   "metadata": {},
   "outputs": [
    {
     "name": "stderr",
     "output_type": "stream",
     "text": [
      "/Users/paulokuong/Documents/personal/fourth_brain_course/env/lib/python3.7/site-packages/keras/engine/sequential.py:450: UserWarning: `model.predict_classes()` is deprecated and will be removed after 2021-01-01. Please use instead:* `np.argmax(model.predict(x), axis=-1)`,   if your model does multi-class classification   (e.g. if it uses a `softmax` last-layer activation).* `(model.predict(x) > 0.5).astype(\"int32\")`,   if your model does binary classification   (e.g. if it uses a `sigmoid` last-layer activation).\n",
      "  warnings.warn('`model.predict_classes()` is deprecated and '\n"
     ]
    },
    {
     "name": "stdout",
     "output_type": "stream",
     "text": [
      "Accuracy: 0.966439\n",
      "Precision: 0.802831\n",
      "Recall: 0.742056\n",
      "F1 score: 0.771248\n"
     ]
    }
   ],
   "source": [
    "evaluate_on_test(x_test,y_test,lstm_model)"
   ]
  },
  {
   "cell_type": "code",
   "execution_count": null,
   "id": "documented-prison",
   "metadata": {},
   "outputs": [],
   "source": []
  }
 ],
 "metadata": {
  "kernelspec": {
   "display_name": "Python 3",
   "language": "python",
   "name": "python3"
  },
  "language_info": {
   "codemirror_mode": {
    "name": "ipython",
    "version": 3
   },
   "file_extension": ".py",
   "mimetype": "text/x-python",
   "name": "python",
   "nbconvert_exporter": "python",
   "pygments_lexer": "ipython3",
   "version": "3.7.0"
  }
 },
 "nbformat": 4,
 "nbformat_minor": 5
}
