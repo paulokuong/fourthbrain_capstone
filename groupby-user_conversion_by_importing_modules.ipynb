{
 "cells": [
  {
   "cell_type": "markdown",
   "id": "b9b3d219",
   "metadata": {},
   "source": [
    "## Problems"
   ]
  },
  {
   "cell_type": "markdown",
   "id": "ca51e011",
   "metadata": {},
   "source": [
    "### Conversion\n",
    "1.\tIs it possible to predict customer conversion (from viewing to purchasing)?\n",
    "2.\tCan we identify “new customers”? If yes then what is the best strategy to work with them?\n",
    "3.\tWhat are the top features that define customer conversion?\n",
    "4.\tCan we explain and visualize the predictive model for customer conversion on a journey and at a session level?\n",
    "5.\tIs there a pattern and trend across product types regarding the conversion event?\n",
    "\n",
    "### Personalization\n",
    "1.\tCan we personalize the experience from customer-product interactions?\n",
    "2.\tDoes the product catalogue information help in improving customer experience?\n",
    "3.\tCan personalized shopping experience be predictively modeled?\n",
    "4.\tCan we apply transfer learning from other E-commerce data sets to our local data set?"
   ]
  },
  {
   "cell_type": "markdown",
   "id": "57b2662e",
   "metadata": {},
   "source": [
    "## Preprocessing"
   ]
  },
  {
   "cell_type": "code",
   "execution_count": 2,
   "id": "47a60f82",
   "metadata": {},
   "outputs": [],
   "source": [
    "from groupby_user_conversion import GroupBy, FeatureSelection, Evaluation"
   ]
  },
  {
   "cell_type": "code",
   "execution_count": 3,
   "id": "ba25daa0",
   "metadata": {
    "scrolled": false
   },
   "outputs": [
    {
     "name": "stderr",
     "output_type": "stream",
     "text": [
      "/home/ec2-user/anaconda3/envs/python3/lib/python3.6/site-packages/pandas/core/indexing.py:1596: SettingWithCopyWarning: \n",
      "A value is trying to be set on a copy of a slice from a DataFrame.\n",
      "Try using .loc[row_indexer,col_indexer] = value instead\n",
      "\n",
      "See the caveats in the documentation: https://pandas.pydata.org/pandas-docs/stable/user_guide/indexing.html#returning-a-view-versus-a-copy\n",
      "  self.obj[key] = _infer_fill_value(value)\n",
      "/home/ec2-user/anaconda3/envs/python3/lib/python3.6/site-packages/pandas/core/indexing.py:1743: SettingWithCopyWarning: \n",
      "A value is trying to be set on a copy of a slice from a DataFrame.\n",
      "Try using .loc[row_indexer,col_indexer] = value instead\n",
      "\n",
      "See the caveats in the documentation: https://pandas.pydata.org/pandas-docs/stable/user_guide/indexing.html#returning-a-view-versus-a-copy\n",
      "  isetter(ilocs[0], value)\n",
      "/home/ec2-user/anaconda3/envs/python3/lib/python3.6/site-packages/numpy/core/fromnumeric.py:3373: RuntimeWarning: Mean of empty slice.\n",
      "  out=out, **kwargs)\n"
     ]
    }
   ],
   "source": [
    "g = GroupBy('raw_data.json')\n",
    "preprocessed_data = g.preprocessing_for_bin_class()"
   ]
  },
  {
   "cell_type": "code",
   "execution_count": 4,
   "id": "2db1f4f6",
   "metadata": {},
   "outputs": [
    {
     "name": "stdout",
     "output_type": "stream",
     "text": [
      "Feature \"totalAddToCarts\" is highly related to \"totalAddToCartRevenue\". Remove \"totalAddToCarts\"\n",
      "Feature \"uniqueAddToCarts\" is highly related to \"totalAddToCartRevenue\". Remove \"uniqueAddToCarts\"\n",
      "Feature \"uniqueViewProducts\" is highly related to \"totalViewProductRevenue\". Remove \"uniqueViewProducts\"\n",
      "Feature \"totalViewProducts\" is highly related to \"totalViewProductRevenue\". Remove \"totalViewProducts\"\n",
      "Feature \"events\" is highly related to \"uniqueViewProducts\". Remove \"events\"\n",
      "Feature \"uniqueRefinements\" is highly related to \"uniqueNavigations\". Remove \"uniqueRefinements\"\n",
      "Feature \"sessionDuration\" is highly related to \"timeOnSiteSeconds\". Remove \"sessionDuration\"\n",
      "Feature \"totalRefinements\" is highly related to \"uniqueRefinements\". Remove \"totalRefinements\"\n",
      "Feature \"totalSearches\" is highly related to \"events\". Remove \"totalSearches\"\n",
      "Feature \"source\" is highly related to \"has_campaign\". Remove \"source\"\n",
      "28\n",
      "              score                  feature\n",
      "feature 1  0.111520  totalViewProductRevenue\n",
      "feature 2  0.075568         productPriceMean\n",
      "feature 8  0.068548        timeOnSiteSeconds\n",
      "feature 0  0.054050    totalAddToCartRevenue\n",
      "feature 9  0.037268        totalAddToCartQty\n",
      "feature 6  0.021158           uniqueSearches\n",
      "feature 4  0.016333                hourOfDay\n"
     ]
    }
   ],
   "source": [
    "# Select features\n",
    "new_features = FeatureSelection.by_coorelation(preprocessed_data['features'], debug=True)\n",
    "new_features = FeatureSelection.by_permutation_importance(x=new_features, y=preprocessed_data['label'], debug=True)"
   ]
  },
  {
   "cell_type": "markdown",
   "id": "350e78aa",
   "metadata": {},
   "source": [
    "## XGBoost Model Training"
   ]
  },
  {
   "cell_type": "code",
   "execution_count": 14,
   "id": "97553fed",
   "metadata": {
    "scrolled": true
   },
   "outputs": [
    {
     "name": "stderr",
     "output_type": "stream",
     "text": [
      "/home/ec2-user/anaconda3/envs/python3/lib/python3.6/site-packages/xgboost/sklearn.py:1146: UserWarning: The use of label encoder in XGBClassifier is deprecated and will be removed in a future release. To remove this warning, do the following: 1) Pass option use_label_encoder=False when constructing XGBClassifier object; and 2) Encode your labels (y) as integers starting with 0, i.e. 0, 1, 2, ..., [num_class - 1].\n",
      "  warnings.warn(label_encoder_deprecation_msg, UserWarning)\n"
     ]
    }
   ],
   "source": [
    "xgb_model, test_x, test_y = GroupBy.train_xgb_bin_class(new_features, preprocessed_data['label'])"
   ]
  },
  {
   "cell_type": "code",
   "execution_count": 25,
   "id": "d85f9f81",
   "metadata": {},
   "outputs": [
    {
     "data": {
      "text/html": [
       "<div>\n",
       "<style scoped>\n",
       "    .dataframe tbody tr th:only-of-type {\n",
       "        vertical-align: middle;\n",
       "    }\n",
       "\n",
       "    .dataframe tbody tr th {\n",
       "        vertical-align: top;\n",
       "    }\n",
       "\n",
       "    .dataframe thead th {\n",
       "        text-align: right;\n",
       "    }\n",
       "</style>\n",
       "<table border=\"1\" class=\"dataframe\">\n",
       "  <thead>\n",
       "    <tr style=\"text-align: right;\">\n",
       "      <th></th>\n",
       "      <th>0</th>\n",
       "      <th>1</th>\n",
       "      <th>accuracy</th>\n",
       "      <th>macro avg</th>\n",
       "      <th>weighted avg</th>\n",
       "    </tr>\n",
       "  </thead>\n",
       "  <tbody>\n",
       "    <tr>\n",
       "      <th>precision</th>\n",
       "      <td>0.970744</td>\n",
       "      <td>0.725232</td>\n",
       "      <td>0.950735</td>\n",
       "      <td>0.847988</td>\n",
       "      <td>0.949635</td>\n",
       "    </tr>\n",
       "    <tr>\n",
       "      <th>recall</th>\n",
       "      <td>0.975500</td>\n",
       "      <td>0.687454</td>\n",
       "      <td>0.950735</td>\n",
       "      <td>0.831477</td>\n",
       "      <td>0.950735</td>\n",
       "    </tr>\n",
       "    <tr>\n",
       "      <th>f1-score</th>\n",
       "      <td>0.973116</td>\n",
       "      <td>0.705838</td>\n",
       "      <td>0.950735</td>\n",
       "      <td>0.839477</td>\n",
       "      <td>0.950136</td>\n",
       "    </tr>\n",
       "    <tr>\n",
       "      <th>support</th>\n",
       "      <td>14490.000000</td>\n",
       "      <td>1363.000000</td>\n",
       "      <td>0.950735</td>\n",
       "      <td>15853.000000</td>\n",
       "      <td>15853.000000</td>\n",
       "    </tr>\n",
       "  </tbody>\n",
       "</table>\n",
       "</div>"
      ],
      "text/plain": [
       "                      0            1  accuracy     macro avg  weighted avg\n",
       "precision      0.970744     0.725232  0.950735      0.847988      0.949635\n",
       "recall         0.975500     0.687454  0.950735      0.831477      0.950735\n",
       "f1-score       0.973116     0.705838  0.950735      0.839477      0.950136\n",
       "support    14490.000000  1363.000000  0.950735  15853.000000  15853.000000"
      ]
     },
     "execution_count": 25,
     "metadata": {},
     "output_type": "execute_result"
    }
   ],
   "source": [
    "from groupby_user_conversion import classification_report\n",
    "import pandas as pd\n",
    "\n",
    "predictions = xgb_model.predict(test_x)\n",
    "pd.DataFrame(classification_report(test_y, predictions, output_dict=True))"
   ]
  },
  {
   "cell_type": "markdown",
   "id": "d8e4f549",
   "metadata": {},
   "source": [
    "## Sequential Model Training"
   ]
  },
  {
   "cell_type": "code",
   "execution_count": 6,
   "id": "8a0ab019",
   "metadata": {},
   "outputs": [
    {
     "name": "stdout",
     "output_type": "stream",
     "text": [
      "Epoch 1/150\n",
      "27/27 [==============================] - 24s 76ms/step - loss: 0.6819 - recall: 0.7498 - val_loss: 0.6471 - val_recall: 0.8974\n",
      "Epoch 2/150\n",
      "27/27 [==============================] - 0s 11ms/step - loss: 0.6337 - recall: 0.9037 - val_loss: 0.5854 - val_recall: 0.9113\n",
      "Epoch 3/150\n",
      "27/27 [==============================] - 0s 11ms/step - loss: 0.5666 - recall: 0.9130 - val_loss: 0.5038 - val_recall: 0.9157\n",
      "Epoch 4/150\n",
      "27/27 [==============================] - 0s 11ms/step - loss: 0.4829 - recall: 0.9164 - val_loss: 0.4226 - val_recall: 0.9177\n",
      "Epoch 5/150\n",
      "27/27 [==============================] - 0s 10ms/step - loss: 0.4093 - recall: 0.9179 - val_loss: 0.3593 - val_recall: 0.9187\n",
      "Epoch 6/150\n",
      "27/27 [==============================] - 0s 10ms/step - loss: 0.3397 - recall: 0.9190 - val_loss: 0.3167 - val_recall: 0.9196\n",
      "Epoch 7/150\n",
      "27/27 [==============================] - 0s 10ms/step - loss: 0.3052 - recall: 0.9197 - val_loss: 0.2901 - val_recall: 0.9201\n",
      "Epoch 8/150\n",
      "27/27 [==============================] - 0s 10ms/step - loss: 0.2774 - recall: 0.9204 - val_loss: 0.2733 - val_recall: 0.9207\n",
      "Epoch 9/150\n",
      "27/27 [==============================] - 0s 10ms/step - loss: 0.2701 - recall: 0.9207 - val_loss: 0.2616 - val_recall: 0.9211\n",
      "Epoch 10/150\n",
      "27/27 [==============================] - 0s 11ms/step - loss: 0.2528 - recall: 0.9212 - val_loss: 0.2527 - val_recall: 0.9214\n",
      "Epoch 11/150\n",
      "27/27 [==============================] - 0s 10ms/step - loss: 0.2432 - recall: 0.9215 - val_loss: 0.2451 - val_recall: 0.9217\n",
      "Epoch 12/150\n",
      "27/27 [==============================] - 0s 10ms/step - loss: 0.2328 - recall: 0.9217 - val_loss: 0.2386 - val_recall: 0.9219\n",
      "Epoch 13/150\n",
      "27/27 [==============================] - 0s 10ms/step - loss: 0.2225 - recall: 0.9220 - val_loss: 0.2331 - val_recall: 0.9221\n",
      "Epoch 14/150\n",
      "27/27 [==============================] - 0s 10ms/step - loss: 0.2241 - recall: 0.9222 - val_loss: 0.2280 - val_recall: 0.9223\n",
      "Epoch 15/150\n",
      "27/27 [==============================] - 0s 10ms/step - loss: 0.2165 - recall: 0.9223 - val_loss: 0.2234 - val_recall: 0.9224\n",
      "Epoch 16/150\n",
      "27/27 [==============================] - 0s 10ms/step - loss: 0.2169 - recall: 0.9225 - val_loss: 0.2193 - val_recall: 0.9226\n",
      "Epoch 17/150\n",
      "27/27 [==============================] - 0s 10ms/step - loss: 0.2058 - recall: 0.9227 - val_loss: 0.2157 - val_recall: 0.9227\n",
      "Epoch 18/150\n",
      "27/27 [==============================] - 0s 10ms/step - loss: 0.2095 - recall: 0.9228 - val_loss: 0.2123 - val_recall: 0.9229\n",
      "Epoch 19/150\n",
      "27/27 [==============================] - 0s 10ms/step - loss: 0.1965 - recall: 0.9229 - val_loss: 0.2091 - val_recall: 0.9230\n",
      "Epoch 20/150\n",
      "27/27 [==============================] - 0s 10ms/step - loss: 0.2042 - recall: 0.9230 - val_loss: 0.2062 - val_recall: 0.9231\n",
      "Epoch 21/150\n",
      "27/27 [==============================] - 0s 10ms/step - loss: 0.1957 - recall: 0.9232 - val_loss: 0.2035 - val_recall: 0.9232\n",
      "Epoch 22/150\n",
      "27/27 [==============================] - 0s 10ms/step - loss: 0.1940 - recall: 0.9233 - val_loss: 0.2003 - val_recall: 0.9234\n",
      "Epoch 23/150\n",
      "27/27 [==============================] - 0s 10ms/step - loss: 0.1922 - recall: 0.9234 - val_loss: 0.1974 - val_recall: 0.9235\n",
      "Epoch 24/150\n",
      "27/27 [==============================] - 0s 10ms/step - loss: 0.1922 - recall: 0.9235 - val_loss: 0.1945 - val_recall: 0.9236\n",
      "Epoch 25/150\n",
      "27/27 [==============================] - 0s 10ms/step - loss: 0.1869 - recall: 0.9236 - val_loss: 0.1920 - val_recall: 0.9236\n",
      "Epoch 26/150\n",
      "27/27 [==============================] - 0s 10ms/step - loss: 0.1839 - recall: 0.9237 - val_loss: 0.1891 - val_recall: 0.9237\n",
      "Epoch 27/150\n",
      "27/27 [==============================] - 0s 10ms/step - loss: 0.1837 - recall: 0.9238 - val_loss: 0.1865 - val_recall: 0.9238\n",
      "Epoch 28/150\n",
      "27/27 [==============================] - 0s 10ms/step - loss: 0.1784 - recall: 0.9239 - val_loss: 0.1835 - val_recall: 0.9239\n",
      "Epoch 29/150\n",
      "27/27 [==============================] - 0s 10ms/step - loss: 0.1721 - recall: 0.9240 - val_loss: 0.1806 - val_recall: 0.9240\n",
      "Epoch 30/150\n",
      "27/27 [==============================] - 0s 10ms/step - loss: 0.1717 - recall: 0.9240 - val_loss: 0.1775 - val_recall: 0.9242\n",
      "Epoch 31/150\n",
      "27/27 [==============================] - 0s 10ms/step - loss: 0.1719 - recall: 0.9242 - val_loss: 0.1749 - val_recall: 0.9244\n",
      "Epoch 32/150\n",
      "27/27 [==============================] - 0s 10ms/step - loss: 0.1731 - recall: 0.9244 - val_loss: 0.1723 - val_recall: 0.9246\n",
      "Epoch 33/150\n",
      "27/27 [==============================] - 0s 10ms/step - loss: 0.1617 - recall: 0.9247 - val_loss: 0.1692 - val_recall: 0.9248\n",
      "Epoch 34/150\n",
      "27/27 [==============================] - 0s 10ms/step - loss: 0.1588 - recall: 0.9249 - val_loss: 0.1670 - val_recall: 0.9251\n",
      "Epoch 35/150\n",
      "27/27 [==============================] - 0s 10ms/step - loss: 0.1560 - recall: 0.9252 - val_loss: 0.1641 - val_recall: 0.9254\n",
      "Epoch 36/150\n",
      "27/27 [==============================] - 0s 10ms/step - loss: 0.1565 - recall: 0.9255 - val_loss: 0.1630 - val_recall: 0.9256\n",
      "Epoch 37/150\n",
      "27/27 [==============================] - 0s 10ms/step - loss: 0.1559 - recall: 0.9257 - val_loss: 0.1593 - val_recall: 0.9259\n",
      "Epoch 38/150\n",
      "27/27 [==============================] - 0s 10ms/step - loss: 0.1511 - recall: 0.9260 - val_loss: 0.1570 - val_recall: 0.9261\n",
      "Epoch 39/150\n",
      "27/27 [==============================] - 0s 10ms/step - loss: 0.1473 - recall: 0.9262 - val_loss: 0.1549 - val_recall: 0.9264\n",
      "Epoch 40/150\n",
      "27/27 [==============================] - 0s 10ms/step - loss: 0.1492 - recall: 0.9265 - val_loss: 0.1544 - val_recall: 0.9266\n",
      "Epoch 41/150\n",
      "27/27 [==============================] - 0s 10ms/step - loss: 0.1475 - recall: 0.9267 - val_loss: 0.1524 - val_recall: 0.9269\n",
      "Epoch 42/150\n",
      "27/27 [==============================] - 0s 10ms/step - loss: 0.1443 - recall: 0.9270 - val_loss: 0.1508 - val_recall: 0.9272\n",
      "Epoch 43/150\n",
      "27/27 [==============================] - 0s 10ms/step - loss: 0.1440 - recall: 0.9273 - val_loss: 0.1477 - val_recall: 0.9275\n",
      "Epoch 44/150\n",
      "27/27 [==============================] - 0s 10ms/step - loss: 0.1422 - recall: 0.9275 - val_loss: 0.1465 - val_recall: 0.9277\n",
      "Epoch 45/150\n",
      "27/27 [==============================] - 0s 10ms/step - loss: 0.1341 - recall: 0.9278 - val_loss: 0.1448 - val_recall: 0.9280\n",
      "Epoch 46/150\n",
      "27/27 [==============================] - 0s 10ms/step - loss: 0.1379 - recall: 0.9281 - val_loss: 0.1430 - val_recall: 0.9282\n",
      "Epoch 47/150\n",
      "27/27 [==============================] - 0s 10ms/step - loss: 0.1371 - recall: 0.9283 - val_loss: 0.1412 - val_recall: 0.9285\n",
      "Epoch 48/150\n",
      "27/27 [==============================] - 0s 10ms/step - loss: 0.1347 - recall: 0.9286 - val_loss: 0.1402 - val_recall: 0.9287\n",
      "Epoch 49/150\n",
      "27/27 [==============================] - 0s 10ms/step - loss: 0.1328 - recall: 0.9288 - val_loss: 0.1382 - val_recall: 0.9290\n",
      "Epoch 50/150\n",
      "27/27 [==============================] - 0s 10ms/step - loss: 0.1312 - recall: 0.9291 - val_loss: 0.1375 - val_recall: 0.9292\n",
      "Epoch 51/150\n",
      "27/27 [==============================] - 0s 10ms/step - loss: 0.1324 - recall: 0.9293 - val_loss: 0.1380 - val_recall: 0.9295\n",
      "Epoch 52/150\n",
      "27/27 [==============================] - 0s 10ms/step - loss: 0.1292 - recall: 0.9295 - val_loss: 0.1353 - val_recall: 0.9297\n",
      "Epoch 53/150\n",
      "27/27 [==============================] - 0s 10ms/step - loss: 0.1236 - recall: 0.9298 - val_loss: 0.1336 - val_recall: 0.9299\n",
      "Epoch 54/150\n",
      "27/27 [==============================] - 0s 10ms/step - loss: 0.1249 - recall: 0.9300 - val_loss: 0.1316 - val_recall: 0.9302\n",
      "Epoch 55/150\n",
      "27/27 [==============================] - 0s 10ms/step - loss: 0.1258 - recall: 0.9303 - val_loss: 0.1321 - val_recall: 0.9305\n",
      "Epoch 56/150\n",
      "27/27 [==============================] - 0s 10ms/step - loss: 0.1250 - recall: 0.9305 - val_loss: 0.1309 - val_recall: 0.9307\n",
      "Epoch 57/150\n",
      "27/27 [==============================] - 0s 10ms/step - loss: 0.1238 - recall: 0.9308 - val_loss: 0.1285 - val_recall: 0.9310\n",
      "Epoch 58/150\n",
      "27/27 [==============================] - 0s 10ms/step - loss: 0.1202 - recall: 0.9311 - val_loss: 0.1265 - val_recall: 0.9312\n",
      "Epoch 59/150\n",
      "27/27 [==============================] - 0s 10ms/step - loss: 0.1193 - recall: 0.9313 - val_loss: 0.1260 - val_recall: 0.9315\n",
      "Epoch 60/150\n",
      "27/27 [==============================] - 0s 10ms/step - loss: 0.1191 - recall: 0.9316 - val_loss: 0.1251 - val_recall: 0.9318\n",
      "Epoch 61/150\n",
      "27/27 [==============================] - 0s 10ms/step - loss: 0.1135 - recall: 0.9318 - val_loss: 0.1232 - val_recall: 0.9320\n",
      "Epoch 62/150\n",
      "27/27 [==============================] - 0s 10ms/step - loss: 0.1138 - recall: 0.9321 - val_loss: 0.1220 - val_recall: 0.9323\n",
      "Epoch 63/150\n",
      "27/27 [==============================] - 0s 10ms/step - loss: 0.1132 - recall: 0.9323 - val_loss: 0.1230 - val_recall: 0.9325\n",
      "Epoch 64/150\n",
      "27/27 [==============================] - 0s 10ms/step - loss: 0.1121 - recall: 0.9326 - val_loss: 0.1222 - val_recall: 0.9328\n",
      "Epoch 65/150\n",
      "27/27 [==============================] - 0s 10ms/step - loss: 0.1094 - recall: 0.9328 - val_loss: 0.1185 - val_recall: 0.9330\n",
      "Epoch 66/150\n",
      "27/27 [==============================] - 0s 10ms/step - loss: 0.1096 - recall: 0.9331 - val_loss: 0.1195 - val_recall: 0.9333\n",
      "Epoch 67/150\n",
      "27/27 [==============================] - 0s 10ms/step - loss: 0.1076 - recall: 0.9333 - val_loss: 0.1158 - val_recall: 0.9335\n",
      "Epoch 68/150\n",
      "27/27 [==============================] - 0s 10ms/step - loss: 0.1058 - recall: 0.9336 - val_loss: 0.1149 - val_recall: 0.9337\n",
      "Epoch 69/150\n",
      "27/27 [==============================] - 0s 10ms/step - loss: 0.1064 - recall: 0.9338 - val_loss: 0.1129 - val_recall: 0.9340\n",
      "Epoch 70/150\n",
      "27/27 [==============================] - 0s 10ms/step - loss: 0.1009 - recall: 0.9341 - val_loss: 0.1118 - val_recall: 0.9343\n",
      "Epoch 71/150\n",
      "27/27 [==============================] - 0s 10ms/step - loss: 0.1005 - recall: 0.9344 - val_loss: 0.1103 - val_recall: 0.9346\n",
      "Epoch 72/150\n",
      "27/27 [==============================] - 0s 10ms/step - loss: 0.1021 - recall: 0.9346 - val_loss: 0.1093 - val_recall: 0.9348\n",
      "Epoch 73/150\n",
      "27/27 [==============================] - 0s 10ms/step - loss: 0.0992 - recall: 0.9349 - val_loss: 0.1094 - val_recall: 0.9351\n",
      "Epoch 74/150\n",
      "27/27 [==============================] - 0s 10ms/step - loss: 0.0981 - recall: 0.9352 - val_loss: 0.1084 - val_recall: 0.9354\n",
      "Epoch 75/150\n",
      "27/27 [==============================] - 0s 10ms/step - loss: 0.0957 - recall: 0.9354 - val_loss: 0.1087 - val_recall: 0.9356\n",
      "Epoch 76/150\n",
      "27/27 [==============================] - 0s 10ms/step - loss: 0.0970 - recall: 0.9357 - val_loss: 0.1054 - val_recall: 0.9359\n",
      "Epoch 77/150\n",
      "27/27 [==============================] - 0s 10ms/step - loss: 0.0952 - recall: 0.9360 - val_loss: 0.1048 - val_recall: 0.9361\n",
      "Epoch 78/150\n",
      "27/27 [==============================] - 0s 10ms/step - loss: 0.0943 - recall: 0.9362 - val_loss: 0.1060 - val_recall: 0.9364\n",
      "Epoch 79/150\n",
      "27/27 [==============================] - 0s 10ms/step - loss: 0.0951 - recall: 0.9365 - val_loss: 0.1037 - val_recall: 0.9367\n",
      "Epoch 80/150\n",
      "27/27 [==============================] - 0s 10ms/step - loss: 0.0929 - recall: 0.9367 - val_loss: 0.1026 - val_recall: 0.9369\n",
      "Epoch 81/150\n",
      "27/27 [==============================] - 0s 10ms/step - loss: 0.0923 - recall: 0.9370 - val_loss: 0.1031 - val_recall: 0.9372\n",
      "Epoch 82/150\n",
      "27/27 [==============================] - 0s 10ms/step - loss: 0.0943 - recall: 0.9372 - val_loss: 0.1002 - val_recall: 0.9374\n",
      "Epoch 83/150\n",
      "27/27 [==============================] - 0s 10ms/step - loss: 0.0890 - recall: 0.9375 - val_loss: 0.0998 - val_recall: 0.9377\n",
      "Epoch 84/150\n",
      "27/27 [==============================] - 0s 10ms/step - loss: 0.0913 - recall: 0.9377 - val_loss: 0.0995 - val_recall: 0.9379\n",
      "Epoch 85/150\n",
      "27/27 [==============================] - 0s 10ms/step - loss: 0.0886 - recall: 0.9380 - val_loss: 0.0981 - val_recall: 0.9382\n",
      "Epoch 86/150\n",
      "27/27 [==============================] - 0s 10ms/step - loss: 0.0871 - recall: 0.9383 - val_loss: 0.0982 - val_recall: 0.9385\n",
      "Epoch 87/150\n",
      "27/27 [==============================] - 0s 10ms/step - loss: 0.0888 - recall: 0.9385 - val_loss: 0.0997 - val_recall: 0.9387\n",
      "Epoch 88/150\n",
      "27/27 [==============================] - 0s 10ms/step - loss: 0.0848 - recall: 0.9388 - val_loss: 0.0973 - val_recall: 0.9389\n",
      "Epoch 89/150\n",
      "27/27 [==============================] - 0s 10ms/step - loss: 0.0811 - recall: 0.9390 - val_loss: 0.0967 - val_recall: 0.9392\n",
      "Epoch 90/150\n",
      "27/27 [==============================] - 0s 10ms/step - loss: 0.0836 - recall: 0.9393 - val_loss: 0.0981 - val_recall: 0.9394\n",
      "Epoch 91/150\n",
      "27/27 [==============================] - 0s 10ms/step - loss: 0.0824 - recall: 0.9395 - val_loss: 0.0951 - val_recall: 0.9397\n",
      "Epoch 92/150\n",
      "27/27 [==============================] - 0s 10ms/step - loss: 0.0848 - recall: 0.9398 - val_loss: 0.0941 - val_recall: 0.9399\n",
      "Epoch 93/150\n",
      "27/27 [==============================] - 0s 10ms/step - loss: 0.0808 - recall: 0.9400 - val_loss: 0.0934 - val_recall: 0.9402\n",
      "Epoch 94/150\n",
      "27/27 [==============================] - 0s 10ms/step - loss: 0.0818 - recall: 0.9402 - val_loss: 0.0940 - val_recall: 0.9404\n",
      "Epoch 95/150\n",
      "27/27 [==============================] - 0s 10ms/step - loss: 0.0796 - recall: 0.9405 - val_loss: 0.0942 - val_recall: 0.9406\n",
      "Epoch 96/150\n",
      "27/27 [==============================] - 0s 10ms/step - loss: 0.0794 - recall: 0.9407 - val_loss: 0.0923 - val_recall: 0.9409\n",
      "Epoch 97/150\n",
      "27/27 [==============================] - 0s 10ms/step - loss: 0.0809 - recall: 0.9409 - val_loss: 0.0910 - val_recall: 0.9411\n",
      "Epoch 98/150\n",
      "27/27 [==============================] - 0s 10ms/step - loss: 0.0785 - recall: 0.9412 - val_loss: 0.0912 - val_recall: 0.9413\n",
      "Epoch 99/150\n",
      "27/27 [==============================] - 0s 10ms/step - loss: 0.0792 - recall: 0.9414 - val_loss: 0.0909 - val_recall: 0.9416\n",
      "Epoch 100/150\n",
      "27/27 [==============================] - 0s 10ms/step - loss: 0.0775 - recall: 0.9416 - val_loss: 0.0919 - val_recall: 0.9418\n",
      "Epoch 101/150\n",
      "27/27 [==============================] - 0s 10ms/step - loss: 0.0795 - recall: 0.9418 - val_loss: 0.0893 - val_recall: 0.9420\n",
      "Epoch 102/150\n",
      "27/27 [==============================] - 0s 10ms/step - loss: 0.0756 - recall: 0.9421 - val_loss: 0.0901 - val_recall: 0.9422\n",
      "Epoch 103/150\n",
      "27/27 [==============================] - 0s 10ms/step - loss: 0.0753 - recall: 0.9423 - val_loss: 0.0872 - val_recall: 0.9424\n",
      "Epoch 104/150\n",
      "27/27 [==============================] - 0s 10ms/step - loss: 0.0747 - recall: 0.9425 - val_loss: 0.0876 - val_recall: 0.9426\n",
      "Epoch 105/150\n",
      "27/27 [==============================] - 0s 10ms/step - loss: 0.0733 - recall: 0.9427 - val_loss: 0.0878 - val_recall: 0.9428\n",
      "Epoch 106/150\n",
      "27/27 [==============================] - 0s 10ms/step - loss: 0.0757 - recall: 0.9429 - val_loss: 0.0873 - val_recall: 0.9430\n",
      "Epoch 107/150\n",
      "27/27 [==============================] - 0s 10ms/step - loss: 0.0758 - recall: 0.9431 - val_loss: 0.0867 - val_recall: 0.9432\n",
      "Epoch 108/150\n",
      "27/27 [==============================] - 0s 10ms/step - loss: 0.0709 - recall: 0.9433 - val_loss: 0.0865 - val_recall: 0.9434\n",
      "Epoch 109/150\n",
      "27/27 [==============================] - 0s 10ms/step - loss: 0.0766 - recall: 0.9435 - val_loss: 0.0852 - val_recall: 0.9436\n",
      "Epoch 110/150\n",
      "27/27 [==============================] - 0s 10ms/step - loss: 0.0737 - recall: 0.9437 - val_loss: 0.0848 - val_recall: 0.9438\n",
      "Epoch 111/150\n",
      "27/27 [==============================] - 0s 10ms/step - loss: 0.0707 - recall: 0.9439 - val_loss: 0.0835 - val_recall: 0.9440\n",
      "Epoch 112/150\n",
      "27/27 [==============================] - 0s 10ms/step - loss: 0.0704 - recall: 0.9441 - val_loss: 0.0849 - val_recall: 0.9443\n",
      "Epoch 113/150\n",
      "27/27 [==============================] - 0s 10ms/step - loss: 0.0689 - recall: 0.9443 - val_loss: 0.0826 - val_recall: 0.9445\n",
      "Epoch 114/150\n",
      "27/27 [==============================] - 0s 10ms/step - loss: 0.0716 - recall: 0.9445 - val_loss: 0.0829 - val_recall: 0.9447\n",
      "Epoch 115/150\n",
      "27/27 [==============================] - 0s 10ms/step - loss: 0.0691 - recall: 0.9447 - val_loss: 0.0819 - val_recall: 0.9449\n",
      "Epoch 116/150\n",
      "27/27 [==============================] - 0s 10ms/step - loss: 0.0655 - recall: 0.9450 - val_loss: 0.0810 - val_recall: 0.9451\n",
      "Epoch 117/150\n",
      "27/27 [==============================] - 0s 10ms/step - loss: 0.0653 - recall: 0.9452 - val_loss: 0.0801 - val_recall: 0.9453\n",
      "Epoch 118/150\n",
      "27/27 [==============================] - 0s 10ms/step - loss: 0.0636 - recall: 0.9454 - val_loss: 0.0798 - val_recall: 0.9456\n",
      "Epoch 119/150\n",
      "27/27 [==============================] - 0s 10ms/step - loss: 0.0670 - recall: 0.9456 - val_loss: 0.0811 - val_recall: 0.9458\n",
      "Epoch 120/150\n",
      "27/27 [==============================] - 0s 10ms/step - loss: 0.0659 - recall: 0.9458 - val_loss: 0.0853 - val_recall: 0.9460\n",
      "Epoch 121/150\n",
      "27/27 [==============================] - 0s 10ms/step - loss: 0.0658 - recall: 0.9460 - val_loss: 0.0782 - val_recall: 0.9462\n",
      "Epoch 122/150\n",
      "27/27 [==============================] - 0s 10ms/step - loss: 0.0647 - recall: 0.9462 - val_loss: 0.0802 - val_recall: 0.9464\n",
      "Epoch 123/150\n",
      "27/27 [==============================] - 0s 10ms/step - loss: 0.0678 - recall: 0.9464 - val_loss: 0.0802 - val_recall: 0.9466\n",
      "Epoch 124/150\n",
      "27/27 [==============================] - 0s 10ms/step - loss: 0.0644 - recall: 0.9466 - val_loss: 0.0824 - val_recall: 0.9468\n",
      "Epoch 125/150\n",
      "27/27 [==============================] - 0s 10ms/step - loss: 0.0630 - recall: 0.9468 - val_loss: 0.0788 - val_recall: 0.9470\n",
      "Epoch 126/150\n",
      "27/27 [==============================] - 0s 10ms/step - loss: 0.0610 - recall: 0.9470 - val_loss: 0.0845 - val_recall: 0.9472\n",
      "Epoch 127/150\n",
      "27/27 [==============================] - 0s 10ms/step - loss: 0.0641 - recall: 0.9472 - val_loss: 0.0759 - val_recall: 0.9474\n",
      "Epoch 128/150\n",
      "27/27 [==============================] - 0s 10ms/step - loss: 0.0611 - recall: 0.9474 - val_loss: 0.0782 - val_recall: 0.9476\n",
      "Epoch 129/150\n",
      "27/27 [==============================] - 0s 10ms/step - loss: 0.0643 - recall: 0.9476 - val_loss: 0.0756 - val_recall: 0.9478\n",
      "Epoch 130/150\n",
      "27/27 [==============================] - 0s 10ms/step - loss: 0.0575 - recall: 0.9478 - val_loss: 0.0741 - val_recall: 0.9480\n",
      "Epoch 131/150\n",
      "27/27 [==============================] - 0s 10ms/step - loss: 0.0584 - recall: 0.9480 - val_loss: 0.0784 - val_recall: 0.9481\n",
      "Epoch 132/150\n",
      "27/27 [==============================] - 0s 10ms/step - loss: 0.0636 - recall: 0.9482 - val_loss: 0.0729 - val_recall: 0.9483\n",
      "Epoch 133/150\n",
      "27/27 [==============================] - 0s 10ms/step - loss: 0.0572 - recall: 0.9484 - val_loss: 0.0771 - val_recall: 0.9485\n",
      "Epoch 134/150\n",
      "27/27 [==============================] - 0s 10ms/step - loss: 0.0629 - recall: 0.9486 - val_loss: 0.0733 - val_recall: 0.9487\n",
      "Epoch 135/150\n",
      "27/27 [==============================] - 0s 10ms/step - loss: 0.0564 - recall: 0.9488 - val_loss: 0.0719 - val_recall: 0.9489\n",
      "Epoch 136/150\n",
      "27/27 [==============================] - 0s 10ms/step - loss: 0.0575 - recall: 0.9490 - val_loss: 0.0721 - val_recall: 0.9491\n",
      "Epoch 137/150\n",
      "27/27 [==============================] - 0s 10ms/step - loss: 0.0587 - recall: 0.9491 - val_loss: 0.0717 - val_recall: 0.9493\n",
      "Epoch 138/150\n",
      "27/27 [==============================] - 0s 10ms/step - loss: 0.0563 - recall: 0.9493 - val_loss: 0.0712 - val_recall: 0.9495\n",
      "Epoch 139/150\n",
      "27/27 [==============================] - 0s 10ms/step - loss: 0.0556 - recall: 0.9495 - val_loss: 0.0706 - val_recall: 0.9496\n",
      "Epoch 140/150\n",
      "27/27 [==============================] - 0s 10ms/step - loss: 0.0566 - recall: 0.9497 - val_loss: 0.0716 - val_recall: 0.9498\n",
      "Epoch 141/150\n",
      "27/27 [==============================] - 0s 10ms/step - loss: 0.0531 - recall: 0.9499 - val_loss: 0.0713 - val_recall: 0.9500\n",
      "Epoch 142/150\n",
      "27/27 [==============================] - 0s 10ms/step - loss: 0.0561 - recall: 0.9501 - val_loss: 0.0691 - val_recall: 0.9502\n",
      "Epoch 143/150\n",
      "27/27 [==============================] - 0s 10ms/step - loss: 0.0542 - recall: 0.9503 - val_loss: 0.0703 - val_recall: 0.9504\n",
      "Epoch 144/150\n",
      "27/27 [==============================] - 0s 10ms/step - loss: 0.0525 - recall: 0.9505 - val_loss: 0.0686 - val_recall: 0.9506\n",
      "Epoch 145/150\n",
      "27/27 [==============================] - 0s 10ms/step - loss: 0.0520 - recall: 0.9506 - val_loss: 0.0682 - val_recall: 0.9508\n",
      "Epoch 146/150\n",
      "27/27 [==============================] - 0s 10ms/step - loss: 0.0509 - recall: 0.9508 - val_loss: 0.0714 - val_recall: 0.9510\n",
      "Epoch 147/150\n",
      "27/27 [==============================] - 0s 10ms/step - loss: 0.0540 - recall: 0.9510 - val_loss: 0.0689 - val_recall: 0.9511\n",
      "Epoch 148/150\n",
      "27/27 [==============================] - 0s 10ms/step - loss: 0.0530 - recall: 0.9512 - val_loss: 0.0728 - val_recall: 0.9513\n",
      "Epoch 149/150\n",
      "27/27 [==============================] - 0s 10ms/step - loss: 0.0595 - recall: 0.9514 - val_loss: 0.0672 - val_recall: 0.9515\n",
      "Epoch 150/150\n",
      "27/27 [==============================] - 0s 10ms/step - loss: 0.0486 - recall: 0.9515 - val_loss: 0.0686 - val_recall: 0.9517\n"
     ]
    }
   ],
   "source": [
    "preprocessed_data_for_lstm = g.preprocessing_for_sequence_model(num_of_events=30)\n",
    "lstm_model, test_x, test_y = GroupBy.train_lstm(\n",
    "    preprocessed_data_for_lstm['features'], preprocessed_data_for_lstm['label'])"
   ]
  },
  {
   "cell_type": "code",
   "execution_count": 7,
   "id": "71e1c579",
   "metadata": {},
   "outputs": [
    {
     "name": "stdout",
     "output_type": "stream",
     "text": [
      "dict_keys(['loss', 'recall', 'val_loss', 'val_recall'])\n"
     ]
    },
    {
     "data": {
      "image/png": "[encoded data removed]",
      "text/plain": [
       "<Figure size 432x288 with 1 Axes>"
      ]
     },
     "metadata": {
      "needs_background": "light"
     },
     "output_type": "display_data"
    },
    {
     "data": {
      "image/png": "[encoded data removed]",
      "text/plain": [
       "<Figure size 432x288 with 1 Axes>"
      ]
     },
     "metadata": {
      "needs_background": "light"
     },
     "output_type": "display_data"
    }
   ],
   "source": [
    "Evaluation.plot_history(lstm_model.history)"
   ]
  },
  {
   "cell_type": "code",
   "execution_count": 13,
   "id": "b6f13de8",
   "metadata": {},
   "outputs": [
    {
     "name": "stderr",
     "output_type": "stream",
     "text": [
      "/home/ec2-user/anaconda3/envs/python3/lib/python3.6/site-packages/keras/engine/sequential.py:450: UserWarning: `model.predict_classes()` is deprecated and will be removed after 2021-01-01. Please use instead:* `np.argmax(model.predict(x), axis=-1)`,   if your model does multi-class classification   (e.g. if it uses a `softmax` last-layer activation).* `(model.predict(x) > 0.5).astype(\"int32\")`,   if your model does binary classification   (e.g. if it uses a `sigmoid` last-layer activation).\n",
      "  warnings.warn('`model.predict_classes()` is deprecated and '\n"
     ]
    },
    {
     "name": "stdout",
     "output_type": "stream",
     "text": [
      "Accuracy: 0.976771\n",
      "Precision: 0.944515\n",
      "Recall: 0.726479\n",
      "F1 score: 0.821272\n"
     ]
    }
   ],
   "source": [
    "Evaluation.evaluate_on_test(test_x, test_y, lstm_model)"
   ]
  }
 ],
 "metadata": {
  "kernelspec": {
   "display_name": "conda_python3",
   "language": "python",
   "name": "conda_python3"
  },
  "language_info": {
   "codemirror_mode": {
    "name": "ipython",
    "version": 3
   },
   "file_extension": ".py",
   "mimetype": "text/x-python",
   "name": "python",
   "nbconvert_exporter": "python",
   "pygments_lexer": "ipython3",
   "version": "3.6.13"
  }
 },
 "nbformat": 4,
 "nbformat_minor": 5
}
