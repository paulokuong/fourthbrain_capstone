{
 "cells": [
  {
   "cell_type": "markdown",
   "id": "ad1c084b",
   "metadata": {},
   "source": [
    "## Problems"
   ]
  },
  {
   "cell_type": "markdown",
   "id": "b2c572df",
   "metadata": {},
   "source": [
    "### Conversion\n",
    "1.\tIs it possible to predict customer conversion (from viewing to purchasing)?\n",
    "2.\tCan we identify “new customers”? If yes then what is the best strategy to work with them?\n",
    "3.\tWhat are the top features that define customer conversion?\n",
    "4.\tCan we explain and visualize the predictive model for customer conversion on a journey and at a session level?\n",
    "5.\tIs there a pattern and trend across product types regarding the conversion event?\n",
    "\n",
    "### Personalization\n",
    "1.\tCan we personalize the experience from customer-product interactions?\n",
    "2.\tDoes the product catalogue information help in improving customer experience?\n",
    "3.\tCan personalized shopping experience be predictively modeled?\n",
    "4.\tCan we apply transfer learning from other E-commerce data sets to our local data set?"
   ]
  },
  {
   "cell_type": "markdown",
   "id": "6e868ec0",
   "metadata": {},
   "source": [
    "## Preprocessing"
   ]
  },
  {
   "cell_type": "code",
   "execution_count": 1,
   "id": "3b641140",
   "metadata": {},
   "outputs": [],
   "source": [
    "import pandas as pd\n",
    "import numpy as np\n",
    "import seaborn as sns\n",
    "from datetime import datetime\n",
    "df = pd.read_json('raw_data.json',lines=True)\n",
    "# df = pd.read_json('raw_data.json', lines=True, chunksize = 10000)"
   ]
  },
  {
   "cell_type": "code",
   "execution_count": 3,
   "id": "22a1cb0a",
   "metadata": {
    "scrolled": false
   },
   "outputs": [
    {
     "data": {
      "text/plain": [
       "Index(['customerId', 'customerArea', 'customerVisitorId', 'customerLoginId',\n",
       "       'customerSessionId', 'sessionStartTime', 'sessionEndTime',\n",
       "       'customerSessionNumber', 'totals', 'attributedTotals', 'trafficSource',\n",
       "       'hits'],\n",
       "      dtype='object')"
      ]
     },
     "execution_count": 3,
     "metadata": {},
     "output_type": "execute_result"
    }
   ],
   "source": [
    "df.columns"
   ]
  },
  {
   "cell_type": "code",
   "execution_count": 110,
   "id": "05ecf0f2",
   "metadata": {},
   "outputs": [
    {
     "data": {
      "text/plain": [
       "48039"
      ]
     },
     "execution_count": 110,
     "metadata": {},
     "output_type": "execute_result"
    }
   ],
   "source": [
    "len(pd.unique(df['customerSessionId']))"
   ]
  },
  {
   "cell_type": "markdown",
   "id": "f845f260",
   "metadata": {},
   "source": [
    "## Data Exploration"
   ]
  },
  {
   "cell_type": "code",
   "execution_count": 8,
   "id": "3cc46472",
   "metadata": {},
   "outputs": [
    {
     "name": "stderr",
     "output_type": "stream",
     "text": [
      "/Users/paulokuong/Documents/personal/fourth_brain_course/env/lib/python3.7/site-packages/pandas/core/indexing.py:1596: SettingWithCopyWarning: \n",
      "A value is trying to be set on a copy of a slice from a DataFrame.\n",
      "Try using .loc[row_indexer,col_indexer] = value instead\n",
      "\n",
      "See the caveats in the documentation: https://pandas.pydata.org/pandas-docs/stable/user_guide/indexing.html#returning-a-view-versus-a-copy\n",
      "  self.obj[key] = _infer_fill_value(value)\n",
      "/Users/paulokuong/Documents/personal/fourth_brain_course/env/lib/python3.7/site-packages/pandas/core/indexing.py:1743: SettingWithCopyWarning: \n",
      "A value is trying to be set on a copy of a slice from a DataFrame.\n",
      "Try using .loc[row_indexer,col_indexer] = value instead\n",
      "\n",
      "See the caveats in the documentation: https://pandas.pydata.org/pandas-docs/stable/user_guide/indexing.html#returning-a-view-versus-a-copy\n",
      "  isetter(ilocs[0], value)\n",
      "/Users/paulokuong/Documents/personal/fourth_brain_course/env/lib/python3.7/site-packages/numpy/core/fromnumeric.py:3373: RuntimeWarning: Mean of empty slice.\n",
      "  out=out, **kwargs)\n"
     ]
    }
   ],
   "source": [
    "transformed_df = df[['customerId','customerVisitorId','customerSessionId',\n",
    "                     'sessionStartTime','sessionEndTime', 'customerSessionNumber']]\n",
    "transformed_df.loc[:,'deviceCategory'] = df['trafficSource'].transform(lambda x: x.get('deviceCategory',''))\n",
    "transformed_df.loc[:,'browser'] = df['trafficSource'].transform(lambda x: x.get('browser',''))\n",
    "transformed_df.loc[:,'os'] = df['trafficSource'].transform(lambda x: x.get('os',''))\n",
    "transformed_df.loc[:,'userAgent'] = df['trafficSource'].transform(lambda x: x.get('userAgent',''))\n",
    "transformed_df.loc[:,'language']=df['trafficSource'].transform(lambda x: x.get('language'))\n",
    "transformed_df.loc[:,'source']=df['trafficSource'].transform(lambda x: x.get('source'))\n",
    "transformed_df.loc[:,'has_campaign']=df['trafficSource'].transform(lambda x: 1 if x.get('campaign') is not None else 0)\n",
    "transformed_df.loc[:,'sessionStartTime'] = df['sessionStartTime'].transform(\n",
    "    lambda x: datetime.strptime(x,'%Y-%m-%d %H:%M:%S.%f %Z'))\n",
    "transformed_df.loc[:,'sessionEndTime'] = df['sessionEndTime'].transform(\n",
    "    lambda x: datetime.strptime(x,'%Y-%m-%d %H:%M:%S.%f %Z'))\n",
    "transformed_df.loc[:,'sessionDuration'] = df[['sessionStartTime','sessionEndTime']].apply(\n",
    "    lambda x: (datetime.strptime(x['sessionEndTime'],'%Y-%m-%d %H:%M:%S.%f %Z') -\n",
    "               datetime.strptime(x['sessionStartTime'],'%Y-%m-%d %H:%M:%S.%f %Z')).seconds,axis=1)\n",
    "transformed_df.loc[:,'hourOfDay'] = df['sessionStartTime'].transform(\n",
    "    lambda x: int(datetime.strptime(x,'%Y-%m-%d %H:%M:%S.%f %Z').strftime(\"%H\")))\n",
    "total_df = []\n",
    "for i in range(len(df['totals'])):\n",
    "    new_dict = {k:float(v) if 'total' in k or 'unique' in k else v for k,v in df.iloc[i]['totals'].items()}\n",
    "    total_df.append(new_dict)\n",
    "cleaned_df = pd.concat([transformed_df, pd.DataFrame(total_df)],axis=1)\n",
    "cleaned_df = cleaned_df.fillna(0)\n",
    "\n",
    "# cleaned_df = pd.get_dummies(cleaned_df,columns=['deviceCategory','browser','os','language','source'])\n",
    "all_browsers = sorted(pd.unique(cleaned_df['browser']))\n",
    "all_os = sorted(pd.unique(cleaned_df['os']))\n",
    "all_deviceCategory = sorted(pd.unique(cleaned_df['deviceCategory']))\n",
    "all_language = sorted(pd.unique(cleaned_df['language'].astype('str')))\n",
    "all_source = sorted(pd.unique(cleaned_df['source'].astype('str')))\n",
    "cleaned_df.loc[:,'browser'] = cleaned_df['browser'].transform(lambda x: all_browsers.index(x))\n",
    "cleaned_df.loc[:,'os'] = cleaned_df['os'].transform(lambda x: all_os.index(x))\n",
    "cleaned_df.loc[:,'language'] = cleaned_df['language'].transform(lambda x: all_language.index(str(x)))\n",
    "cleaned_df.loc[:,'source'] = cleaned_df['source'].transform(lambda x: all_source.index(str(x)))\n",
    "cleaned_df.loc[:,'deviceCategory'] = cleaned_df['deviceCategory'].transform(lambda x: all_deviceCategory.index(x))\n",
    "\n",
    "cleaned_df.loc[:,'bounce'] = cleaned_df['bounce'].transform(lambda x: int(x))\n",
    "cleaned_df.loc[:,'events'] = cleaned_df['events'].transform(lambda x: int(x))\n",
    "cleaned_df.loc[:,'timeOnSiteSeconds'] = cleaned_df['timeOnSite'].transform(\n",
    "    lambda x: datetime.strptime(x,'%H:%M:%S').second + \\\n",
    "    60*datetime.strptime(x,'%H:%M:%S').minute + \\\n",
    "    3600*datetime.strptime(x,'%H:%M:%S').hour)\n",
    "cleaned_df.loc[:,'newSession'] = cleaned_df['newSession'].transform(lambda x: 1 if x is True else 0)\n",
    "cleaned_df.loc[:,'has_purchase'] = cleaned_df['totalOrders'].transform(lambda x: 1 if int(x)>0 else 0)\n",
    "cleaned_df.loc[:,'productPriceMean'] = df['hits'].apply(\n",
    "    lambda x: np.nan_to_num(np.mean([np.mean([j.get('price') or 0 for j in i['product']]) for i in x])))\n",
    "cleaned_df = cleaned_df.drop(\n",
    "    columns=['sessionStartTime','sessionEndTime','userAgent','customerId','customerVisitorId','totalOrders',\n",
    "            'timeOnSite','queriesSearched','customerSessionId','totalOrderQty','uniqueOrders','totalOrderRevenue'])"
   ]
  },
  {
   "cell_type": "markdown",
   "id": "2d3da1a3",
   "metadata": {},
   "source": [
    "#### Observation \n",
    "1. Looks like we only have data for date 2020-12-02.\n",
    "2. customerArea only has Development or Production. We only want production data.\n",
    "3. Removing userAgent as we have os and browser\n",
    "4. Removing customerId since there is only one customer \"swansonhealth\" in the data.\n",
    "5. Removing sessionStartTime and sessionEndTime since we have totals.timeOnSite already.\n",
    "6. There are already aggreations for most of the import attributes in \"hits\" in \"totals\". Attributes in \"totals\" can be used for simple binary classifications. The details in \"hits\" can be use for sequence modeling.\n",
    "7. All geographical attributes in trafficSource are blank, so we can ignore them.\n",
    "8. totalOrders indicate purchase. We can create a binary label for this.\n",
    "9. There seems to be some email marketing going on because I see significant amount of data is from source \"exacttarget\", meaning lots of traffics are from people clicking on marketing email. Marketing campaign would impact the model "
   ]
  },
  {
   "cell_type": "code",
   "execution_count": 9,
   "id": "84e02690",
   "metadata": {},
   "outputs": [],
   "source": [
    "# sorted(cleaned_df.columns)\n",
    "x = cleaned_df.loc[:,list(set(cleaned_df.columns) - set('has_purchase'))]\n",
    "del x['has_purchase']\n",
    "y = cleaned_df.loc[:,['has_purchase']]"
   ]
  },
  {
   "cell_type": "code",
   "execution_count": 11,
   "id": "a1f59da7",
   "metadata": {
    "scrolled": false
   },
   "outputs": [
    {
     "data": {
      "image/png": "[encoded data removed]",
      "text/plain": [
       "<Figure size 864x720 with 2 Axes>"
      ]
     },
     "metadata": {
      "needs_background": "light"
     },
     "output_type": "display_data"
    }
   ],
   "source": [
    "import matplotlib.pyplot as plt\n",
    "import seaborn as sns\n",
    "\n",
    "plt.figure(figsize=(12,10))\n",
    "cor = x.corr()\n",
    "sns.heatmap(cor)\n",
    "plt.show()"
   ]
  },
  {
   "cell_type": "code",
   "execution_count": 12,
   "id": "d7fc10a4",
   "metadata": {
    "scrolled": false
   },
   "outputs": [
    {
     "name": "stdout",
     "output_type": "stream",
     "text": [
      "Feature \"events\" is highly related to \"totalSearches\". Remove \"events\"\n",
      "Feature \"uniqueViewProducts\" is highly related to \"totalViewProducts\". Remove \"uniqueViewProducts\"\n",
      "Feature \"totalViewProductRevenue\" is highly related to \"totalViewProducts\". Remove \"totalViewProductRevenue\"\n",
      "Feature \"uniqueRefinements\" is highly related to \"totalRefinements\". Remove \"uniqueRefinements\"\n",
      "Feature \"totalAddToCarts\" is highly related to \"totalAddToCartRevenue\". Remove \"totalAddToCarts\"\n",
      "Feature \"uniqueAddToCarts\" is highly related to \"totalAddToCartRevenue\". Remove \"uniqueAddToCarts\"\n",
      "Feature \"source\" is highly related to \"has_campaign\". Remove \"source\"\n",
      "Feature \"timeOnSiteSeconds\" is highly related to \"sessionDuration\". Remove \"timeOnSiteSeconds\"\n",
      "28\n",
      "-----\n",
      "The following columns are present in the new df:\n",
      "Index(['totalSearches', 'os', 'totalAddToCartQty', 'productPriceMean',\n",
      "       'totalViewProducts', 'deviceCategory', 'totalRefinements',\n",
      "       'totalAddToCartRevenue', 'uniqueSearches', 'browser', 'bounce',\n",
      "       'has_campaign', 'uniqueNavigations', 'sessionDuration',\n",
      "       'totalNavigations', 'totalNullSearches', 'hourOfDay', 'language',\n",
      "       'newSession', 'customerSessionNumber'],\n",
      "      dtype='object')\n",
      "The old df had 28 features. The new df has 20 features.\n"
     ]
    }
   ],
   "source": [
    "import numpy as np\n",
    "\n",
    "keep_columns = np.full((cor.shape[0],), True, dtype=bool)\n",
    "for i in range(cor.shape[0]):\n",
    "    for j in range(i+1, cor.shape[0]):\n",
    "        if np.abs(cor.iloc[i,j]) >= 0.8:\n",
    "            if keep_columns[j]:\n",
    "                keep_columns[j] = False\n",
    "                print(f'Feature \"{x.columns[j]}\" is highly related to \"{x.columns[i]}\". Remove \"{x.columns[j]}\"')\n",
    "print(len(np.full((cor.shape[0],), True, dtype=bool)))\n",
    "selected_columns = x.columns[keep_columns]\n",
    "df_out = x[selected_columns]\n",
    "print('-----')\n",
    "print('The following columns are present in the new df:')\n",
    "print(selected_columns)\n",
    "print(f'The old df had {x.shape[1]} features. The new df has {df_out.shape[1]} features.')\n"
   ]
  },
  {
   "cell_type": "code",
   "execution_count": 13,
   "id": "f45ad1ab",
   "metadata": {},
   "outputs": [
    {
     "name": "stderr",
     "output_type": "stream",
     "text": [
      "/Users/paulokuong/Documents/personal/fourth_brain_course/env/lib/python3.7/site-packages/ipykernel_launcher.py:14: UserWarning: FixedFormatter should only be used together with FixedLocator\n",
      "  \n",
      "/Users/paulokuong/Documents/personal/fourth_brain_course/env/lib/python3.7/site-packages/ipykernel_launcher.py:16: UserWarning: FixedFormatter should only be used together with FixedLocator\n",
      "  app.launch_new_instance()\n"
     ]
    },
    {
     "data": {
      "image/png": "[encoded data removed]",
      "text/plain": [
       "<Figure size 1440x720 with 3 Axes>"
      ]
     },
     "metadata": {
      "needs_background": "light"
     },
     "output_type": "display_data"
    }
   ],
   "source": [
    "import matplotlib.pyplot as plt\n",
    "import seaborn as sns\n",
    "\n",
    "data_red = cleaned_df[['productPriceMean','browser','source']]\n",
    "\n",
    "fig = plt.figure(figsize = (20, 10))\n",
    "j = 0\n",
    "for i in data_red.columns:\n",
    "    plt.subplot(1, 3, j+1)\n",
    "    j += 1\n",
    "    plot_obj = sns.histplot(data_red[i], color='b')\n",
    "    \n",
    "    if i=='browser':\n",
    "        plot_obj.set_xticklabels(pd.unique(transformed_df['browser']),rotation=90)\n",
    "    elif i=='source':\n",
    "        plot_obj.set_xticklabels([i or 'None' for i in pd.unique(transformed_df['source'])],rotation=90)\n",
    "        \n",
    "fig.suptitle('Product Mean Price, Browser and Source')\n",
    "fig.tight_layout()\n",
    "fig.subplots_adjust(top=0.95)\n",
    "plt.show()"
   ]
  },
  {
   "cell_type": "code",
   "execution_count": 14,
   "id": "b196574e",
   "metadata": {},
   "outputs": [],
   "source": [
    "filtered_x = x[selected_columns]"
   ]
  },
  {
   "cell_type": "code",
   "execution_count": 15,
   "id": "18234da8",
   "metadata": {},
   "outputs": [
    {
     "name": "stderr",
     "output_type": "stream",
     "text": [
      "/Users/paulokuong/Documents/personal/fourth_brain_course/env/lib/python3.7/site-packages/ipykernel_launcher.py:7: DataConversionWarning: A column-vector y was passed when a 1d array was expected. Please change the shape of y to (n_samples,), for example using ravel().\n",
      "  import sys\n"
     ]
    },
    {
     "name": "stdout",
     "output_type": "stream",
     "text": [
      "Elapsed time to compute the importances: 60.135 seconds\n"
     ]
    }
   ],
   "source": [
    "from sklearn.inspection import permutation_importance\n",
    "import time\n",
    "from sklearn.ensemble import RandomForestClassifier\n",
    "\n",
    "feature_names = [f'feature {i}' for i in range(filtered_x.shape[1])]\n",
    "forest = RandomForestClassifier(random_state=0)\n",
    "forest.fit(filtered_x,y)\n",
    "\n",
    "start_time = time.time()\n",
    "result = permutation_importance(\n",
    "    forest, filtered_x, y, n_repeats=10, random_state=42, n_jobs=2)\n",
    "elapsed_time = time.time() - start_time\n",
    "print(f\"Elapsed time to compute the importances: \"\n",
    "      f\"{elapsed_time:.3f} seconds\")\n",
    "\n",
    "forest_importances = pd.Series(result.importances_mean, index=feature_names)"
   ]
  },
  {
   "cell_type": "code",
   "execution_count": 16,
   "id": "ee271b1e",
   "metadata": {
    "scrolled": false
   },
   "outputs": [
    {
     "data": {
      "image/png": "[encoded data removed]",
      "text/plain": [
       "<Figure size 432x288 with 1 Axes>"
      ]
     },
     "metadata": {
      "needs_background": "light"
     },
     "output_type": "display_data"
    }
   ],
   "source": [
    "fig, ax = plt.subplots()\n",
    "forest_importances.plot.bar(yerr=result.importances_std, ax=ax)\n",
    "ax.set_title(\"Feature importances using permutation on full model\")\n",
    "ax.set_ylabel(\"Mean accuracy decrease\")\n",
    "fig.tight_layout()\n",
    "plt.show()"
   ]
  },
  {
   "cell_type": "code",
   "execution_count": 17,
   "id": "40d9a6da",
   "metadata": {
    "scrolled": false
   },
   "outputs": [
    {
     "data": {
      "text/html": [
       "<div>\n",
       "<style scoped>\n",
       "    .dataframe tbody tr th:only-of-type {\n",
       "        vertical-align: middle;\n",
       "    }\n",
       "\n",
       "    .dataframe tbody tr th {\n",
       "        vertical-align: top;\n",
       "    }\n",
       "\n",
       "    .dataframe thead th {\n",
       "        text-align: right;\n",
       "    }\n",
       "</style>\n",
       "<table border=\"1\" class=\"dataframe\">\n",
       "  <thead>\n",
       "    <tr style=\"text-align: right;\">\n",
       "      <th></th>\n",
       "      <th>score</th>\n",
       "      <th>feature</th>\n",
       "    </tr>\n",
       "  </thead>\n",
       "  <tbody>\n",
       "    <tr>\n",
       "      <th>feature 4</th>\n",
       "      <td>0.140319</td>\n",
       "      <td>totalViewProducts</td>\n",
       "    </tr>\n",
       "    <tr>\n",
       "      <th>feature 13</th>\n",
       "      <td>0.081405</td>\n",
       "      <td>sessionDuration</td>\n",
       "    </tr>\n",
       "    <tr>\n",
       "      <th>feature 7</th>\n",
       "      <td>0.051302</td>\n",
       "      <td>totalAddToCartRevenue</td>\n",
       "    </tr>\n",
       "    <tr>\n",
       "      <th>feature 2</th>\n",
       "      <td>0.046587</td>\n",
       "      <td>totalAddToCartQty</td>\n",
       "    </tr>\n",
       "    <tr>\n",
       "      <th>feature 3</th>\n",
       "      <td>0.029566</td>\n",
       "      <td>productPriceMean</td>\n",
       "    </tr>\n",
       "    <tr>\n",
       "      <th>feature 16</th>\n",
       "      <td>0.013762</td>\n",
       "      <td>hourOfDay</td>\n",
       "    </tr>\n",
       "    <tr>\n",
       "      <th>feature 0</th>\n",
       "      <td>0.011353</td>\n",
       "      <td>totalSearches</td>\n",
       "    </tr>\n",
       "  </tbody>\n",
       "</table>\n",
       "</div>"
      ],
      "text/plain": [
       "               score                feature\n",
       "feature 4   0.140319      totalViewProducts\n",
       "feature 13  0.081405        sessionDuration\n",
       "feature 7   0.051302  totalAddToCartRevenue\n",
       "feature 2   0.046587      totalAddToCartQty\n",
       "feature 3   0.029566       productPriceMean\n",
       "feature 16  0.013762              hourOfDay\n",
       "feature 0   0.011353          totalSearches"
      ]
     },
     "execution_count": 17,
     "metadata": {},
     "output_type": "execute_result"
    }
   ],
   "source": [
    "importances = pd.DataFrame(forest_importances, columns=['score'])\n",
    "importances = importances.sort_values(by='score', ascending=False)\n",
    "importances.loc[:,'feature'] = [filtered_x.columns[int(i.replace('feature ',''))] for i in importances.index]\n",
    "importances[importances['score']>0.01]\n",
    "x = filtered_x[list(importances[importances['score']>0.01]['feature'].values)]\n",
    "importances[importances['score']>0.01]"
   ]
  },
  {
   "cell_type": "markdown",
   "id": "2ae9d61d",
   "metadata": {},
   "source": [
    "## Model Training"
   ]
  },
  {
   "cell_type": "markdown",
   "id": "3682b480",
   "metadata": {},
   "source": [
    "### Best model for recall"
   ]
  },
  {
   "cell_type": "code",
   "execution_count": 18,
   "id": "7176eaf2",
   "metadata": {},
   "outputs": [],
   "source": [
    "from sklearn.model_selection import train_test_split\n",
    "x_train, x_test, y_train, y_test = train_test_split(x.values, y, test_size=0.33, random_state=42)"
   ]
  },
  {
   "cell_type": "code",
   "execution_count": 19,
   "id": "1f10163e",
   "metadata": {},
   "outputs": [
    {
     "name": "stderr",
     "output_type": "stream",
     "text": [
      "/Users/paulokuong/Documents/personal/fourth_brain_course/env/lib/python3.7/site-packages/tpot/builtins/__init__.py:36: UserWarning: Warning: optional dependency `torch` is not available. - skipping import of NN models.\n",
      "  warnings.warn(\"Warning: optional dependency `torch` is not available. - skipping import of NN models.\")\n"
     ]
    }
   ],
   "source": [
    "import numpy as np\n",
    "import pandas as pd\n",
    "from sklearn.tree import DecisionTreeClassifier\n",
    "from sklearn.naive_bayes import BernoulliNB\n",
    "from sklearn.model_selection import train_test_split\n",
    "from sklearn.pipeline import make_pipeline, make_union\n",
    "from sklearn.preprocessing import StandardScaler\n",
    "from tpot.builtins import StackingEstimator\n",
    "from tpot.export_utils import set_param_recursive\n",
    "from sklearn.metrics import classification_report\n",
    "\n",
    "\n",
    "exported_pipeline = make_pipeline(\n",
    "    StandardScaler(),\n",
    "    StackingEstimator(estimator=DecisionTreeClassifier(criterion='entropy', max_depth=5, min_samples_leaf=7, min_samples_split=2)),\n",
    "    BernoulliNB(alpha=10.0, fit_prior=False)\n",
    ")\n",
    "set_param_recursive(exported_pipeline.steps, 'random_state', 42)\n",
    "exported_pipeline.fit(x_train, y_train.values.ravel())\n",
    "results = exported_pipeline.predict(x_test)"
   ]
  },
  {
   "cell_type": "code",
   "execution_count": 20,
   "id": "c3e33e34",
   "metadata": {},
   "outputs": [
    {
     "data": {
      "text/html": [
       "<div>\n",
       "<style scoped>\n",
       "    .dataframe tbody tr th:only-of-type {\n",
       "        vertical-align: middle;\n",
       "    }\n",
       "\n",
       "    .dataframe tbody tr th {\n",
       "        vertical-align: top;\n",
       "    }\n",
       "\n",
       "    .dataframe thead th {\n",
       "        text-align: right;\n",
       "    }\n",
       "</style>\n",
       "<table border=\"1\" class=\"dataframe\">\n",
       "  <thead>\n",
       "    <tr style=\"text-align: right;\">\n",
       "      <th></th>\n",
       "      <th>0</th>\n",
       "      <th>1</th>\n",
       "      <th>accuracy</th>\n",
       "      <th>macro avg</th>\n",
       "      <th>weighted avg</th>\n",
       "    </tr>\n",
       "  </thead>\n",
       "  <tbody>\n",
       "    <tr>\n",
       "      <th>precision</th>\n",
       "      <td>0.997326</td>\n",
       "      <td>0.423518</td>\n",
       "      <td>0.883744</td>\n",
       "      <td>0.710422</td>\n",
       "      <td>0.947991</td>\n",
       "    </tr>\n",
       "    <tr>\n",
       "      <th>recall</th>\n",
       "      <td>0.875155</td>\n",
       "      <td>0.975055</td>\n",
       "      <td>0.883744</td>\n",
       "      <td>0.925105</td>\n",
       "      <td>0.883744</td>\n",
       "    </tr>\n",
       "    <tr>\n",
       "      <th>f1-score</th>\n",
       "      <td>0.932255</td>\n",
       "      <td>0.590535</td>\n",
       "      <td>0.883744</td>\n",
       "      <td>0.761395</td>\n",
       "      <td>0.902875</td>\n",
       "    </tr>\n",
       "    <tr>\n",
       "      <th>support</th>\n",
       "      <td>14490.000000</td>\n",
       "      <td>1363.000000</td>\n",
       "      <td>0.883744</td>\n",
       "      <td>15853.000000</td>\n",
       "      <td>15853.000000</td>\n",
       "    </tr>\n",
       "  </tbody>\n",
       "</table>\n",
       "</div>"
      ],
      "text/plain": [
       "                      0            1  accuracy     macro avg  weighted avg\n",
       "precision      0.997326     0.423518  0.883744      0.710422      0.947991\n",
       "recall         0.875155     0.975055  0.883744      0.925105      0.883744\n",
       "f1-score       0.932255     0.590535  0.883744      0.761395      0.902875\n",
       "support    14490.000000  1363.000000  0.883744  15853.000000  15853.000000"
      ]
     },
     "execution_count": 20,
     "metadata": {},
     "output_type": "execute_result"
    }
   ],
   "source": [
    "pd.DataFrame(classification_report(y_test, results, output_dict=True))"
   ]
  },
  {
   "cell_type": "code",
   "execution_count": 55,
   "id": "9b5208c2",
   "metadata": {},
   "outputs": [],
   "source": [
    "uuu = np.concatenate([x_test[:,4][:,np.newaxis],results[:,np.newaxis]],axis=1)"
   ]
  },
  {
   "cell_type": "code",
   "execution_count": 98,
   "id": "e978cda5",
   "metadata": {},
   "outputs": [
    {
     "name": "stderr",
     "output_type": "stream",
     "text": [
      "/Users/paulokuong/Documents/personal/fourth_brain_course/env/lib/python3.7/site-packages/sklearn/utils/validation.py:63: DataConversionWarning: A column-vector y was passed when a 1d array was expected. Please change the shape of y to (n_samples, ), for example using ravel().\n",
      "  return f(*args, **kwargs)\n"
     ]
    },
    {
     "data": {
      "text/plain": [
       "array([[-0.17201968]])"
      ]
     },
     "execution_count": 98,
     "metadata": {},
     "output_type": "execute_result"
    }
   ],
   "source": [
    "from sklearn.linear_model import LogisticRegression\n",
    "from sklearn.pipeline import make_pipeline, Pipeline\n",
    "from sklearn.preprocessing import StandardScaler\n",
    "pipe = Pipeline([('scl', StandardScaler()), ('clf', LogisticRegression(random_state=0))])\n",
    "clf = pipe.fit(x_test[:,4][:,np.newaxis], y_test)\n",
    "classifier = clf.named_steps['clf']\n",
    "classifier.coef_"
   ]
  },
  {
   "cell_type": "code",
   "execution_count": 89,
   "id": "9375a1f8",
   "metadata": {},
   "outputs": [
    {
     "data": {
      "text/plain": [
       "array([[<AxesSubplot:title={'center':'not converted'}>]], dtype=object)"
      ]
     },
     "execution_count": 89,
     "metadata": {},
     "output_type": "execute_result"
    },
    {
     "data": {
      "image/png": "[encoded data removed]",
      "text/plain": [
       "<Figure size 432x288 with 1 Axes>"
      ]
     },
     "metadata": {
      "needs_background": "light"
     },
     "output_type": "display_data"
    }
   ],
   "source": [
    "pd.DataFrame(uuu[np.where(uuu[:,1]==0),0].reshape(-1), columns=['not converted']).hist()"
   ]
  },
  {
   "cell_type": "code",
   "execution_count": 125,
   "id": "2c979eab",
   "metadata": {},
   "outputs": [],
   "source": [
    "df['hits'][0][0]['product'][0]['sku']\n",
    "unique_ids = []\n",
    "for x in df['hits']:\n",
    "    for y in x:\n",
    "        products = y['product']\n",
    "        for p in products:\n",
    "            unique_ids.append(p.get('sku'))\n",
    "all_ids = set(unique_ids)"
   ]
  },
  {
   "cell_type": "code",
   "execution_count": 349,
   "id": "96f6dd8d",
   "metadata": {},
   "outputs": [
    {
     "data": {
      "application/vnd.jupyter.widget-view+json": {
       "model_id": "",
       "version_major": 2,
       "version_minor": 0
      },
      "text/plain": [
       "Optimization Progress:   0%|          | 0/300 [00:00<?, ?pipeline/s]"
      ]
     },
     "metadata": {},
     "output_type": "display_data"
    },
    {
     "name": "stdout",
     "output_type": "stream",
     "text": [
      "\n",
      "Generation 1 - Current best internal CV score: 0.9398465000865601\n",
      "\n",
      "Generation 2 - Current best internal CV score: 0.949155878713268\n",
      "\n",
      "Generation 3 - Current best internal CV score: 0.9577490526477772\n",
      "\n",
      "Generation 4 - Current best internal CV score: 0.9577490526477772\n",
      "\n",
      "Generation 5 - Current best internal CV score: 0.9749341181449209\n",
      "\n",
      "Best pipeline: BernoulliNB(DecisionTreeClassifier(StandardScaler(input_matrix), criterion=entropy, max_depth=5, min_samples_leaf=7, min_samples_split=2), alpha=10.0, fit_prior=False)\n"
     ]
    },
    {
     "data": {
      "text/plain": [
       "TPOTClassifier(generations=5, population_size=50, random_state=42,\n",
       "               scoring='recall', verbosity=2)"
      ]
     },
     "execution_count": 349,
     "metadata": {},
     "output_type": "execute_result"
    }
   ],
   "source": [
    "from tpot import TPOTClassifier\n",
    "tpot = TPOTClassifier(generations=5, population_size=50, verbosity=2, random_state=42, scoring=\"recall\")\n",
    "tpot.fit(x_train, y_train.values.ravel())"
   ]
  },
  {
   "cell_type": "code",
   "execution_count": 350,
   "id": "62a0d52c",
   "metadata": {
    "scrolled": true
   },
   "outputs": [
    {
     "data": {
      "text/html": [
       "<div>\n",
       "<style scoped>\n",
       "    .dataframe tbody tr th:only-of-type {\n",
       "        vertical-align: middle;\n",
       "    }\n",
       "\n",
       "    .dataframe tbody tr th {\n",
       "        vertical-align: top;\n",
       "    }\n",
       "\n",
       "    .dataframe thead th {\n",
       "        text-align: right;\n",
       "    }\n",
       "</style>\n",
       "<table border=\"1\" class=\"dataframe\">\n",
       "  <thead>\n",
       "    <tr style=\"text-align: right;\">\n",
       "      <th></th>\n",
       "      <th>0</th>\n",
       "      <th>1</th>\n",
       "      <th>accuracy</th>\n",
       "      <th>macro avg</th>\n",
       "      <th>weighted avg</th>\n",
       "    </tr>\n",
       "  </thead>\n",
       "  <tbody>\n",
       "    <tr>\n",
       "      <th>precision</th>\n",
       "      <td>0.997636</td>\n",
       "      <td>0.421835</td>\n",
       "      <td>0.882861</td>\n",
       "      <td>0.709736</td>\n",
       "      <td>0.948131</td>\n",
       "    </tr>\n",
       "    <tr>\n",
       "      <th>recall</th>\n",
       "      <td>0.873913</td>\n",
       "      <td>0.977990</td>\n",
       "      <td>0.882861</td>\n",
       "      <td>0.925951</td>\n",
       "      <td>0.882861</td>\n",
       "    </tr>\n",
       "    <tr>\n",
       "      <th>f1-score</th>\n",
       "      <td>0.931685</td>\n",
       "      <td>0.589432</td>\n",
       "      <td>0.882861</td>\n",
       "      <td>0.760559</td>\n",
       "      <td>0.902259</td>\n",
       "    </tr>\n",
       "    <tr>\n",
       "      <th>support</th>\n",
       "      <td>14490.000000</td>\n",
       "      <td>1363.000000</td>\n",
       "      <td>0.882861</td>\n",
       "      <td>15853.000000</td>\n",
       "      <td>15853.000000</td>\n",
       "    </tr>\n",
       "  </tbody>\n",
       "</table>\n",
       "</div>"
      ],
      "text/plain": [
       "                      0            1  accuracy     macro avg  weighted avg\n",
       "precision      0.997636     0.421835  0.882861      0.709736      0.948131\n",
       "recall         0.873913     0.977990  0.882861      0.925951      0.882861\n",
       "f1-score       0.931685     0.589432  0.882861      0.760559      0.902259\n",
       "support    14490.000000  1363.000000  0.882861  15853.000000  15853.000000"
      ]
     },
     "execution_count": 350,
     "metadata": {},
     "output_type": "execute_result"
    }
   ],
   "source": [
    "predictions = tpot.predict(x_test)\n",
    "pd.DataFrame(classification_report(y_test, predictions, output_dict=True))"
   ]
  },
  {
   "cell_type": "markdown",
   "id": "7a18bd4f",
   "metadata": {},
   "source": [
    "## Best F1"
   ]
  },
  {
   "cell_type": "code",
   "execution_count": 14,
   "id": "9e60367a",
   "metadata": {},
   "outputs": [
    {
     "data": {
      "application/vnd.jupyter.widget-view+json": {
       "model_id": "",
       "version_major": 2,
       "version_minor": 0
      },
      "text/plain": [
       "Optimization Progress:   0%|          | 0/300 [00:00<?, ?pipeline/s]"
      ]
     },
     "metadata": {},
     "output_type": "display_data"
    },
    {
     "name": "stdout",
     "output_type": "stream",
     "text": [
      "\n",
      "Generation 1 - Current best internal CV score: 0.6183608325432679\n",
      "\n",
      "Generation 2 - Current best internal CV score: 0.6183608325432679\n",
      "\n",
      "Generation 3 - Current best internal CV score: 0.6183608325432679\n",
      "\n",
      "Generation 4 - Current best internal CV score: 0.6185427701889705\n",
      "\n",
      "Generation 5 - Current best internal CV score: 0.6303642968632033\n",
      "\n",
      "Best pipeline: GaussianNB(XGBClassifier(OneHotEncoder(XGBClassifier(input_matrix, learning_rate=0.01, max_depth=3, min_child_weight=8, n_estimators=100, n_jobs=1, subsample=1.0, verbosity=0), minimum_fraction=0.25, sparse=False, threshold=10), learning_rate=1.0, max_depth=3, min_child_weight=8, n_estimators=100, n_jobs=1, subsample=1.0, verbosity=0))\n"
     ]
    },
    {
     "data": {
      "text/plain": [
       "TPOTClassifier(generations=5, population_size=50, random_state=42, scoring='f1',\n",
       "               verbosity=2)"
      ]
     },
     "execution_count": 14,
     "metadata": {},
     "output_type": "execute_result"
    }
   ],
   "source": [
    "from tpot import TPOTClassifier\n",
    "tpot = TPOTClassifier(generations=5, population_size=50, verbosity=2, random_state=42, scoring=\"f1\")\n",
    "tpot.fit(x_train, y_train.values.ravel())"
   ]
  },
  {
   "cell_type": "markdown",
   "id": "0532eac8",
   "metadata": {},
   "source": [
    "## Overall best model"
   ]
  },
  {
   "cell_type": "code",
   "execution_count": 99,
   "id": "3352f6a8",
   "metadata": {
    "scrolled": false
   },
   "outputs": [
    {
     "name": "stderr",
     "output_type": "stream",
     "text": [
      "/Users/paulokuong/Documents/personal/fourth_brain_course/env/lib/python3.7/site-packages/xgboost/sklearn.py:888: UserWarning: The use of label encoder in XGBClassifier is deprecated and will be removed in a future release. To remove this warning, do the following: 1) Pass option use_label_encoder=False when constructing XGBClassifier object; and 2) Encode your labels (y) as integers starting with 0, i.e. 0, 1, 2, ..., [num_class - 1].\n",
      "  warnings.warn(label_encoder_deprecation_msg, UserWarning)\n"
     ]
    },
    {
     "data": {
      "text/html": [
       "<div>\n",
       "<style scoped>\n",
       "    .dataframe tbody tr th:only-of-type {\n",
       "        vertical-align: middle;\n",
       "    }\n",
       "\n",
       "    .dataframe tbody tr th {\n",
       "        vertical-align: top;\n",
       "    }\n",
       "\n",
       "    .dataframe thead th {\n",
       "        text-align: right;\n",
       "    }\n",
       "</style>\n",
       "<table border=\"1\" class=\"dataframe\">\n",
       "  <thead>\n",
       "    <tr style=\"text-align: right;\">\n",
       "      <th></th>\n",
       "      <th>0</th>\n",
       "      <th>1</th>\n",
       "      <th>accuracy</th>\n",
       "      <th>macro avg</th>\n",
       "      <th>weighted avg</th>\n",
       "    </tr>\n",
       "  </thead>\n",
       "  <tbody>\n",
       "    <tr>\n",
       "      <th>precision</th>\n",
       "      <td>0.973682</td>\n",
       "      <td>0.733184</td>\n",
       "      <td>0.953384</td>\n",
       "      <td>0.853433</td>\n",
       "      <td>0.953005</td>\n",
       "    </tr>\n",
       "    <tr>\n",
       "      <th>recall</th>\n",
       "      <td>0.975362</td>\n",
       "      <td>0.719736</td>\n",
       "      <td>0.953384</td>\n",
       "      <td>0.847549</td>\n",
       "      <td>0.953384</td>\n",
       "    </tr>\n",
       "    <tr>\n",
       "      <th>f1-score</th>\n",
       "      <td>0.974522</td>\n",
       "      <td>0.726398</td>\n",
       "      <td>0.953384</td>\n",
       "      <td>0.850460</td>\n",
       "      <td>0.953189</td>\n",
       "    </tr>\n",
       "    <tr>\n",
       "      <th>support</th>\n",
       "      <td>14490.000000</td>\n",
       "      <td>1363.000000</td>\n",
       "      <td>0.953384</td>\n",
       "      <td>15853.000000</td>\n",
       "      <td>15853.000000</td>\n",
       "    </tr>\n",
       "  </tbody>\n",
       "</table>\n",
       "</div>"
      ],
      "text/plain": [
       "                      0            1  accuracy     macro avg  weighted avg\n",
       "precision      0.973682     0.733184  0.953384      0.853433      0.953005\n",
       "recall         0.975362     0.719736  0.953384      0.847549      0.953384\n",
       "f1-score       0.974522     0.726398  0.953384      0.850460      0.953189\n",
       "support    14490.000000  1363.000000  0.953384  15853.000000  15853.000000"
      ]
     },
     "execution_count": 99,
     "metadata": {},
     "output_type": "execute_result"
    }
   ],
   "source": [
    "import numpy as np\n",
    "import pandas as pd\n",
    "from sklearn.metrics import classification_report\n",
    "from sklearn.model_selection import train_test_split\n",
    "from xgboost import XGBClassifier\n",
    "\n",
    "\n",
    "exported_pipeline = XGBClassifier(\n",
    "    learning_rate=0.1, max_depth=4, min_child_weight=8, n_estimators=100, n_jobs=1, \n",
    "    subsample=0.9500000000000001, verbosity=0, random_state=42)\n",
    "exported_pipeline.fit(x_train, list(y_train.values.ravel()))\n",
    "results = exported_pipeline.predict(x_test)\n",
    "pd.DataFrame(classification_report(y_test, results, output_dict=True))"
   ]
  },
  {
   "cell_type": "markdown",
   "id": "22932e0c",
   "metadata": {},
   "source": [
    "## Sequential Modeling"
   ]
  },
  {
   "cell_type": "markdown",
   "id": "e54393db",
   "metadata": {},
   "source": [
    "#### Getting sequences for every session"
   ]
  },
  {
   "cell_type": "code",
   "execution_count": 3,
   "id": "eddc5827",
   "metadata": {},
   "outputs": [
    {
     "data": {
      "text/plain": [
       "{'viewProduct': 1, 'addToCart': 2, 'search': 3, 'order': 4}"
      ]
     },
     "execution_count": 3,
     "metadata": {},
     "output_type": "execute_result"
    }
   ],
   "source": [
    "oo = df[['hits']].apply(\n",
    "    lambda x: [list(set([j.get('eventType').get('category') for j in hit])) for hit in x]\n",
    ")['hits']\n",
    "event_type_map = {y:index+1 for index, y in enumerate([i for i in pd.unique(oo.explode()) if type(i)==str])}\n",
    "event_type_map"
   ]
  },
  {
   "cell_type": "code",
   "execution_count": 4,
   "id": "6629e9c1",
   "metadata": {},
   "outputs": [
    {
     "name": "stderr",
     "output_type": "stream",
     "text": [
      "/Users/paulokuong/Documents/personal/fourth_brain_course/env/lib/python3.7/site-packages/seaborn/distributions.py:2557: FutureWarning: `distplot` is a deprecated function and will be removed in a future version. Please adapt your code to use either `displot` (a figure-level function with similar flexibility) or `histplot` (an axes-level function for histograms).\n",
      "  warnings.warn(msg, FutureWarning)\n"
     ]
    },
    {
     "data": {
      "text/plain": [
       "<AxesSubplot:ylabel='Density'>"
      ]
     },
     "execution_count": 4,
     "metadata": {},
     "output_type": "execute_result"
    },
    {
     "data": {
      "image/png": "[encoded data removed]",
      "text/plain": [
       "<Figure size 432x288 with 1 Axes>"
      ]
     },
     "metadata": {
      "needs_background": "light"
     },
     "output_type": "display_data"
    }
   ],
   "source": [
    "sequence_df = df.copy(deep=True)\n",
    "sequence_df.loc[:,'sequence'] = sequence_df[['hits']].apply(\n",
    "    lambda x: [\n",
    "        [event_type_map[j[0]] \n",
    "         for j in sorted([(j.get('eventType').get('category'),j.get('hitSequence')) for j in hit])] \n",
    "        for hit in x]\n",
    ")['hits']\n",
    "length = sequence_df['sequence'].map(len).to_list()\n",
    "sns.distplot(length)"
   ]
  },
  {
   "cell_type": "code",
   "execution_count": 5,
   "id": "209dff87",
   "metadata": {},
   "outputs": [],
   "source": [
    "total_df = []\n",
    "for i in range(len(df['totals'])):\n",
    "    new_dict = {k:float(v) if 'total' in k or 'unique' in k else v for k,v in df.iloc[i]['totals'].items()}\n",
    "    total_df.append(new_dict)\n",
    "sequence_df = pd.concat([sequence_df, pd.DataFrame(total_df)],axis=1)\n",
    "sequence_df = sequence_df.fillna(0)\n",
    "sequence_df.loc[:,'has_purchase'] = sequence_df['totalOrders'].transform(lambda x: 1 if int(x)>0 else 0)"
   ]
  },
  {
   "cell_type": "code",
   "execution_count": 6,
   "id": "ee67b840",
   "metadata": {},
   "outputs": [],
   "source": [
    "sequence_df_50 = sequence_df[['customerSessionId','sequence','has_purchase']][sequence_df['sequence'].map(len) <= 50]"
   ]
  },
  {
   "cell_type": "code",
   "execution_count": 7,
   "id": "8412a2ba",
   "metadata": {},
   "outputs": [],
   "source": [
    "sequence_df_40 = sequence_df[['customerSessionId','sequence','has_purchase']][sequence_df['sequence'].map(len) <= 40]"
   ]
  },
  {
   "cell_type": "code",
   "execution_count": 8,
   "id": "353fab81",
   "metadata": {},
   "outputs": [],
   "source": [
    "# event_sequence = sequence_df_50['sequence'].to_list()\n",
    "event_sequence = sequence_df_40['sequence'].to_list()"
   ]
  },
  {
   "cell_type": "code",
   "execution_count": 9,
   "id": "dc9ffc12",
   "metadata": {},
   "outputs": [],
   "source": [
    "from keras.preprocessing.sequence import pad_sequences\n",
    "from sklearn.model_selection import train_test_split\n",
    "event = pad_sequences(event_sequence)"
   ]
  },
  {
   "cell_type": "code",
   "execution_count": 10,
   "id": "f172bee1",
   "metadata": {},
   "outputs": [
    {
     "name": "stdout",
     "output_type": "stream",
     "text": [
      "Percentage of Purchase sessions= 7.988078126321129\n"
     ]
    }
   ],
   "source": [
    "# One Hot Encoding the Purchase label\n",
    "# y = np.array(pd.get_dummies(sequence_df_50['has_purchase'],prefix='Purchase'))\n",
    "y = np.array(pd.get_dummies(sequence_df_40['has_purchase'],prefix='Purchase'))\n",
    "z=np.sum(y[:,1])/len(y)\n",
    "print('Percentage of Purchase sessions=',z*100)"
   ]
  },
  {
   "cell_type": "code",
   "execution_count": 11,
   "id": "6b464b72",
   "metadata": {},
   "outputs": [],
   "source": [
    "x_train, x_test, y_train, y_test = train_test_split(np.array(event), y, test_size=0.3)\n",
    "x_train = x_train.reshape((x_train.shape[0], 1, x_train.shape[1]))\n",
    "x_test = x_test.reshape((x_test.shape[0], 1, x_test.shape[1]))"
   ]
  },
  {
   "cell_type": "markdown",
   "id": "a32037b4",
   "metadata": {},
   "source": [
    "### Model Training"
   ]
  },
  {
   "cell_type": "code",
   "execution_count": 12,
   "id": "29d307b9",
   "metadata": {},
   "outputs": [],
   "source": [
    "import numpy as np\n",
    "import pandas as pd\n",
    "from sklearn.preprocessing import OneHotEncoder\n",
    "from keras.models import Sequential\n",
    "from keras.layers import Dense\n",
    "from keras.layers import LSTM\n",
    "from keras.layers import Flatten\n",
    "from keras.layers import Dropout\n",
    "from sklearn.preprocessing import MinMaxScaler\n",
    "from sklearn.metrics import mean_squared_error\n",
    "from matplotlib import pyplot\n",
    "from keras.layers import Bidirectional\n",
    "from keras.layers import TimeDistributed\n",
    "from tensorflow.keras.layers import GRU, Embedding, SimpleRNN, Activation\n",
    "import tensorflow as tf\n",
    "from groupby_user_conversion import GroupBy, FeatureSelection, Evaluation\n",
    "\n",
    "def LSTM_model(neurons=40, op=10):\n",
    "    #first define Sequential model\n",
    "    model = Sequential()\n",
    "    model.add(Bidirectional(LSTM(neurons, return_sequences=True), input_shape=(1,op)))\n",
    "    model.add(Bidirectional(LSTM(2*neurons)))\n",
    "    model.add(Dropout(0.7))\n",
    "    model.add(Dense(2, activation='softmax'))\n",
    "    model.compile(optimizer=tf.optimizers.Adam(learning_rate=0.0003),\n",
    "    loss='binary_crossentropy',\n",
    "    metrics=[tf.keras.metrics.Recall()])\n",
    "    return model"
   ]
  },
  {
   "cell_type": "code",
   "execution_count": 16,
   "id": "6fed99f0",
   "metadata": {},
   "outputs": [
    {
     "name": "stdout",
     "output_type": "stream",
     "text": [
      "Epoch 1/100\n",
      "27/27 [==============================] - 11s 122ms/step - loss: 0.6840 - recall: 0.6660 - val_loss: 0.6532 - val_recall: 0.8717\n",
      "Epoch 2/100\n",
      "27/27 [==============================] - 1s 33ms/step - loss: 0.6413 - recall: 0.8832 - val_loss: 0.5949 - val_recall: 0.8968\n",
      "Epoch 3/100\n",
      "27/27 [==============================] - 1s 30ms/step - loss: 0.5790 - recall: 0.8998 - val_loss: 0.5160 - val_recall: 0.9047\n",
      "Epoch 4/100\n",
      "27/27 [==============================] - 1s 28ms/step - loss: 0.4982 - recall: 0.9064 - val_loss: 0.4328 - val_recall: 0.9087\n",
      "Epoch 5/100\n",
      "27/27 [==============================] - 1s 28ms/step - loss: 0.4227 - recall: 0.9094 - val_loss: 0.3627 - val_recall: 0.9108\n",
      "Epoch 6/100\n",
      "27/27 [==============================] - 1s 27ms/step - loss: 0.3541 - recall: 0.9113 - val_loss: 0.3124 - val_recall: 0.9124\n",
      "Epoch 7/100\n",
      "27/27 [==============================] - 1s 29ms/step - loss: 0.3067 - recall: 0.9128 - val_loss: 0.2819 - val_recall: 0.9134\n",
      "Epoch 8/100\n",
      "27/27 [==============================] - 1s 31ms/step - loss: 0.2837 - recall: 0.9137 - val_loss: 0.2628 - val_recall: 0.9143\n",
      "Epoch 9/100\n",
      "27/27 [==============================] - 1s 31ms/step - loss: 0.2657 - recall: 0.9145 - val_loss: 0.2508 - val_recall: 0.9150\n",
      "Epoch 10/100\n",
      "27/27 [==============================] - 1s 29ms/step - loss: 0.2548 - recall: 0.9151 - val_loss: 0.2414 - val_recall: 0.9155\n",
      "Epoch 11/100\n",
      "27/27 [==============================] - 1s 32ms/step - loss: 0.2449 - recall: 0.9157 - val_loss: 0.2342 - val_recall: 0.9160\n",
      "Epoch 12/100\n",
      "27/27 [==============================] - 1s 29ms/step - loss: 0.2472 - recall: 0.9161 - val_loss: 0.2283 - val_recall: 0.9164\n",
      "Epoch 13/100\n",
      "27/27 [==============================] - 1s 34ms/step - loss: 0.2316 - recall: 0.9166 - val_loss: 0.2232 - val_recall: 0.9168\n",
      "Epoch 14/100\n",
      "27/27 [==============================] - 1s 30ms/step - loss: 0.2328 - recall: 0.9169 - val_loss: 0.2189 - val_recall: 0.9171\n",
      "Epoch 15/100\n",
      "27/27 [==============================] - 2s 57ms/step - loss: 0.2279 - recall: 0.9172 - val_loss: 0.2148 - val_recall: 0.9174\n",
      "Epoch 16/100\n",
      "27/27 [==============================] - 2s 64ms/step - loss: 0.2167 - recall: 0.9175 - val_loss: 0.2113 - val_recall: 0.9177\n",
      "Epoch 17/100\n",
      "27/27 [==============================] - 1s 33ms/step - loss: 0.2153 - recall: 0.9178 - val_loss: 0.2081 - val_recall: 0.9180\n",
      "Epoch 18/100\n",
      "27/27 [==============================] - 1s 42ms/step - loss: 0.2140 - recall: 0.9180 - val_loss: 0.2048 - val_recall: 0.9182\n",
      "Epoch 19/100\n",
      "27/27 [==============================] - 1s 43ms/step - loss: 0.2117 - recall: 0.9182 - val_loss: 0.2023 - val_recall: 0.9184\n",
      "Epoch 20/100\n",
      "27/27 [==============================] - 1s 54ms/step - loss: 0.2109 - recall: 0.9184 - val_loss: 0.1992 - val_recall: 0.9186\n",
      "Epoch 21/100\n",
      "27/27 [==============================] - 1s 46ms/step - loss: 0.1946 - recall: 0.9187 - val_loss: 0.1970 - val_recall: 0.9188\n",
      "Epoch 22/100\n",
      "27/27 [==============================] - 2s 63ms/step - loss: 0.2018 - recall: 0.9188 - val_loss: 0.1944 - val_recall: 0.9190\n",
      "Epoch 23/100\n",
      "27/27 [==============================] - 1s 32ms/step - loss: 0.2019 - recall: 0.9190 - val_loss: 0.1923 - val_recall: 0.9191\n",
      "Epoch 24/100\n",
      "27/27 [==============================] - 1s 31ms/step - loss: 0.1948 - recall: 0.9192 - val_loss: 0.1900 - val_recall: 0.9193\n",
      "Epoch 25/100\n",
      "27/27 [==============================] - 1s 30ms/step - loss: 0.1937 - recall: 0.9193 - val_loss: 0.1877 - val_recall: 0.9194\n",
      "Epoch 26/100\n",
      "27/27 [==============================] - 1s 41ms/step - loss: 0.1881 - recall: 0.9195 - val_loss: 0.1854 - val_recall: 0.9196\n",
      "Epoch 27/100\n",
      "27/27 [==============================] - 1s 32ms/step - loss: 0.1880 - recall: 0.9196 - val_loss: 0.1831 - val_recall: 0.9197\n",
      "Epoch 28/100\n",
      "27/27 [==============================] - 1s 29ms/step - loss: 0.1840 - recall: 0.9198 - val_loss: 0.1814 - val_recall: 0.9199\n",
      "Epoch 29/100\n",
      "27/27 [==============================] - 1s 34ms/step - loss: 0.1835 - recall: 0.9200 - val_loss: 0.1787 - val_recall: 0.9201\n",
      "Epoch 30/100\n",
      "27/27 [==============================] - 1s 32ms/step - loss: 0.1818 - recall: 0.9202 - val_loss: 0.1771 - val_recall: 0.9204\n",
      "Epoch 31/100\n",
      "27/27 [==============================] - 1s 29ms/step - loss: 0.1797 - recall: 0.9205 - val_loss: 0.1745 - val_recall: 0.9207\n",
      "Epoch 32/100\n",
      "27/27 [==============================] - 1s 31ms/step - loss: 0.1792 - recall: 0.9208 - val_loss: 0.1723 - val_recall: 0.9210\n",
      "Epoch 33/100\n",
      "27/27 [==============================] - 1s 45ms/step - loss: 0.1698 - recall: 0.9211 - val_loss: 0.1701 - val_recall: 0.9213\n",
      "Epoch 34/100\n",
      "27/27 [==============================] - 1s 45ms/step - loss: 0.1746 - recall: 0.9213 - val_loss: 0.1679 - val_recall: 0.9215\n",
      "Epoch 35/100\n",
      "27/27 [==============================] - 1s 34ms/step - loss: 0.1734 - recall: 0.9216 - val_loss: 0.1655 - val_recall: 0.9218\n",
      "Epoch 36/100\n",
      "27/27 [==============================] - 1s 43ms/step - loss: 0.1665 - recall: 0.9219 - val_loss: 0.1638 - val_recall: 0.9221\n",
      "Epoch 37/100\n",
      "27/27 [==============================] - 1s 37ms/step - loss: 0.1621 - recall: 0.9222 - val_loss: 0.1627 - val_recall: 0.9224\n",
      "Epoch 38/100\n",
      "27/27 [==============================] - 1s 43ms/step - loss: 0.1647 - recall: 0.9225 - val_loss: 0.1599 - val_recall: 0.9227\n",
      "Epoch 39/100\n",
      "27/27 [==============================] - 1s 39ms/step - loss: 0.1609 - recall: 0.9228 - val_loss: 0.1571 - val_recall: 0.9230\n",
      "Epoch 40/100\n",
      "27/27 [==============================] - 1s 38ms/step - loss: 0.1578 - recall: 0.9231 - val_loss: 0.1551 - val_recall: 0.9233\n",
      "Epoch 41/100\n",
      "27/27 [==============================] - 1s 52ms/step - loss: 0.1555 - recall: 0.9234 - val_loss: 0.1534 - val_recall: 0.9236\n",
      "Epoch 42/100\n",
      "27/27 [==============================] - 1s 53ms/step - loss: 0.1522 - recall: 0.9237 - val_loss: 0.1513 - val_recall: 0.9239\n",
      "Epoch 43/100\n",
      "27/27 [==============================] - 1s 52ms/step - loss: 0.1529 - recall: 0.9240 - val_loss: 0.1501 - val_recall: 0.9242\n",
      "Epoch 44/100\n",
      "27/27 [==============================] - 1s 45ms/step - loss: 0.1538 - recall: 0.9242 - val_loss: 0.1476 - val_recall: 0.9244\n",
      "Epoch 45/100\n",
      "27/27 [==============================] - 1s 46ms/step - loss: 0.1481 - recall: 0.9245 - val_loss: 0.1462 - val_recall: 0.9247\n",
      "Epoch 46/100\n",
      "27/27 [==============================] - 1s 36ms/step - loss: 0.1486 - recall: 0.9248 - val_loss: 0.1447 - val_recall: 0.9250\n",
      "Epoch 47/100\n",
      "27/27 [==============================] - 1s 32ms/step - loss: 0.1420 - recall: 0.9251 - val_loss: 0.1430 - val_recall: 0.9253\n",
      "Epoch 48/100\n",
      "27/27 [==============================] - 1s 30ms/step - loss: 0.1410 - recall: 0.9254 - val_loss: 0.1421 - val_recall: 0.9256\n",
      "Epoch 49/100\n",
      "27/27 [==============================] - 1s 28ms/step - loss: 0.1388 - recall: 0.9257 - val_loss: 0.1406 - val_recall: 0.9259\n",
      "Epoch 50/100\n",
      "27/27 [==============================] - 1s 26ms/step - loss: 0.1399 - recall: 0.9260 - val_loss: 0.1385 - val_recall: 0.9262\n",
      "Epoch 51/100\n",
      "27/27 [==============================] - 1s 36ms/step - loss: 0.1358 - recall: 0.9263 - val_loss: 0.1372 - val_recall: 0.9265\n",
      "Epoch 52/100\n",
      "27/27 [==============================] - 1s 40ms/step - loss: 0.1366 - recall: 0.9266 - val_loss: 0.1356 - val_recall: 0.9268\n",
      "Epoch 53/100\n",
      "27/27 [==============================] - 1s 28ms/step - loss: 0.1332 - recall: 0.9269 - val_loss: 0.1348 - val_recall: 0.9271\n",
      "Epoch 54/100\n",
      "27/27 [==============================] - 1s 25ms/step - loss: 0.1322 - recall: 0.9272 - val_loss: 0.1343 - val_recall: 0.9274\n",
      "Epoch 55/100\n",
      "27/27 [==============================] - 1s 26ms/step - loss: 0.1317 - recall: 0.9274 - val_loss: 0.1317 - val_recall: 0.9276\n",
      "Epoch 56/100\n",
      "27/27 [==============================] - 1s 34ms/step - loss: 0.1293 - recall: 0.9277 - val_loss: 0.1307 - val_recall: 0.9279\n",
      "Epoch 57/100\n",
      "27/27 [==============================] - 1s 32ms/step - loss: 0.1295 - recall: 0.9280 - val_loss: 0.1302 - val_recall: 0.9282\n",
      "Epoch 58/100\n",
      "27/27 [==============================] - 1s 35ms/step - loss: 0.1279 - recall: 0.9282 - val_loss: 0.1294 - val_recall: 0.9284\n",
      "Epoch 59/100\n",
      "27/27 [==============================] - 1s 31ms/step - loss: 0.1243 - recall: 0.9285 - val_loss: 0.1275 - val_recall: 0.9287\n",
      "Epoch 60/100\n",
      "27/27 [==============================] - 1s 38ms/step - loss: 0.1257 - recall: 0.9288 - val_loss: 0.1257 - val_recall: 0.9290\n",
      "Epoch 61/100\n",
      "27/27 [==============================] - 1s 43ms/step - loss: 0.1256 - recall: 0.9290 - val_loss: 0.1258 - val_recall: 0.9292\n",
      "Epoch 62/100\n",
      "27/27 [==============================] - 1s 37ms/step - loss: 0.1208 - recall: 0.9293 - val_loss: 0.1257 - val_recall: 0.9295\n",
      "Epoch 63/100\n",
      "27/27 [==============================] - 1s 36ms/step - loss: 0.1214 - recall: 0.9295 - val_loss: 0.1224 - val_recall: 0.9297\n",
      "Epoch 64/100\n",
      "27/27 [==============================] - 1s 39ms/step - loss: 0.1204 - recall: 0.9298 - val_loss: 0.1238 - val_recall: 0.9300\n",
      "Epoch 65/100\n",
      "27/27 [==============================] - 1s 38ms/step - loss: 0.1180 - recall: 0.9301 - val_loss: 0.1197 - val_recall: 0.9303\n",
      "Epoch 66/100\n",
      "27/27 [==============================] - 1s 32ms/step - loss: 0.1127 - recall: 0.9303 - val_loss: 0.1197 - val_recall: 0.9305\n",
      "Epoch 67/100\n",
      "27/27 [==============================] - 1s 35ms/step - loss: 0.1166 - recall: 0.9306 - val_loss: 0.1197 - val_recall: 0.9308\n",
      "Epoch 68/100\n",
      "27/27 [==============================] - 1s 34ms/step - loss: 0.1121 - recall: 0.9309 - val_loss: 0.1191 - val_recall: 0.9311\n",
      "Epoch 69/100\n",
      "27/27 [==============================] - 1s 40ms/step - loss: 0.1129 - recall: 0.9312 - val_loss: 0.1150 - val_recall: 0.9314\n",
      "Epoch 70/100\n",
      "27/27 [==============================] - 1s 32ms/step - loss: 0.1101 - recall: 0.9314 - val_loss: 0.1142 - val_recall: 0.9316\n",
      "Epoch 71/100\n",
      "27/27 [==============================] - 1s 36ms/step - loss: 0.1088 - recall: 0.9317 - val_loss: 0.1148 - val_recall: 0.9319\n",
      "Epoch 72/100\n",
      "27/27 [==============================] - 1s 36ms/step - loss: 0.1090 - recall: 0.9320 - val_loss: 0.1126 - val_recall: 0.9322\n",
      "Epoch 73/100\n",
      "27/27 [==============================] - 1s 37ms/step - loss: 0.1070 - recall: 0.9323 - val_loss: 0.1118 - val_recall: 0.9325\n",
      "Epoch 74/100\n",
      "27/27 [==============================] - 1s 31ms/step - loss: 0.1098 - recall: 0.9325 - val_loss: 0.1105 - val_recall: 0.9327\n",
      "Epoch 75/100\n",
      "27/27 [==============================] - 1s 35ms/step - loss: 0.1051 - recall: 0.9328 - val_loss: 0.1097 - val_recall: 0.9330\n",
      "Epoch 76/100\n",
      "27/27 [==============================] - 1s 38ms/step - loss: 0.1011 - recall: 0.9331 - val_loss: 0.1078 - val_recall: 0.9333\n",
      "Epoch 77/100\n",
      "27/27 [==============================] - 1s 24ms/step - loss: 0.1012 - recall: 0.9334 - val_loss: 0.1073 - val_recall: 0.9336\n",
      "Epoch 78/100\n",
      "27/27 [==============================] - 1s 23ms/step - loss: 0.1041 - recall: 0.9336 - val_loss: 0.1062 - val_recall: 0.9338\n",
      "Epoch 79/100\n",
      "27/27 [==============================] - 1s 32ms/step - loss: 0.1004 - recall: 0.9339 - val_loss: 0.1115 - val_recall: 0.9341\n",
      "Epoch 80/100\n",
      "27/27 [==============================] - 1s 30ms/step - loss: 0.1029 - recall: 0.9341 - val_loss: 0.1076 - val_recall: 0.9343\n",
      "Epoch 81/100\n",
      "27/27 [==============================] - 1s 34ms/step - loss: 0.0982 - recall: 0.9344 - val_loss: 0.1047 - val_recall: 0.9346\n",
      "Epoch 82/100\n",
      "27/27 [==============================] - 1s 31ms/step - loss: 0.1015 - recall: 0.9347 - val_loss: 0.1039 - val_recall: 0.9348\n",
      "Epoch 83/100\n",
      "27/27 [==============================] - 1s 30ms/step - loss: 0.0987 - recall: 0.9349 - val_loss: 0.1043 - val_recall: 0.9351\n",
      "Epoch 84/100\n",
      "27/27 [==============================] - 1s 27ms/step - loss: 0.0954 - recall: 0.9352 - val_loss: 0.1047 - val_recall: 0.9354\n",
      "Epoch 85/100\n",
      "27/27 [==============================] - 1s 24ms/step - loss: 0.0979 - recall: 0.9354 - val_loss: 0.1034 - val_recall: 0.9356\n",
      "Epoch 86/100\n",
      "27/27 [==============================] - 1s 25ms/step - loss: 0.0932 - recall: 0.9357 - val_loss: 0.1029 - val_recall: 0.9358\n",
      "Epoch 87/100\n",
      "27/27 [==============================] - 1s 29ms/step - loss: 0.0973 - recall: 0.9359 - val_loss: 0.1007 - val_recall: 0.9361\n",
      "Epoch 88/100\n",
      "27/27 [==============================] - 1s 29ms/step - loss: 0.0932 - recall: 0.9362 - val_loss: 0.1002 - val_recall: 0.9363\n",
      "Epoch 89/100\n",
      "27/27 [==============================] - 1s 27ms/step - loss: 0.0925 - recall: 0.9364 - val_loss: 0.0997 - val_recall: 0.9366\n",
      "Epoch 90/100\n",
      "27/27 [==============================] - 1s 32ms/step - loss: 0.0933 - recall: 0.9367 - val_loss: 0.0995 - val_recall: 0.9368\n",
      "Epoch 91/100\n",
      "27/27 [==============================] - 1s 30ms/step - loss: 0.0908 - recall: 0.9369 - val_loss: 0.1003 - val_recall: 0.9371\n",
      "Epoch 92/100\n",
      "27/27 [==============================] - 1s 31ms/step - loss: 0.0891 - recall: 0.9372 - val_loss: 0.0995 - val_recall: 0.9373\n",
      "Epoch 93/100\n",
      "27/27 [==============================] - 1s 30ms/step - loss: 0.0918 - recall: 0.9374 - val_loss: 0.0978 - val_recall: 0.9375\n",
      "Epoch 94/100\n",
      "27/27 [==============================] - 1s 27ms/step - loss: 0.0886 - recall: 0.9376 - val_loss: 0.0977 - val_recall: 0.9378\n",
      "Epoch 95/100\n",
      "27/27 [==============================] - 1s 29ms/step - loss: 0.0864 - recall: 0.9378 - val_loss: 0.0991 - val_recall: 0.9380\n",
      "Epoch 96/100\n",
      "27/27 [==============================] - 1s 27ms/step - loss: 0.0911 - recall: 0.9381 - val_loss: 0.0955 - val_recall: 0.9382\n",
      "Epoch 97/100\n",
      "27/27 [==============================] - 1s 26ms/step - loss: 0.0871 - recall: 0.9383 - val_loss: 0.0951 - val_recall: 0.9384\n",
      "Epoch 98/100\n",
      "27/27 [==============================] - 1s 25ms/step - loss: 0.0884 - recall: 0.9385 - val_loss: 0.0957 - val_recall: 0.9387\n",
      "Epoch 99/100\n",
      "27/27 [==============================] - 1s 25ms/step - loss: 0.0865 - recall: 0.9387 - val_loss: 0.0960 - val_recall: 0.9389\n",
      "Epoch 100/100\n",
      "27/27 [==============================] - 1s 25ms/step - loss: 0.0872 - recall: 0.9390 - val_loss: 0.0952 - val_recall: 0.9391\n"
     ]
    }
   ],
   "source": [
    "tf.keras.backend.clear_session()\n",
    "lstm_model = LSTM_model(op=40)\n",
    "\n",
    "# G_model.summary()\n",
    "lstm_history = lstm_model.fit(x_train, y_train,epochs=100,batch_size=1000,validation_split=0.2)"
   ]
  },
  {
   "cell_type": "code",
   "execution_count": 17,
   "id": "0cf2275a",
   "metadata": {},
   "outputs": [
    {
     "name": "stdout",
     "output_type": "stream",
     "text": [
      "dict_keys(['loss', 'recall', 'val_loss', 'val_recall'])\n"
     ]
    },
    {
     "data": {
      "image/png": "[encoded data removed]",
      "text/plain": [
       "<Figure size 432x288 with 1 Axes>"
      ]
     },
     "metadata": {
      "needs_background": "light"
     },
     "output_type": "display_data"
    },
    {
     "data": {
      "image/png": "[encoded data removed]",
      "text/plain": [
       "<Figure size 432x288 with 1 Axes>"
      ]
     },
     "metadata": {
      "needs_background": "light"
     },
     "output_type": "display_data"
    }
   ],
   "source": [
    "Evaluation.plot_history(lstm_history)"
   ]
  },
  {
   "cell_type": "code",
   "execution_count": 18,
   "id": "dc9ef197",
   "metadata": {},
   "outputs": [
    {
     "name": "stderr",
     "output_type": "stream",
     "text": [
      "/Users/paulokuong/Documents/personal/fourth_brain_course/env/lib/python3.7/site-packages/keras/engine/sequential.py:450: UserWarning: `model.predict_classes()` is deprecated and will be removed after 2021-01-01. Please use instead:* `np.argmax(model.predict(x), axis=-1)`,   if your model does multi-class classification   (e.g. if it uses a `softmax` last-layer activation).* `(model.predict(x) > 0.5).astype(\"int32\")`,   if your model does binary classification   (e.g. if it uses a `sigmoid` last-layer activation).\n",
      "  warnings.warn('`model.predict_classes()` is deprecated and '\n"
     ]
    },
    {
     "name": "stdout",
     "output_type": "stream",
     "text": [
      "Accuracy: 0.949341\n",
      "Precision: 0.770270\n",
      "Recall: 0.509383\n",
      "F1 score: 0.613233\n"
     ]
    }
   ],
   "source": [
    "Evaluation.evaluate_nn_model(x_test, y_test, lstm_model)"
   ]
  },
  {
   "cell_type": "code",
   "execution_count": null,
   "id": "9bac2f8b",
   "metadata": {},
   "outputs": [],
   "source": []
  }
 ],
 "metadata": {
  "kernelspec": {
   "display_name": "conda_python3",
   "language": "python",
   "name": "conda_python3"
  },
  "language_info": {
   "codemirror_mode": {
    "name": "ipython",
    "version": 3
   },
   "file_extension": ".py",
   "mimetype": "text/x-python",
   "name": "python",
   "nbconvert_exporter": "python",
   "pygments_lexer": "ipython3",
   "version": "3.6.13"
  }
 },
 "nbformat": 4,
 "nbformat_minor": 5
}
