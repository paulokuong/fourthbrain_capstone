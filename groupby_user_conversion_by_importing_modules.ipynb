{
 "cells": [
  {
   "cell_type": "markdown",
   "id": "71591270",
   "metadata": {},
   "source": [
    "## Problems"
   ]
  },
  {
   "cell_type": "markdown",
   "id": "4b73e8dc",
   "metadata": {},
   "source": [
    "### Conversion\n",
    "1.\tIs it possible to predict customer conversion (from viewing to purchasing)?\n",
    "2.\tCan we identify “new customers”? If yes then what is the best strategy to work with them?\n",
    "3.\tWhat are the top features that define customer conversion?\n",
    "4.\tCan we explain and visualize the predictive model for customer conversion on a journey and at a session level?\n",
    "5.\tIs there a pattern and trend across product types regarding the conversion event?\n",
    "\n",
    "### Personalization\n",
    "1.\tCan we personalize the experience from customer-product interactions?\n",
    "2.\tDoes the product catalogue information help in improving customer experience?\n",
    "3.\tCan personalized shopping experience be predictively modeled?\n",
    "4.\tCan we apply transfer learning from other E-commerce data sets to our local data set?"
   ]
  },
  {
   "cell_type": "code",
   "execution_count": 7,
   "id": "5478971f",
   "metadata": {
    "scrolled": true
   },
   "outputs": [
    {
     "name": "stdout",
     "output_type": "stream",
     "text": [
      "Requirement already satisfied: Flask==2.0.1 in /home/ec2-user/anaconda3/envs/python3/lib/python3.6/site-packages (from -r requirements.txt (line 1)) (2.0.1)\n",
      "Requirement already satisfied: flask-swagger==0.2.14 in /home/ec2-user/anaconda3/envs/python3/lib/python3.6/site-packages (from -r requirements.txt (line 2)) (0.2.14)\n",
      "Requirement already satisfied: xgboost in /home/ec2-user/anaconda3/envs/python3/lib/python3.6/site-packages (from -r requirements.txt (line 3)) (1.4.2)\n",
      "Requirement already satisfied: TPOT in /home/ec2-user/anaconda3/envs/python3/lib/python3.6/site-packages (from -r requirements.txt (line 4)) (0.11.7)\n",
      "Requirement already satisfied: keras in /home/ec2-user/anaconda3/envs/python3/lib/python3.6/site-packages (from -r requirements.txt (line 5)) (2.4.3)\n",
      "Collecting tensorflow\n",
      "  Downloading tensorflow-2.5.0-cp36-cp36m-manylinux2010_x86_64.whl (454.3 MB)\n",
      "\u001b[K     |█████████████████████           | 297.7 MB 123.1 MB/s eta 0:00:02   |███▉                            | 54.9 MB 23.9 MB/s eta 0:00:17"
     ]
    },
    {
     "name": "stderr",
     "output_type": "stream",
     "text": [
      "IOPub data rate exceeded.\n",
      "The notebook server will temporarily stop sending output\n",
      "to the client in order to avoid crashing it.\n",
      "To change this limit, set the config variable\n",
      "`--NotebookApp.iopub_data_rate_limit`.\n",
      "\n",
      "Current values:\n",
      "NotebookApp.iopub_data_rate_limit=1000000.0 (bytes/sec)\n",
      "NotebookApp.rate_limit_window=3.0 (secs)\n",
      "\n"
     ]
    },
    {
     "name": "stdout",
     "output_type": "stream",
     "text": [
      "\u001b[K     |████████████████████████████████| 454.3 MB 114.1 MB/s eta 0:00:01\u001b[K     |████████████████████████████████| 454.3 MB 12 kB/s \n",
      "\u001b[?25hRequirement already satisfied: Jinja2>=3.0 in /home/ec2-user/anaconda3/envs/python3/lib/python3.6/site-packages (from Flask==2.0.1->-r requirements.txt (line 1)) (3.0.1)\n",
      "Requirement already satisfied: itsdangerous>=2.0 in /home/ec2-user/anaconda3/envs/python3/lib/python3.6/site-packages (from Flask==2.0.1->-r requirements.txt (line 1)) (2.0.1)\n",
      "Requirement already satisfied: Werkzeug>=2.0 in /home/ec2-user/anaconda3/envs/python3/lib/python3.6/site-packages (from Flask==2.0.1->-r requirements.txt (line 1)) (2.0.1)\n",
      "Requirement already satisfied: click>=7.1.2 in /home/ec2-user/anaconda3/envs/python3/lib/python3.6/site-packages (from Flask==2.0.1->-r requirements.txt (line 1)) (7.1.2)\n",
      "Requirement already satisfied: PyYAML>=5.1 in /home/ec2-user/anaconda3/envs/python3/lib/python3.6/site-packages (from flask-swagger==0.2.14->-r requirements.txt (line 2)) (5.4.1)\n",
      "Requirement already satisfied: MarkupSafe>=2.0 in /home/ec2-user/anaconda3/envs/python3/lib/python3.6/site-packages (from Jinja2>=3.0->Flask==2.0.1->-r requirements.txt (line 1)) (2.0.1)\n",
      "Requirement already satisfied: dataclasses in /home/ec2-user/anaconda3/envs/python3/lib/python3.6/site-packages (from Werkzeug>=2.0->Flask==2.0.1->-r requirements.txt (line 1)) (0.8)\n",
      "Requirement already satisfied: scipy>=0.14 in /home/ec2-user/anaconda3/envs/python3/lib/python3.6/site-packages (from keras->-r requirements.txt (line 5)) (1.5.3)\n",
      "Requirement already satisfied: h5py in /home/ec2-user/anaconda3/envs/python3/lib/python3.6/site-packages (from keras->-r requirements.txt (line 5)) (3.1.0)\n",
      "Requirement already satisfied: numpy>=1.9.1 in /home/ec2-user/anaconda3/envs/python3/lib/python3.6/site-packages (from keras->-r requirements.txt (line 5)) (1.19.5)\n",
      "Requirement already satisfied: typing-extensions~=3.7.4 in /home/ec2-user/anaconda3/envs/python3/lib/python3.6/site-packages (from tensorflow->-r requirements.txt (line 6)) (3.7.4.3)\n",
      "Requirement already satisfied: wrapt~=1.12.1 in /home/ec2-user/anaconda3/envs/python3/lib/python3.6/site-packages (from tensorflow->-r requirements.txt (line 6)) (1.12.1)\n",
      "Requirement already satisfied: wheel~=0.35 in /home/ec2-user/anaconda3/envs/python3/lib/python3.6/site-packages (from tensorflow->-r requirements.txt (line 6)) (0.36.2)\n",
      "Collecting gast==0.4.0\n",
      "  Downloading gast-0.4.0-py3-none-any.whl (9.8 kB)\n",
      "Collecting tensorflow-estimator<2.6.0,>=2.5.0rc0\n",
      "  Downloading tensorflow_estimator-2.5.0-py2.py3-none-any.whl (462 kB)\n",
      "\u001b[K     |████████████████████████████████| 462 kB 116.7 MB/s eta 0:00:01\n",
      "\u001b[?25hRequirement already satisfied: six~=1.15.0 in /home/ec2-user/anaconda3/envs/python3/lib/python3.6/site-packages (from tensorflow->-r requirements.txt (line 6)) (1.15.0)\n",
      "Collecting keras-preprocessing~=1.1.2\n",
      "  Downloading Keras_Preprocessing-1.1.2-py2.py3-none-any.whl (42 kB)\n",
      "\u001b[K     |████████████████████████████████| 42 kB 278 kB/s  eta 0:00:01\n",
      "\u001b[?25hCollecting keras-nightly~=2.5.0.dev\n",
      "  Downloading keras_nightly-2.5.0.dev2021032900-py2.py3-none-any.whl (1.2 MB)\n",
      "\u001b[K     |████████████████████████████████| 1.2 MB 114.6 MB/s eta 0:00:01\n",
      "\u001b[?25hCollecting astunparse~=1.6.3\n",
      "  Downloading astunparse-1.6.3-py2.py3-none-any.whl (12 kB)\n",
      "Collecting absl-py~=0.10\n",
      "  Downloading absl_py-0.13.0-py3-none-any.whl (132 kB)\n",
      "\u001b[K     |████████████████████████████████| 132 kB 116.6 MB/s eta 0:00:01\n",
      "\u001b[?25hCollecting flatbuffers~=1.12.0\n",
      "  Downloading flatbuffers-1.12-py2.py3-none-any.whl (15 kB)\n",
      "Collecting opt-einsum~=3.3.0\n",
      "  Downloading opt_einsum-3.3.0-py3-none-any.whl (65 kB)\n",
      "\u001b[K     |████████████████████████████████| 65 kB 7.8 MB/s s eta 0:00:01\n",
      "\u001b[?25hCollecting tensorboard~=2.5\n",
      "  Downloading tensorboard-2.5.0-py3-none-any.whl (6.0 MB)\n",
      "\u001b[K     |████████████████████████████████| 6.0 MB 113.5 MB/s eta 0:00:01\n",
      "\u001b[?25hRequirement already satisfied: protobuf>=3.9.2 in /home/ec2-user/anaconda3/envs/python3/lib/python3.6/site-packages (from tensorflow->-r requirements.txt (line 6)) (3.15.2)\n",
      "Requirement already satisfied: google-pasta~=0.2 in /home/ec2-user/anaconda3/envs/python3/lib/python3.6/site-packages (from tensorflow->-r requirements.txt (line 6)) (0.2.0)\n",
      "Collecting termcolor~=1.1.0\n",
      "  Downloading termcolor-1.1.0.tar.gz (3.9 kB)\n",
      "Collecting grpcio~=1.34.0\n",
      "  Downloading grpcio-1.34.1-cp36-cp36m-manylinux2014_x86_64.whl (4.0 MB)\n",
      "\u001b[K     |████████████████████████████████| 4.0 MB 106.0 MB/s eta 0:00:01\n",
      "\u001b[?25hRequirement already satisfied: cached-property in /home/ec2-user/anaconda3/envs/python3/lib/python3.6/site-packages (from h5py->keras->-r requirements.txt (line 5)) (1.5.1)\n",
      "Collecting markdown>=2.6.8\n",
      "  Downloading Markdown-3.3.4-py3-none-any.whl (97 kB)\n",
      "\u001b[K     |████████████████████████████████| 97 kB 13.3 MB/s  eta 0:00:01\n",
      "\u001b[?25hCollecting tensorboard-data-server<0.7.0,>=0.6.0\n",
      "  Downloading tensorboard_data_server-0.6.1-py3-none-manylinux2010_x86_64.whl (4.9 MB)\n",
      "\u001b[K     |████████████████████████████████| 4.9 MB 112.3 MB/s eta 0:00:01\n",
      "\u001b[?25hRequirement already satisfied: requests<3,>=2.21.0 in /home/ec2-user/anaconda3/envs/python3/lib/python3.6/site-packages (from tensorboard~=2.5->tensorflow->-r requirements.txt (line 6)) (2.25.1)\n",
      "Collecting tensorboard-plugin-wit>=1.6.0\n",
      "  Downloading tensorboard_plugin_wit-1.8.0-py3-none-any.whl (781 kB)\n",
      "\u001b[K     |████████████████████████████████| 781 kB 107.7 MB/s eta 0:00:01\n",
      "\u001b[?25hCollecting google-auth-oauthlib<0.5,>=0.4.1\n",
      "  Downloading google_auth_oauthlib-0.4.4-py2.py3-none-any.whl (18 kB)\n",
      "Requirement already satisfied: setuptools>=41.0.0 in /home/ec2-user/anaconda3/envs/python3/lib/python3.6/site-packages (from tensorboard~=2.5->tensorflow->-r requirements.txt (line 6)) (49.6.0.post20210108)\n",
      "Collecting google-auth<2,>=1.6.3\n",
      "  Downloading google_auth-1.31.0-py2.py3-none-any.whl (147 kB)\n",
      "\u001b[K     |████████████████████████████████| 147 kB 109.2 MB/s eta 0:00:01\n",
      "\u001b[?25hRequirement already satisfied: rsa<5,>=3.1.4 in /home/ec2-user/anaconda3/envs/python3/lib/python3.6/site-packages (from google-auth<2,>=1.6.3->tensorboard~=2.5->tensorflow->-r requirements.txt (line 6)) (4.7.2)\n",
      "Collecting cachetools<5.0,>=2.0.0\n",
      "  Downloading cachetools-4.2.2-py3-none-any.whl (11 kB)\n",
      "Collecting pyasn1-modules>=0.2.1\n",
      "  Downloading pyasn1_modules-0.2.8-py2.py3-none-any.whl (155 kB)\n",
      "\u001b[K     |████████████████████████████████| 155 kB 109.4 MB/s eta 0:00:01\n",
      "\u001b[?25hCollecting requests-oauthlib>=0.7.0\n",
      "  Downloading requests_oauthlib-1.3.0-py2.py3-none-any.whl (23 kB)\n",
      "Requirement already satisfied: importlib-metadata in /home/ec2-user/anaconda3/envs/python3/lib/python3.6/site-packages (from markdown>=2.6.8->tensorboard~=2.5->tensorflow->-r requirements.txt (line 6)) (3.7.0)\n",
      "Requirement already satisfied: pyasn1<0.5.0,>=0.4.6 in /home/ec2-user/anaconda3/envs/python3/lib/python3.6/site-packages (from pyasn1-modules>=0.2.1->google-auth<2,>=1.6.3->tensorboard~=2.5->tensorflow->-r requirements.txt (line 6)) (0.4.8)\n",
      "Requirement already satisfied: urllib3<1.27,>=1.21.1 in /home/ec2-user/anaconda3/envs/python3/lib/python3.6/site-packages (from requests<3,>=2.21.0->tensorboard~=2.5->tensorflow->-r requirements.txt (line 6)) (1.26.4)\n",
      "Requirement already satisfied: idna<3,>=2.5 in /home/ec2-user/anaconda3/envs/python3/lib/python3.6/site-packages (from requests<3,>=2.21.0->tensorboard~=2.5->tensorflow->-r requirements.txt (line 6)) (2.10)\n",
      "Requirement already satisfied: certifi>=2017.4.17 in /home/ec2-user/anaconda3/envs/python3/lib/python3.6/site-packages (from requests<3,>=2.21.0->tensorboard~=2.5->tensorflow->-r requirements.txt (line 6)) (2020.12.5)\n",
      "Requirement already satisfied: chardet<5,>=3.0.2 in /home/ec2-user/anaconda3/envs/python3/lib/python3.6/site-packages (from requests<3,>=2.21.0->tensorboard~=2.5->tensorflow->-r requirements.txt (line 6)) (3.0.4)\n",
      "Collecting oauthlib>=3.0.0\n",
      "  Downloading oauthlib-3.1.1-py2.py3-none-any.whl (146 kB)\n",
      "\u001b[K     |████████████████████████████████| 146 kB 116.6 MB/s eta 0:00:01\n",
      "\u001b[?25hRequirement already satisfied: pandas>=0.24.2 in /home/ec2-user/anaconda3/envs/python3/lib/python3.6/site-packages (from TPOT->-r requirements.txt (line 4)) (1.1.5)\n",
      "Requirement already satisfied: joblib>=0.13.2 in /home/ec2-user/anaconda3/envs/python3/lib/python3.6/site-packages (from TPOT->-r requirements.txt (line 4)) (1.0.1)\n",
      "Requirement already satisfied: tqdm>=4.36.1 in /home/ec2-user/anaconda3/envs/python3/lib/python3.6/site-packages (from TPOT->-r requirements.txt (line 4)) (4.61.1)\n",
      "Requirement already satisfied: scikit-learn>=0.22.0 in /home/ec2-user/anaconda3/envs/python3/lib/python3.6/site-packages (from TPOT->-r requirements.txt (line 4)) (0.24.1)\n",
      "Requirement already satisfied: stopit>=1.1.1 in /home/ec2-user/anaconda3/envs/python3/lib/python3.6/site-packages (from TPOT->-r requirements.txt (line 4)) (1.1.2)\n",
      "Requirement already satisfied: deap>=1.2 in /home/ec2-user/anaconda3/envs/python3/lib/python3.6/site-packages (from TPOT->-r requirements.txt (line 4)) (1.3.1)\n",
      "Requirement already satisfied: update-checker>=0.16 in /home/ec2-user/anaconda3/envs/python3/lib/python3.6/site-packages (from TPOT->-r requirements.txt (line 4)) (0.18.0)\n",
      "Requirement already satisfied: python-dateutil>=2.7.3 in /home/ec2-user/anaconda3/envs/python3/lib/python3.6/site-packages (from pandas>=0.24.2->TPOT->-r requirements.txt (line 4)) (2.8.1)\n",
      "Requirement already satisfied: pytz>=2017.2 in /home/ec2-user/anaconda3/envs/python3/lib/python3.6/site-packages (from pandas>=0.24.2->TPOT->-r requirements.txt (line 4)) (2021.1)\n",
      "Requirement already satisfied: threadpoolctl>=2.0.0 in /home/ec2-user/anaconda3/envs/python3/lib/python3.6/site-packages (from scikit-learn>=0.22.0->TPOT->-r requirements.txt (line 4)) (2.1.0)\n",
      "Requirement already satisfied: zipp>=0.5 in /home/ec2-user/anaconda3/envs/python3/lib/python3.6/site-packages (from importlib-metadata->markdown>=2.6.8->tensorboard~=2.5->tensorflow->-r requirements.txt (line 6)) (3.4.0)\n",
      "Building wheels for collected packages: termcolor\n",
      "  Building wheel for termcolor (setup.py) ... \u001b[?25ldone\n",
      "\u001b[?25h  Created wheel for termcolor: filename=termcolor-1.1.0-py3-none-any.whl size=4829 sha256=bfc85eff9df0a56e2483c9a6ae814319b3befadcb397b47ef3166a7ecd359528\n",
      "  Stored in directory: /home/ec2-user/.cache/pip/wheels/93/2a/eb/e58dbcbc963549ee4f065ff80a59f274cc7210b6eab962acdc\n",
      "Successfully built termcolor\n",
      "Installing collected packages: pyasn1-modules, oauthlib, cachetools, requests-oauthlib, google-auth, tensorboard-plugin-wit, tensorboard-data-server, markdown, grpcio, google-auth-oauthlib, absl-py, termcolor, tensorflow-estimator, tensorboard, opt-einsum, keras-preprocessing, keras-nightly, gast, flatbuffers, astunparse, tensorflow\n",
      "Successfully installed absl-py-0.13.0 astunparse-1.6.3 cachetools-4.2.2 flatbuffers-1.12 gast-0.4.0 google-auth-1.31.0 google-auth-oauthlib-0.4.4 grpcio-1.34.1 keras-nightly-2.5.0.dev2021032900 keras-preprocessing-1.1.2 markdown-3.3.4 oauthlib-3.1.1 opt-einsum-3.3.0 pyasn1-modules-0.2.8 requests-oauthlib-1.3.0 tensorboard-2.5.0 tensorboard-data-server-0.6.1 tensorboard-plugin-wit-1.8.0 tensorflow-2.5.0 tensorflow-estimator-2.5.0 termcolor-1.1.0\n"
     ]
    }
   ],
   "source": [
    "!pip install -r requirements.txt"
   ]
  },
  {
   "cell_type": "markdown",
   "id": "18d5e895",
   "metadata": {},
   "source": [
    "## Preprocessing"
   ]
  },
  {
   "cell_type": "code",
   "execution_count": 1,
   "id": "017b4cbc",
   "metadata": {},
   "outputs": [
    {
     "name": "stderr",
     "output_type": "stream",
     "text": [
      "/home/ec2-user/anaconda3/envs/python3/lib/python3.6/site-packages/tpot/builtins/__init__.py:36: UserWarning: Warning: optional dependency `torch` is not available. - skipping import of NN models.\n",
      "  warnings.warn(\"Warning: optional dependency `torch` is not available. - skipping import of NN models.\")\n"
     ]
    }
   ],
   "source": [
    "from groupby_user_conversion import GroupBy, FeatureSelection, Evaluation"
   ]
  },
  {
   "cell_type": "code",
   "execution_count": 2,
   "id": "014409d0",
   "metadata": {
    "scrolled": false
   },
   "outputs": [],
   "source": [
    "g = GroupBy('raw_data.json')\n",
    "preprocessed_data = g.preprocessing_for_bin_class()"
   ]
  },
  {
   "cell_type": "code",
   "execution_count": 3,
   "id": "c4336ba8",
   "metadata": {},
   "outputs": [
    {
     "name": "stdout",
     "output_type": "stream",
     "text": [
      "Feature \"source\" is highly related to \"has_campaign\". Remove \"source\"\n",
      "Feature \"sessionDuration\" is highly related to \"timeOnSiteSeconds\". Remove \"sessionDuration\"\n",
      "Feature \"uniqueViewProducts\" is highly related to \"events\". Remove \"uniqueViewProducts\"\n",
      "Feature \"totalViewProducts\" is highly related to \"events\". Remove \"totalViewProducts\"\n",
      "Feature \"totalSearches\" is highly related to \"events\". Remove \"totalSearches\"\n",
      "Feature \"totalRefinements\" is highly related to \"uniqueRefinements\". Remove \"totalRefinements\"\n",
      "Feature \"uniqueNavigations\" is highly related to \"uniqueRefinements\". Remove \"uniqueNavigations\"\n",
      "Feature \"totalAddToCartRevenue\" is highly related to \"uniqueAddToCarts\". Remove \"totalAddToCartRevenue\"\n",
      "Feature \"totalAddToCarts\" is highly related to \"uniqueAddToCarts\". Remove \"totalAddToCarts\"\n",
      "28\n",
      "               score                  feature\n",
      "feature 10  0.131887  totalViewProductRevenue\n",
      "feature 1   0.067064        timeOnSiteSeconds\n",
      "feature 7   0.056635         productPriceMean\n",
      "feature 13  0.051417         uniqueAddToCarts\n",
      "feature 2   0.040557                   events\n",
      "feature 11  0.029085           uniqueSearches\n",
      "feature 14  0.028335        totalAddToCartQty\n",
      "feature 15  0.015581                hourOfDay\n"
     ]
    }
   ],
   "source": [
    "# Select features\n",
    "new_features = FeatureSelection.by_coorelation(preprocessed_data['features'], debug=True)\n",
    "new_features = FeatureSelection.by_permutation_importance(x=new_features, y=preprocessed_data['label'], debug=True)"
   ]
  },
  {
   "cell_type": "markdown",
   "id": "4d03f473",
   "metadata": {},
   "source": [
    "## XGBoost Model Training"
   ]
  },
  {
   "cell_type": "code",
   "execution_count": 4,
   "id": "0a9a9d4a",
   "metadata": {
    "scrolled": true
   },
   "outputs": [],
   "source": [
    "xgb_model, test_x, test_y = GroupBy.train_xgb_bin_class(new_features, preprocessed_data['label'])"
   ]
  },
  {
   "cell_type": "code",
   "execution_count": 5,
   "id": "ad356bd6",
   "metadata": {},
   "outputs": [
    {
     "data": {
      "text/html": [
       "<div>\n",
       "<style scoped>\n",
       "    .dataframe tbody tr th:only-of-type {\n",
       "        vertical-align: middle;\n",
       "    }\n",
       "\n",
       "    .dataframe tbody tr th {\n",
       "        vertical-align: top;\n",
       "    }\n",
       "\n",
       "    .dataframe thead th {\n",
       "        text-align: right;\n",
       "    }\n",
       "</style>\n",
       "<table border=\"1\" class=\"dataframe\">\n",
       "  <thead>\n",
       "    <tr style=\"text-align: right;\">\n",
       "      <th></th>\n",
       "      <th>0</th>\n",
       "      <th>1</th>\n",
       "      <th>accuracy</th>\n",
       "      <th>macro avg</th>\n",
       "      <th>weighted avg</th>\n",
       "    </tr>\n",
       "  </thead>\n",
       "  <tbody>\n",
       "    <tr>\n",
       "      <th>precision</th>\n",
       "      <td>0.972228</td>\n",
       "      <td>0.734303</td>\n",
       "      <td>0.952627</td>\n",
       "      <td>0.853266</td>\n",
       "      <td>0.951772</td>\n",
       "    </tr>\n",
       "    <tr>\n",
       "      <th>recall</th>\n",
       "      <td>0.976052</td>\n",
       "      <td>0.703595</td>\n",
       "      <td>0.952627</td>\n",
       "      <td>0.839824</td>\n",
       "      <td>0.952627</td>\n",
       "    </tr>\n",
       "    <tr>\n",
       "      <th>f1-score</th>\n",
       "      <td>0.974136</td>\n",
       "      <td>0.718621</td>\n",
       "      <td>0.952627</td>\n",
       "      <td>0.846379</td>\n",
       "      <td>0.952168</td>\n",
       "    </tr>\n",
       "    <tr>\n",
       "      <th>support</th>\n",
       "      <td>14490.000000</td>\n",
       "      <td>1363.000000</td>\n",
       "      <td>0.952627</td>\n",
       "      <td>15853.000000</td>\n",
       "      <td>15853.000000</td>\n",
       "    </tr>\n",
       "  </tbody>\n",
       "</table>\n",
       "</div>"
      ],
      "text/plain": [
       "                      0            1  accuracy     macro avg  weighted avg\n",
       "precision      0.972228     0.734303  0.952627      0.853266      0.951772\n",
       "recall         0.976052     0.703595  0.952627      0.839824      0.952627\n",
       "f1-score       0.974136     0.718621  0.952627      0.846379      0.952168\n",
       "support    14490.000000  1363.000000  0.952627  15853.000000  15853.000000"
      ]
     },
     "execution_count": 5,
     "metadata": {},
     "output_type": "execute_result"
    }
   ],
   "source": [
    "Evaluation.evaluate_model(test_x, test_y, xgb_model)"
   ]
  },
  {
   "cell_type": "markdown",
   "id": "d2e98024",
   "metadata": {},
   "source": [
    "## Sequential Model Training"
   ]
  },
  {
   "cell_type": "code",
   "execution_count": 6,
   "id": "dd56a9a0",
   "metadata": {},
   "outputs": [
    {
     "data": {
      "image/png": "[encoded data removed]",
      "text/plain": [
       "<Figure size 432x288 with 1 Axes>"
      ]
     },
     "metadata": {
      "needs_background": "light"
     },
     "output_type": "display_data"
    }
   ],
   "source": [
    "preprocessed_data_for_lstm = g.preprocessing_for_sequence_model(num_of_events=30, debug=True)"
   ]
  },
  {
   "cell_type": "code",
   "execution_count": null,
   "id": "ed9375a4",
   "metadata": {},
   "outputs": [
    {
     "name": "stdout",
     "output_type": "stream",
     "text": [
      "Epoch 1/150\n"
     ]
    }
   ],
   "source": [
    "lstm_model, test_x, test_y = GroupBy.train_lstm(\n",
    "    preprocessed_data_for_lstm['features'], preprocessed_data_for_lstm['label'])"
   ]
  },
  {
   "cell_type": "code",
   "execution_count": null,
   "id": "640344fc",
   "metadata": {},
   "outputs": [],
   "source": [
    "Evaluation.plot_history(lstm_model.history)"
   ]
  },
  {
   "cell_type": "code",
   "execution_count": null,
   "id": "4a167c83",
   "metadata": {},
   "outputs": [],
   "source": [
    "Evaluation.evaluate_nn_model(test_x, test_y, lstm_model)"
   ]
  },
  {
   "cell_type": "code",
   "execution_count": null,
   "id": "bf08fcc4",
   "metadata": {},
   "outputs": [],
   "source": []
  }
 ],
 "metadata": {
  "kernelspec": {
   "display_name": "conda_python3",
   "language": "python",
   "name": "conda_python3"
  },
  "language_info": {
   "codemirror_mode": {
    "name": "ipython",
    "version": 3
   },
   "file_extension": ".py",
   "mimetype": "text/x-python",
   "name": "python",
   "nbconvert_exporter": "python",
   "pygments_lexer": "ipython3",
   "version": "3.6.13"
  }
 },
 "nbformat": 4,
 "nbformat_minor": 5
}
